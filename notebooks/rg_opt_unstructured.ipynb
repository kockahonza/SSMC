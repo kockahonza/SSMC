{
 "cells": [
  {
   "cell_type": "code",
   "execution_count": 1,
   "id": "2dc0a957-830f-4fa3-a2b8-4f1745d7911b",
   "metadata": {},
   "outputs": [],
   "source": [
    "using Revise\n",
    "includet(\"../cluster_env/runs/rg_opt_unstructured/job.jl\")"
   ]
  },
  {
   "cell_type": "code",
   "execution_count": 2,
   "id": "09f30d0f-c894-4e4d-96b1-3087492a750f",
   "metadata": {},
   "outputs": [],
   "source": [
    "using Base.Threads, OhMyThreads\n",
    "using BenchmarkTools\n",
    "using JLD2\n",
    "using Geppetto\n",
    "using Random, Distributions, StatsBase\n",
    "using Logging\n",
    "\n",
    "using Optimization, OptimizationBBO"
   ]
  },
  {
   "cell_type": "code",
   "execution_count": 4,
   "id": "7ac47e01-3fd0-45ea-8798-cac2877abbed",
   "metadata": {},
   "outputs": [],
   "source": [
    "using CairoMakie\n",
    "using GLMakie\n",
    "CairoMakie.activate!()\n",
    "# display(GLMakie.Screen(), f.figure)"
   ]
  },
  {
   "cell_type": "markdown",
   "id": "1b3eb299-423d-480f-952b-2e23567a329f",
   "metadata": {},
   "source": [
    "# Version 1 (testing, N fixed)"
   ]
  },
  {
   "cell_type": "code",
   "execution_count": 5,
   "id": "d65af803-ccf7-4a95-8d9e-b5e4489c053d",
   "metadata": {},
   "outputs": [
    {
     "name": "stdout",
     "output_type": "stream",
     "text": [
      "-0.07 - [1.7506365021860937, 2.764349576832359, 0.8867609274570353, 0.15302233864055, 0.8763735051443757, 0.17897633313623365]\n",
      "-0.07 - [1.7506365021860937, 2.764349576832359, 0.8867609274570353, 0.15302233864055, 0.8763735051443757, 0.17897633313623365]\n",
      "-0.17 - [0.5891824484618873, 2.6012381345241127, 0.9904206344258687, 0.12045884586538046, 0.6334459676085582, 0.48161924457171645]\n",
      " 33.190376 seconds (49.02 M allocations: 6.313 GiB, 1.44% gc time, 398.02% compilation time: <1% of which was recompilation)\n"
     ]
    },
    {
     "data": {
      "text/plain": [
       "-0.17"
      ]
     },
     "execution_count": 5,
     "metadata": {},
     "output_type": "execute_result"
    }
   ],
   "source": [
    "s, t = do_opt([0.9, 2., 1., 0.2, 0.5, 0.2];\n",
    "    solver=OptimizationBBO.BBO_separable_nes(),\n",
    "    maxtime=20,\n",
    "    timelimit=5\n",
    ")\n",
    "s.objective"
   ]
  },
  {
   "cell_type": "code",
   "execution_count": 35,
   "id": "6145eb77-e770-447a-991e-976432e153ee",
   "metadata": {},
   "outputs": [
    {
     "name": "stdout",
     "output_type": "stream",
     "text": [
      "-0.02 - [0.9, 2.0, 1.0, 0.2, 0.5, 0.2]\n",
      "-0.02 - [0.9, 2.0, 1.0, 0.2, 0.5, 0.2]\n",
      "-0.02 - [0.9, 2.0, 1.0, 0.2, 0.5, 0.2]\n",
      "-0.03 - [0.9, 2.0, 1.0, 0.3360077364410511, 0.5, 0.2]\n",
      "-0.06 - [0.7232334331426945, 2.681927176171312, 0.9165639554694722, 0.5369932067720602, 0.6519849902595407, 0.1612941320750216]\n",
      "-0.09 - [0.997187913129125, 2.925592389441608, 0.9646558893890944, 0.787371910885112, 0.829252749006762, 0.14898784214959956]\n",
      "-0.11 - [0.367453236097854, 5.511105841531281, 0.9401612767035017, 0.684288277077467, 0.6802234593269944, 0.26917528483275743]\n",
      "-0.11 - [0.367453236097854, 5.511105841531281, 0.9401612767035017, 0.684288277077467, 0.6802234593269944, 0.26917528483275743]\n",
      "-0.11 - [0.367453236097854, 5.511105841531281, 0.9401612767035017, 0.684288277077467, 0.6802234593269944, 0.26917528483275743]\n",
      "-0.13 - [0.39454441894642256, 3.744700764643164, 0.9394634534198767, 0.9172202512770082, 0.736594817963572, 0.2745014625112158]\n",
      "-0.13 - [0.39454441894642256, 3.744700764643164, 0.9394634534198767, 0.9172202512770082, 0.736594817963572, 0.2745014625112158]\n",
      "-0.13 - [0.39454441894642256, 3.744700764643164, 0.9394634534198767, 0.9172202512770082, 0.736594817963572, 0.2745014625112158]\n",
      " 69.551832 seconds (89.29 M allocations: 14.475 GiB, 1.30% gc time, 0.37% compilation time)\n"
     ]
    },
    {
     "data": {
      "text/plain": [
       "-0.13"
      ]
     },
     "execution_count": 35,
     "metadata": {},
     "output_type": "execute_result"
    }
   ],
   "source": [
    "s, t = do_opt([0.9, 2., 1., 0.2, 0.5, 0.2];\n",
    "    solver=Optim.ParticleSwarm(),\n",
    "    maxtime=60,\n",
    "    timelimit=5,\n",
    "    opt_bounds=false\n",
    ")\n",
    "s.objective"
   ]
  },
  {
   "cell_type": "code",
   "execution_count": null,
   "id": "cfbd3e14-936e-4122-96cc-fafbaa196be5",
   "metadata": {},
   "outputs": [],
   "source": []
  },
  {
   "cell_type": "code",
   "execution_count": 74,
   "id": "7e37e4ae-7890-417a-b6f6-453aea195280",
   "metadata": {},
   "outputs": [
    {
     "name": "stderr",
     "output_type": "stream",
     "text": [
      "\u001b[33m\u001b[1m┌ \u001b[22m\u001b[39m\u001b[33m\u001b[1mWarning: \u001b[22m\u001b[39mGetting less than 90.0% good runs!! cm is Dict(-1007 => 100)\n",
      "\u001b[33m\u001b[1m└ \u001b[22m\u001b[39m\u001b[90m@ Main ~/UCLOneDrive/Projects/SSMC/cluster_env/runs/rg_opt_unstructured/job.jl:271\u001b[39m\n",
      "\u001b[33m\u001b[1m┌ \u001b[22m\u001b[39m\u001b[33m\u001b[1mWarning: \u001b[22m\u001b[39mGetting less than 90.0% good runs!! cm is Dict(-1007 => 100)\n",
      "\u001b[33m\u001b[1m└ \u001b[22m\u001b[39m\u001b[90m@ Main ~/UCLOneDrive/Projects/SSMC/cluster_env/runs/rg_opt_unstructured/job.jl:271\u001b[39m\n"
     ]
    },
    {
     "name": "stdout",
     "output_type": "stream",
     "text": [
      "-0.03 - [0.9, 2.5, 1.0, 0.2, 0.5, 0.2]\n",
      "-0.04 - [0.9, 3.5, 1.0, 0.2, 0.5, 0.2]\n",
      "-0.07 - [0.897783286293195, 3.5, 1.0, 0.2, 0.5, 0.2]\n",
      "-0.08 - [0.22094934693785578, 3.5, 1.0, 0.2, 0.5, 0.2]\n",
      "-0.25 - [0.22094934693785578, 3.5, 1.0, 0.2, 0.6643541985029496, 0.2]\n",
      "-0.25 - [0.22094934693785578, 3.5, 1.0, 0.2, 0.6643541985029496, 0.2]\n",
      "-0.25 - [0.22094934693785578, 3.5, 1.0, 0.2, 0.6643541985029496, 0.2]\n",
      "315.755481 seconds (111.91 M allocations: 17.748 GiB, 0.94% gc time)\n"
     ]
    },
    {
     "data": {
      "text/plain": [
       "-0.25"
      ]
     },
     "execution_count": 74,
     "metadata": {},
     "output_type": "execute_result"
    },
    {
     "name": "stderr",
     "output_type": "stream",
     "text": [
      "WARNING: redefinition of constant OpenSSL_jll.PATH. This may fail, cause incorrect answers, or produce other errors.\n",
      "WARNING: redefinition of constant OpenSSL_jll.LIBPATH. This may fail, cause incorrect answers, or produce other errors.\n",
      "WARNING: redefinition of constant OpenSSL_jll.PATH_list. This may fail, cause incorrect answers, or produce other errors.\n",
      "WARNING: redefinition of constant OpenSSL_jll.LIBPATH_list. This may fail, cause incorrect answers, or produce other errors.\n",
      "\u001b[91m\u001b[1m┌ \u001b[22m\u001b[39m\u001b[91m\u001b[1mError: \u001b[22m\u001b[39mError watching manifest\n",
      "\u001b[91m\u001b[1m│ \u001b[22m\u001b[39m  exception =\n",
      "\u001b[91m\u001b[1m│ \u001b[22m\u001b[39m   cannot set type for global OpenSSL_jll.best_wrapper. It already has a value or is already set to a different type.\n",
      "\u001b[91m\u001b[1m│ \u001b[22m\u001b[39m   Stacktrace:\n",
      "\u001b[91m\u001b[1m│ \u001b[22m\u001b[39m    [1] top-level scope\n",
      "\u001b[91m\u001b[1m│ \u001b[22m\u001b[39m   \u001b[90m   @\u001b[39m \u001b[90m~/.julia/packages/JLLWrappers/GfYNv/src/\u001b[39m\u001b[90m\u001b[4mtoplevel_generators.jl:121\u001b[24m\u001b[39m\n",
      "\u001b[91m\u001b[1m│ \u001b[22m\u001b[39m   Revise evaluation error at /home/honza/.julia/packages/JLLWrappers/GfYNv/src/toplevel_generators.jl:121\n",
      "\u001b[91m\u001b[1m│ \u001b[22m\u001b[39m   \n",
      "\u001b[91m\u001b[1m│ \u001b[22m\u001b[39m   Stacktrace:\n",
      "\u001b[91m\u001b[1m│ \u001b[22m\u001b[39m    [1] \u001b[0m\u001b[1mmethods_by_execution!\u001b[22m\u001b[0m\u001b[1m(\u001b[22m\u001b[90minterp\u001b[39m::\u001b[0mJuliaInterpreter.NonRecursiveInterpreter, \u001b[90mmethodinfo\u001b[39m::\u001b[0mRevise.CodeTrackingMethodInfo, \u001b[90mmod\u001b[39m::\u001b[0mModule, \u001b[90mex\u001b[39m::\u001b[0mExpr; \u001b[90mmode\u001b[39m::\u001b[0mSymbol, \u001b[90mdisablebp\u001b[39m::\u001b[0mBool, \u001b[90malways_rethrow\u001b[39m::\u001b[0mBool, \u001b[90mkwargs\u001b[39m::\u001b[0m@Kwargs\u001b[90m{}\u001b[39m\u001b[0m\u001b[1m)\u001b[22m\n",
      "\u001b[91m\u001b[1m│ \u001b[22m\u001b[39m   \u001b[90m   @\u001b[39m \u001b[36mRevise\u001b[39m \u001b[90m~/.julia/packages/Revise/7QZSP/src/\u001b[39m\u001b[90m\u001b[4mlowered.jl:294\u001b[24m\u001b[39m\n",
      "\u001b[91m\u001b[1m└ \u001b[22m\u001b[39m\u001b[90m@ Revise ~/.julia/packages/Revise/7QZSP/src/pkgs.jl:473\u001b[39m\n"
     ]
    }
   ],
   "source": [
    "s, t = do_opt([0.9, 2., 1., 0.2, 0.5, 0.2];\n",
    "    solver=OptimizationBBO.BBO_generating_set_search(),\n",
    "    maxtime=60*5,\n",
    "    timelimit=5\n",
    ")\n",
    "s.objective"
   ]
  },
  {
   "cell_type": "code",
   "execution_count": 207,
   "id": "dddab51d-5bda-4ed3-8486-46f69128ade4",
   "metadata": {},
   "outputs": [
    {
     "data": {
      "text/plain": [
       "0.169"
      ]
     },
     "execution_count": 207,
     "metadata": {},
     "output_type": "execute_result"
    }
   ],
   "source": [
    "do_run1(s.u...; num_repeats=1000)"
   ]
  },
  {
   "cell_type": "markdown",
   "id": "8fde6fe7-13fe-4b0d-a602-46a7acca06b3",
   "metadata": {
    "jp-MarkdownHeadingCollapsed": true
   },
   "source": [
    "# BOSS"
   ]
  },
  {
   "cell_type": "code",
   "execution_count": 9,
   "id": "98eb52be-feb0-4197-ba8f-e8c6744173a0",
   "metadata": {},
   "outputs": [],
   "source": [
    "using BOSS"
   ]
  },
  {
   "cell_type": "code",
   "execution_count": 10,
   "id": "ecf786f2-4f2c-46f1-bf82-ae08660bf1ab",
   "metadata": {},
   "outputs": [
    {
     "data": {
      "text/plain": [
       "blackbox (generic function with 1 method)"
      ]
     },
     "execution_count": 10,
     "metadata": {},
     "output_type": "execute_result"
    }
   ],
   "source": [
    "function blackbox(x; noise_std=0.1)\n",
    "    y = exp(x[1]/10) * cos(2*x[1])\n",
    "    z = (1/2)^6 * (x[1]^2 - (15.)^2)\n",
    "    \n",
    "    y += rand(Normal(0., noise_std))\n",
    "    z += rand(Normal(0., noise_std))\n",
    "\n",
    "    return [y,z]\n",
    "end"
   ]
  },
  {
   "cell_type": "markdown",
   "id": "28cdd550-a569-45cc-b80c-9dfce43b45ce",
   "metadata": {
    "jp-MarkdownHeadingCollapsed": true
   },
   "source": [
    "# Bayesian Optimization from scikit-optimize"
   ]
  },
  {
   "cell_type": "code",
   "execution_count": 20,
   "id": "6a27559c-df92-43e8-980a-6aab5d3a61ec",
   "metadata": {},
   "outputs": [
    {
     "data": {
      "text/plain": [
       "Python: <module 'matplotlib.pyplot' from '/home/honza/UCLOneDrive/Projects/SSMC/.CondaPkg/.pixi/envs/default/lib/python3.12/site-packages/matplotlib/pyplot.py'>"
      ]
     },
     "execution_count": 20,
     "metadata": {},
     "output_type": "execute_result"
    }
   ],
   "source": [
    "using PythonCall\n",
    "np = pyimport(\"numpy\")\n",
    "skopt = pyimport(\"skopt\")\n",
    "skoplots = pyimport(\"skopt.plots\")\n",
    "plt = pyimport(\"matplotlib.pyplot\")"
   ]
  },
  {
   "cell_type": "code",
   "execution_count": 21,
   "id": "ad3b42d8-3168-4a52-975b-9ec1b0344c6d",
   "metadata": {},
   "outputs": [
    {
     "name": "stderr",
     "output_type": "stream",
     "text": [
      "\u001b[33m\u001b[1m┌ \u001b[22m\u001b[39m\u001b[33m\u001b[1mWarning: \u001b[22m\u001b[39mGetting less than 90.0% good runs!! cm is Dict(-1015 => 306, -2000 => 1, -1004 => 693)\n",
      "\u001b[33m\u001b[1m└ \u001b[22m\u001b[39m\u001b[90m@ Main ~/UCLOneDrive/Projects/SSMC/cluster_env/runs/rg_opt_unstructured/job.jl:280\u001b[39m\n",
      "\u001b[33m\u001b[1m┌ \u001b[22m\u001b[39m\u001b[33m\u001b[1mWarning: \u001b[22m\u001b[39mGetting less than 90.0% good runs!! cm is Dict(11 => 1000)\n",
      "\u001b[33m\u001b[1m└ \u001b[22m\u001b[39m\u001b[90m@ Main ~/UCLOneDrive/Projects/SSMC/cluster_env/runs/rg_opt_unstructured/job.jl:280\u001b[39m\n",
      "\u001b[33m\u001b[1m┌ \u001b[22m\u001b[39m\u001b[33m\u001b[1mWarning: \u001b[22m\u001b[39mGetting less than 90.0% good runs!! cm is Dict(-1015 => 306, -2000 => 1, -1004 => 693)\n",
      "\u001b[33m\u001b[1m└ \u001b[22m\u001b[39m\u001b[90m@ Main ~/UCLOneDrive/Projects/SSMC/cluster_env/runs/rg_opt_unstructured/job.jl:280\u001b[39m\n",
      "\u001b[33m\u001b[1m┌ \u001b[22m\u001b[39m\u001b[33m\u001b[1mWarning: \u001b[22m\u001b[39mGetting less than 90.0% good runs!! cm is Dict(11 => 1000)\n",
      "\u001b[33m\u001b[1m└ \u001b[22m\u001b[39m\u001b[90m@ Main ~/UCLOneDrive/Projects/SSMC/cluster_env/runs/rg_opt_unstructured/job.jl:280\u001b[39m\n",
      "\u001b[33m\u001b[1m┌ \u001b[22m\u001b[39m\u001b[33m\u001b[1mWarning: \u001b[22m\u001b[39mGetting less than 90.0% good runs!! cm is Dict(-1015 => 45, -1004 => 955)\n",
      "\u001b[33m\u001b[1m└ \u001b[22m\u001b[39m\u001b[90m@ Main ~/UCLOneDrive/Projects/SSMC/cluster_env/runs/rg_opt_unstructured/job.jl:280\u001b[39m\n",
      "\u001b[33m\u001b[1m┌ \u001b[22m\u001b[39m\u001b[33m\u001b[1mWarning: \u001b[22m\u001b[39mGetting less than 90.0% good runs!! cm is Dict(-1015 => 45, -1004 => 955)\n",
      "\u001b[33m\u001b[1m└ \u001b[22m\u001b[39m\u001b[90m@ Main ~/UCLOneDrive/Projects/SSMC/cluster_env/runs/rg_opt_unstructured/job.jl:280\u001b[39m\n",
      "\u001b[33m\u001b[1m┌ \u001b[22m\u001b[39m\u001b[33m\u001b[1mWarning: \u001b[22m\u001b[39mGetting less than 90.0% good runs!! cm is Dict(-1015 => 45, -1004 => 955)\n",
      "\u001b[33m\u001b[1m└ \u001b[22m\u001b[39m\u001b[90m@ Main ~/UCLOneDrive/Projects/SSMC/cluster_env/runs/rg_opt_unstructured/job.jl:280\u001b[39m\n",
      "\u001b[33m\u001b[1m┌ \u001b[22m\u001b[39m\u001b[33m\u001b[1mWarning: \u001b[22m\u001b[39mGetting less than 90.0% good runs!! cm is Dict(-1015 => 629, -1004 => 371)\n",
      "\u001b[33m\u001b[1m└ \u001b[22m\u001b[39m\u001b[90m@ Main ~/UCLOneDrive/Projects/SSMC/cluster_env/runs/rg_opt_unstructured/job.jl:280\u001b[39m\n",
      "\u001b[33m\u001b[1m┌ \u001b[22m\u001b[39m\u001b[33m\u001b[1mWarning: \u001b[22m\u001b[39mGetting less than 90.0% good runs!! cm is Dict(-1015 => 629, -1004 => 371)\n",
      "\u001b[33m\u001b[1m└ \u001b[22m\u001b[39m\u001b[90m@ Main ~/UCLOneDrive/Projects/SSMC/cluster_env/runs/rg_opt_unstructured/job.jl:280\u001b[39m\n",
      "\u001b[33m\u001b[1m┌ \u001b[22m\u001b[39m\u001b[33m\u001b[1mWarning: \u001b[22m\u001b[39mGetting less than 90.0% good runs!! cm is Dict(-1015 => 895, -1004 => 105)\n",
      "\u001b[33m\u001b[1m└ \u001b[22m\u001b[39m\u001b[90m@ Main ~/UCLOneDrive/Projects/SSMC/cluster_env/runs/rg_opt_unstructured/job.jl:280\u001b[39m\n",
      "\u001b[33m\u001b[1m┌ \u001b[22m\u001b[39m\u001b[33m\u001b[1mWarning: \u001b[22m\u001b[39mGetting less than 90.0% good runs!! cm is Dict(-1015 => 718, 11 => 17, -2000 => 5, -1004 => 260)\n",
      "\u001b[33m\u001b[1m└ \u001b[22m\u001b[39m\u001b[90m@ Main ~/UCLOneDrive/Projects/SSMC/cluster_env/runs/rg_opt_unstructured/job.jl:280\u001b[39m\n",
      "\u001b[33m\u001b[1m┌ \u001b[22m\u001b[39m\u001b[33m\u001b[1mWarning: \u001b[22m\u001b[39mGetting less than 90.0% good runs!! cm is Dict(-12 => 1, -1015 => 90, -11 => 5, 11 => 49, -13 => 1, -2000 => 174, -1004 => 679, -23 => 1)\n",
      "\u001b[33m\u001b[1m└ \u001b[22m\u001b[39m\u001b[90m@ Main ~/UCLOneDrive/Projects/SSMC/cluster_env/runs/rg_opt_unstructured/job.jl:280\u001b[39m\n",
      "\u001b[33m\u001b[1m┌ \u001b[22m\u001b[39m\u001b[33m\u001b[1mWarning: \u001b[22m\u001b[39mGetting less than 90.0% good runs!! cm is Dict(-12 => 1, -1015 => 90, -11 => 5, 11 => 49, -13 => 1, -2000 => 174, -1004 => 679, -23 => 1)\n",
      "\u001b[33m\u001b[1m└ \u001b[22m\u001b[39m\u001b[90m@ Main ~/UCLOneDrive/Projects/SSMC/cluster_env/runs/rg_opt_unstructured/job.jl:280\u001b[39m\n",
      "\u001b[33m\u001b[1m┌ \u001b[22m\u001b[39m\u001b[33m\u001b[1mWarning: \u001b[22m\u001b[39mGetting less than 90.0% good runs!! cm is Dict(-12 => 1, -1015 => 90, -11 => 5, 11 => 49, -13 => 1, -2000 => 174, -1004 => 679, -23 => 1)\n",
      "\u001b[33m\u001b[1m└ \u001b[22m\u001b[39m\u001b[90m@ Main ~/UCLOneDrive/Projects/SSMC/cluster_env/runs/rg_opt_unstructured/job.jl:280\u001b[39m\n",
      "\u001b[33m\u001b[1m┌ \u001b[22m\u001b[39m\u001b[33m\u001b[1mWarning: \u001b[22m\u001b[39mGetting less than 90.0% good runs!! cm is Dict(-12 => 1, -1015 => 90, -11 => 5, 11 => 49, -13 => 1, -2000 => 174, -1004 => 679, -23 => 1)\n",
      "\u001b[33m\u001b[1m└ \u001b[22m\u001b[39m\u001b[90m@ Main ~/UCLOneDrive/Projects/SSMC/cluster_env/runs/rg_opt_unstructured/job.jl:280\u001b[39m\n"
     ]
    },
    {
     "name": "stdout",
     "output_type": "stream",
     "text": [
      "9304.914564 seconds (7.39 G allocations: 1.068 TiB, 0.93% gc time)\n"
     ]
    },
    {
     "name": "stderr",
     "output_type": "stream",
     "text": [
      "\u001b[33m\u001b[1m┌ \u001b[22m\u001b[39m\u001b[33m\u001b[1mWarning: \u001b[22m\u001b[39mGetting less than 90.0% good runs!! cm is Dict(-1015 => 266, -1004 => 734)\n",
      "\u001b[33m\u001b[1m└ \u001b[22m\u001b[39m\u001b[90m@ Main ~/UCLOneDrive/Projects/SSMC/cluster_env/runs/rg_opt_unstructured/job.jl:280\u001b[39m\n"
     ]
    }
   ],
   "source": [
    "pc_func = u -> -do_run1(u...;\n",
    "    num_repeats=1000,\n",
    "    timelimit=5,\n",
    ")\n",
    "maxreal = 10.\n",
    "@time r = skopt.gp_minimize(pc_func,\n",
    "    [(0., maxreal), (0., maxreal), (0., 1.), (0., 1.), (0., 1.), (0., 1.)];\n",
    "    n_calls=500\n",
    ");"
   ]
  },
  {
   "cell_type": "code",
   "execution_count": 27,
   "id": "1e54cc3e-ae9b-42ed-802c-d3f82066c292",
   "metadata": {},
   "outputs": [
    {
     "data": {
      "text/plain": [
       "Python:\n",
       "          fun: -0.22991967871485944\n",
       "            x: [0.32552484621545463, 0.797225758288552, 1.0, 0.1154682260716453…\n",
       "    func_vals: [-0.000e+00 -0.000e+00 ... -5.005e-03 -2.004e-03]\n",
       "      x_iters: [[0.7884550941442593, 4.7176914856543215, 0.10996939316703261, 0…\n",
       "       models: [GaussianProcessRegressor(kernel=1**2 * Matern(length_scale=[1, …\n",
       "                                        n_restarts_optimizer=2, noise='gaussian…\n",
       "                                        normalize_y=True, random_state=19906879…\n",
       "                                        n_restarts_optimizer=2, noise='gaussian…\n",
       "                                        normalize_y=True, random_state=19906879…\n",
       "                                        n_restarts_optimizer=2, noise='gaussian…\n",
       "                                        normalize_y=True, random_state=19906879…\n",
       "                                        n_restarts_optimizer=2, noise='gaussian…\n",
       "                                        normalize_y=True, random_state=19906879…\n",
       "\u001b[90m                                                 ... 998 more lines ...\u001b[39m\n",
       "                                              y0: None\n",
       "                                    random_state: RandomState(MT19937)\n",
       "                                         verbose: False\n",
       "                                        callback: None\n",
       "                                        n_points: 10000\n",
       "                            n_restarts_optimizer: 5\n",
       "                                              xi: 0.01\n",
       "                                           kappa: 1.96\n",
       "                                          n_jobs: 1\n",
       "                                model_queue_size: None\n",
       "                                space_constraint: None\n",
       "               function: base_minimize"
      ]
     },
     "execution_count": 27,
     "metadata": {},
     "output_type": "execute_result"
    }
   ],
   "source": [
    "r"
   ]
  },
  {
   "cell_type": "code",
   "execution_count": 67,
   "id": "1dec205d-4247-4da3-9b0e-cbc699d3d0b9",
   "metadata": {},
   "outputs": [
    {
     "data": {
      "text/plain": [
       "Python: None"
      ]
     },
     "execution_count": 67,
     "metadata": {},
     "output_type": "execute_result"
    }
   ],
   "source": [
    "skoplots.plot_convergence(r)\n",
    "plt.show()"
   ]
  },
  {
   "cell_type": "code",
   "execution_count": 96,
   "id": "642066e7-ab65-4200-8438-a10856deb277",
   "metadata": {},
   "outputs": [
    {
     "data": {
      "text/plain": [
       "Python: None"
      ]
     },
     "execution_count": 96,
     "metadata": {},
     "output_type": "execute_result"
    }
   ],
   "source": [
    "skoplots.plot_objective(r;\n",
    "    dimensions=[\"m\", \"c\", \"l\", \"si\", \"sr\", \"sb\"]\n",
    ")\n",
    "plt.show()"
   ]
  },
  {
   "cell_type": "code",
   "execution_count": 89,
   "id": "cc6e53cc-b48d-455a-9f3c-a19089a50bf9",
   "metadata": {},
   "outputs": [
    {
     "data": {
      "text/latex": [
       "Python function \\texttt{plot\\_objective}.\n",
       "\n",
       "\\begin{verbatim}\n",
       "Plot a 2-d matrix with so-called Partial Dependence plots of the objective\n",
       "function. This shows the influence of each search-space dimension on the objective\n",
       "function.\n",
       "\n",
       "This uses the last fitted model for estimating the objective function.\n",
       "\n",
       "The diagonal shows the effect of a single dimension on the\n",
       "objective function, while the plots below the diagonal show\n",
       "the effect on the objective function when varying two dimensions.\n",
       "\n",
       "The Partial Dependence is calculated by averaging the objective value\n",
       "for a number of random samples in the search-space,\n",
       "while keeping one or two dimensions fixed at regular intervals. This\n",
       "averages out the effect of varying the other dimensions and shows\n",
       "the influence of one or two dimensions on the objective function.\n",
       "\n",
       "Also shown are small black dots for the points that were sampled\n",
       "during optimization.\n",
       "\n",
       "A red star indicates per default the best observed minimum, but\n",
       "this can be changed by changing argument ´minimum´.\n",
       "\n",
       ".. note::\n",
       "      The Partial Dependence plot is only an estimation of the surrogate\n",
       "      model which in turn is only an estimation of the true objective\n",
       "      function that has been optimized. This means the plots show\n",
       "      an \"estimate of an estimate\" and may therefore be quite imprecise,\n",
       "      especially if few samples have been collected during the\n",
       "      optimization\n",
       "      (e.g. less than 100-200 samples), and in regions of the search-space\n",
       "      that have been sparsely sampled (e.g. regions away from the optimum).\n",
       "      This means that the plots may change each time you run the\n",
       "      optimization and they should not be considered completely reliable.\n",
       "      These compromises are necessary because we cannot evaluate the\n",
       "      expensive objective function in order to plot it, so we have to use\n",
       "      the cheaper surrogate model to plot its contour. And in order to\n",
       "      show search-spaces with 3 dimensions or more in a 2-dimensional\n",
       "      plot,\n",
       "      we further need to map those dimensions to only 2-dimensions using\n",
       "      the Partial Dependence, which also causes distortions in the plots.\n",
       "\n",
       "Parameters\n",
       "----------\n",
       "result : `OptimizeResult`\n",
       "    The optimization results from calling e.g. `gp_minimize()`.\n",
       "\n",
       "levels : int, default=10\n",
       "    Number of levels to draw on the contour plot, passed directly\n",
       "    to `plt.contourf()`.\n",
       "\n",
       "n_points : int, default=40\n",
       "    Number of points at which to evaluate the partial dependence\n",
       "    along each dimension.\n",
       "\n",
       "n_samples : int, default=250\n",
       "    Number of samples to use for averaging the model function\n",
       "    at each of the `n_points` when `sample_method` is set to 'random'.\n",
       "\n",
       "size : float, default=2\n",
       "    Height (in inches) of each facet. Ignored if ``ax`` is provided.\n",
       "\n",
       "wspace : float, default=0.35\n",
       "    The width of the padding between subplots, as a fraction of the\n",
       "    average Axes width. Ignored if ``ax`` is provided.\n",
       "\n",
       "hspace : float, default=0.35\n",
       "   The height of the padding between subplots, as a fraction of the\n",
       "   average Axes height. Ignored if ``ax`` is provided.\n",
       "\n",
       "zscale : str, default='linear'\n",
       "    Scale to use for the z axis of the contour plots. Either 'linear'\n",
       "    or 'log'.\n",
       "\n",
       "dimensions : list of str, default=None\n",
       "    Labels of the dimension\n",
       "    variables. `None` defaults to `space.dimensions[i].name`, or\n",
       "    if also `None` to `['X_0', 'X_1', ..]`.\n",
       "\n",
       "plot_dims : list of str and int, default=None\n",
       "    List of dimension names or dimension indices from the\n",
       "    search-space dimensions to be included in the plot.\n",
       "    If `None` then use all dimensions except constant ones\n",
       "    from the search-space.\n",
       "\n",
       "sample_source : str or list of floats, default='random'\n",
       "    Defines to samples generation to use for averaging the model function\n",
       "    at each of the `n_points`.\n",
       "\n",
       "    A partial dependence plot is only generated, when `sample_source`\n",
       "    is set to 'random' and `n_samples` is sufficient.\n",
       "\n",
       "    `sample_source` can also be a list of\n",
       "    floats, which is then used for averaging.\n",
       "\n",
       "    Valid strings:\n",
       "\n",
       "    - 'random' - `n_samples` random samples will used\n",
       "    - 'result' - Use only the best observed parameters\n",
       "    - 'expected_minimum' - Parameters that gives the best\n",
       "      minimum Calculated using scipy's minimize method.\n",
       "      This method currently does not work with categorical values.\n",
       "    - 'expected_minimum_random' - Parameters that gives the\n",
       "      best minimum when using naive random sampling.\n",
       "      Works with categorical values.\n",
       "\n",
       "minimum : str or list of floats, default = 'result'\n",
       "    Defines the values for the red points in the plots.\n",
       "    Valid strings:\n",
       "\n",
       "    - 'result' - Use best observed parameters\n",
       "    - 'expected_minimum' - Parameters that gives the best\n",
       "      minimum Calculated using scipy's minimize method.\n",
       "      This method currently does not work with categorical values.\n",
       "    - 'expected_minimum_random' - Parameters that gives the\n",
       "      best minimum when using naive random sampling.\n",
       "      Works with categorical values\n",
       "\n",
       "n_minimum_search : int, default = None\n",
       "    Determines how many points should be evaluated\n",
       "    to find the minimum when using 'expected_minimum' or\n",
       "    'expected_minimum_random'. Parameter is used when\n",
       "    `sample_source` and/or `minimum` is set to\n",
       "    'expected_minimum' or 'expected_minimum_random'.\n",
       "\n",
       "show_points: bool, default = True\n",
       "    Choose whether to show evaluated points in the\n",
       "    contour plots.\n",
       "\n",
       "cmap: str or Colormap, default = 'viridis_r'\n",
       "    Color map for contour plots. Passed directly to\n",
       "    `plt.contourf()`\n",
       "\n",
       "ax: `Matplotlib.Axes`, default= None\n",
       "    An axis object in which to plot the dependence plot. If provided,\n",
       "    ``size`` is ignored and the caller is responsible for the size of the\n",
       "    plot.\n",
       "\n",
       "Returns\n",
       "-------\n",
       "ax : `Matplotlib.Axes`\n",
       "    The axes object the plot was drawn in\n",
       "\\end{verbatim}\n"
      ],
      "text/markdown": [
       "Python function `plot_objective`.\n",
       "\n",
       "```text\n",
       "Plot a 2-d matrix with so-called Partial Dependence plots of the objective\n",
       "function. This shows the influence of each search-space dimension on the objective\n",
       "function.\n",
       "\n",
       "This uses the last fitted model for estimating the objective function.\n",
       "\n",
       "The diagonal shows the effect of a single dimension on the\n",
       "objective function, while the plots below the diagonal show\n",
       "the effect on the objective function when varying two dimensions.\n",
       "\n",
       "The Partial Dependence is calculated by averaging the objective value\n",
       "for a number of random samples in the search-space,\n",
       "while keeping one or two dimensions fixed at regular intervals. This\n",
       "averages out the effect of varying the other dimensions and shows\n",
       "the influence of one or two dimensions on the objective function.\n",
       "\n",
       "Also shown are small black dots for the points that were sampled\n",
       "during optimization.\n",
       "\n",
       "A red star indicates per default the best observed minimum, but\n",
       "this can be changed by changing argument ´minimum´.\n",
       "\n",
       ".. note::\n",
       "      The Partial Dependence plot is only an estimation of the surrogate\n",
       "      model which in turn is only an estimation of the true objective\n",
       "      function that has been optimized. This means the plots show\n",
       "      an \"estimate of an estimate\" and may therefore be quite imprecise,\n",
       "      especially if few samples have been collected during the\n",
       "      optimization\n",
       "      (e.g. less than 100-200 samples), and in regions of the search-space\n",
       "      that have been sparsely sampled (e.g. regions away from the optimum).\n",
       "      This means that the plots may change each time you run the\n",
       "      optimization and they should not be considered completely reliable.\n",
       "      These compromises are necessary because we cannot evaluate the\n",
       "      expensive objective function in order to plot it, so we have to use\n",
       "      the cheaper surrogate model to plot its contour. And in order to\n",
       "      show search-spaces with 3 dimensions or more in a 2-dimensional\n",
       "      plot,\n",
       "      we further need to map those dimensions to only 2-dimensions using\n",
       "      the Partial Dependence, which also causes distortions in the plots.\n",
       "\n",
       "Parameters\n",
       "----------\n",
       "result : `OptimizeResult`\n",
       "    The optimization results from calling e.g. `gp_minimize()`.\n",
       "\n",
       "levels : int, default=10\n",
       "    Number of levels to draw on the contour plot, passed directly\n",
       "    to `plt.contourf()`.\n",
       "\n",
       "n_points : int, default=40\n",
       "    Number of points at which to evaluate the partial dependence\n",
       "    along each dimension.\n",
       "\n",
       "n_samples : int, default=250\n",
       "    Number of samples to use for averaging the model function\n",
       "    at each of the `n_points` when `sample_method` is set to 'random'.\n",
       "\n",
       "size : float, default=2\n",
       "    Height (in inches) of each facet. Ignored if ``ax`` is provided.\n",
       "\n",
       "wspace : float, default=0.35\n",
       "    The width of the padding between subplots, as a fraction of the\n",
       "    average Axes width. Ignored if ``ax`` is provided.\n",
       "\n",
       "hspace : float, default=0.35\n",
       "   The height of the padding between subplots, as a fraction of the\n",
       "   average Axes height. Ignored if ``ax`` is provided.\n",
       "\n",
       "zscale : str, default='linear'\n",
       "    Scale to use for the z axis of the contour plots. Either 'linear'\n",
       "    or 'log'.\n",
       "\n",
       "dimensions : list of str, default=None\n",
       "    Labels of the dimension\n",
       "    variables. `None` defaults to `space.dimensions[i].name`, or\n",
       "    if also `None` to `['X_0', 'X_1', ..]`.\n",
       "\n",
       "plot_dims : list of str and int, default=None\n",
       "    List of dimension names or dimension indices from the\n",
       "    search-space dimensions to be included in the plot.\n",
       "    If `None` then use all dimensions except constant ones\n",
       "    from the search-space.\n",
       "\n",
       "sample_source : str or list of floats, default='random'\n",
       "    Defines to samples generation to use for averaging the model function\n",
       "    at each of the `n_points`.\n",
       "\n",
       "    A partial dependence plot is only generated, when `sample_source`\n",
       "    is set to 'random' and `n_samples` is sufficient.\n",
       "\n",
       "    `sample_source` can also be a list of\n",
       "    floats, which is then used for averaging.\n",
       "\n",
       "    Valid strings:\n",
       "\n",
       "    - 'random' - `n_samples` random samples will used\n",
       "    - 'result' - Use only the best observed parameters\n",
       "    - 'expected_minimum' - Parameters that gives the best\n",
       "      minimum Calculated using scipy's minimize method.\n",
       "      This method currently does not work with categorical values.\n",
       "    - 'expected_minimum_random' - Parameters that gives the\n",
       "      best minimum when using naive random sampling.\n",
       "      Works with categorical values.\n",
       "\n",
       "minimum : str or list of floats, default = 'result'\n",
       "    Defines the values for the red points in the plots.\n",
       "    Valid strings:\n",
       "\n",
       "    - 'result' - Use best observed parameters\n",
       "    - 'expected_minimum' - Parameters that gives the best\n",
       "      minimum Calculated using scipy's minimize method.\n",
       "      This method currently does not work with categorical values.\n",
       "    - 'expected_minimum_random' - Parameters that gives the\n",
       "      best minimum when using naive random sampling.\n",
       "      Works with categorical values\n",
       "\n",
       "n_minimum_search : int, default = None\n",
       "    Determines how many points should be evaluated\n",
       "    to find the minimum when using 'expected_minimum' or\n",
       "    'expected_minimum_random'. Parameter is used when\n",
       "    `sample_source` and/or `minimum` is set to\n",
       "    'expected_minimum' or 'expected_minimum_random'.\n",
       "\n",
       "show_points: bool, default = True\n",
       "    Choose whether to show evaluated points in the\n",
       "    contour plots.\n",
       "\n",
       "cmap: str or Colormap, default = 'viridis_r'\n",
       "    Color map for contour plots. Passed directly to\n",
       "    `plt.contourf()`\n",
       "\n",
       "ax: `Matplotlib.Axes`, default= None\n",
       "    An axis object in which to plot the dependence plot. If provided,\n",
       "    ``size`` is ignored and the caller is responsible for the size of the\n",
       "    plot.\n",
       "\n",
       "Returns\n",
       "-------\n",
       "ax : `Matplotlib.Axes`\n",
       "    The axes object the plot was drawn in\n",
       "```\n"
      ],
      "text/plain": [
       "  Python function \u001b[36mplot_objective\u001b[39m.\n",
       "\n",
       "\u001b[36m  Plot a 2-d matrix with so-called Partial Dependence plots of the objective\u001b[39m\n",
       "\u001b[36m  function. This shows the influence of each search-space dimension on the objective\u001b[39m\n",
       "\u001b[36m  function.\u001b[39m\n",
       "\u001b[36m  \u001b[39m\n",
       "\u001b[36m  This uses the last fitted model for estimating the objective function.\u001b[39m\n",
       "\u001b[36m  \u001b[39m\n",
       "\u001b[36m  The diagonal shows the effect of a single dimension on the\u001b[39m\n",
       "\u001b[36m  objective function, while the plots below the diagonal show\u001b[39m\n",
       "\u001b[36m  the effect on the objective function when varying two dimensions.\u001b[39m\n",
       "\u001b[36m  \u001b[39m\n",
       "\u001b[36m  The Partial Dependence is calculated by averaging the objective value\u001b[39m\n",
       "\u001b[36m  for a number of random samples in the search-space,\u001b[39m\n",
       "\u001b[36m  while keeping one or two dimensions fixed at regular intervals. This\u001b[39m\n",
       "\u001b[36m  averages out the effect of varying the other dimensions and shows\u001b[39m\n",
       "\u001b[36m  the influence of one or two dimensions on the objective function.\u001b[39m\n",
       "\u001b[36m  \u001b[39m\n",
       "\u001b[36m  Also shown are small black dots for the points that were sampled\u001b[39m\n",
       "\u001b[36m  during optimization.\u001b[39m\n",
       "\u001b[36m  \u001b[39m\n",
       "\u001b[36m  A red star indicates per default the best observed minimum, but\u001b[39m\n",
       "\u001b[36m  this can be changed by changing argument ´minimum´.\u001b[39m\n",
       "\u001b[36m  \u001b[39m\n",
       "\u001b[36m  .. note::\u001b[39m\n",
       "\u001b[36m        The Partial Dependence plot is only an estimation of the surrogate\u001b[39m\n",
       "\u001b[36m        model which in turn is only an estimation of the true objective\u001b[39m\n",
       "\u001b[36m        function that has been optimized. This means the plots show\u001b[39m\n",
       "\u001b[36m        an \"estimate of an estimate\" and may therefore be quite imprecise,\u001b[39m\n",
       "\u001b[36m        especially if few samples have been collected during the\u001b[39m\n",
       "\u001b[36m        optimization\u001b[39m\n",
       "\u001b[36m        (e.g. less than 100-200 samples), and in regions of the search-space\u001b[39m\n",
       "\u001b[36m        that have been sparsely sampled (e.g. regions away from the optimum).\u001b[39m\n",
       "\u001b[36m        This means that the plots may change each time you run the\u001b[39m\n",
       "\u001b[36m        optimization and they should not be considered completely reliable.\u001b[39m\n",
       "\u001b[36m        These compromises are necessary because we cannot evaluate the\u001b[39m\n",
       "\u001b[36m        expensive objective function in order to plot it, so we have to use\u001b[39m\n",
       "\u001b[36m        the cheaper surrogate model to plot its contour. And in order to\u001b[39m\n",
       "\u001b[36m        show search-spaces with 3 dimensions or more in a 2-dimensional\u001b[39m\n",
       "\u001b[36m        plot,\u001b[39m\n",
       "\u001b[36m        we further need to map those dimensions to only 2-dimensions using\u001b[39m\n",
       "\u001b[36m        the Partial Dependence, which also causes distortions in the plots.\u001b[39m\n",
       "\u001b[36m  \u001b[39m\n",
       "\u001b[36m  Parameters\u001b[39m\n",
       "\u001b[36m  ----------\u001b[39m\n",
       "\u001b[36m  result : `OptimizeResult`\u001b[39m\n",
       "\u001b[36m      The optimization results from calling e.g. `gp_minimize()`.\u001b[39m\n",
       "\u001b[36m  \u001b[39m\n",
       "\u001b[36m  levels : int, default=10\u001b[39m\n",
       "\u001b[36m      Number of levels to draw on the contour plot, passed directly\u001b[39m\n",
       "\u001b[36m      to `plt.contourf()`.\u001b[39m\n",
       "\u001b[36m  \u001b[39m\n",
       "\u001b[36m  n_points : int, default=40\u001b[39m\n",
       "\u001b[36m      Number of points at which to evaluate the partial dependence\u001b[39m\n",
       "\u001b[36m      along each dimension.\u001b[39m\n",
       "\u001b[36m  \u001b[39m\n",
       "\u001b[36m  n_samples : int, default=250\u001b[39m\n",
       "\u001b[36m      Number of samples to use for averaging the model function\u001b[39m\n",
       "\u001b[36m      at each of the `n_points` when `sample_method` is set to 'random'.\u001b[39m\n",
       "\u001b[36m  \u001b[39m\n",
       "\u001b[36m  size : float, default=2\u001b[39m\n",
       "\u001b[36m      Height (in inches) of each facet. Ignored if ``ax`` is provided.\u001b[39m\n",
       "\u001b[36m  \u001b[39m\n",
       "\u001b[36m  wspace : float, default=0.35\u001b[39m\n",
       "\u001b[36m      The width of the padding between subplots, as a fraction of the\u001b[39m\n",
       "\u001b[36m      average Axes width. Ignored if ``ax`` is provided.\u001b[39m\n",
       "\u001b[36m  \u001b[39m\n",
       "\u001b[36m  hspace : float, default=0.35\u001b[39m\n",
       "\u001b[36m     The height of the padding between subplots, as a fraction of the\u001b[39m\n",
       "\u001b[36m     average Axes height. Ignored if ``ax`` is provided.\u001b[39m\n",
       "\u001b[36m  \u001b[39m\n",
       "\u001b[36m  zscale : str, default='linear'\u001b[39m\n",
       "\u001b[36m      Scale to use for the z axis of the contour plots. Either 'linear'\u001b[39m\n",
       "\u001b[36m      or 'log'.\u001b[39m\n",
       "\u001b[36m  \u001b[39m\n",
       "\u001b[36m  dimensions : list of str, default=None\u001b[39m\n",
       "\u001b[36m      Labels of the dimension\u001b[39m\n",
       "\u001b[36m      variables. `None` defaults to `space.dimensions[i].name`, or\u001b[39m\n",
       "\u001b[36m      if also `None` to `['X_0', 'X_1', ..]`.\u001b[39m\n",
       "\u001b[36m  \u001b[39m\n",
       "\u001b[36m  plot_dims : list of str and int, default=None\u001b[39m\n",
       "\u001b[36m      List of dimension names or dimension indices from the\u001b[39m\n",
       "\u001b[36m      search-space dimensions to be included in the plot.\u001b[39m\n",
       "\u001b[36m      If `None` then use all dimensions except constant ones\u001b[39m\n",
       "\u001b[36m      from the search-space.\u001b[39m\n",
       "\u001b[36m  \u001b[39m\n",
       "\u001b[36m  sample_source : str or list of floats, default='random'\u001b[39m\n",
       "\u001b[36m      Defines to samples generation to use for averaging the model function\u001b[39m\n",
       "\u001b[36m      at each of the `n_points`.\u001b[39m\n",
       "\u001b[36m  \u001b[39m\n",
       "\u001b[36m      A partial dependence plot is only generated, when `sample_source`\u001b[39m\n",
       "\u001b[36m      is set to 'random' and `n_samples` is sufficient.\u001b[39m\n",
       "\u001b[36m  \u001b[39m\n",
       "\u001b[36m      `sample_source` can also be a list of\u001b[39m\n",
       "\u001b[36m      floats, which is then used for averaging.\u001b[39m\n",
       "\u001b[36m  \u001b[39m\n",
       "\u001b[36m      Valid strings:\u001b[39m\n",
       "\u001b[36m  \u001b[39m\n",
       "\u001b[36m      - 'random' - `n_samples` random samples will used\u001b[39m\n",
       "\u001b[36m      - 'result' - Use only the best observed parameters\u001b[39m\n",
       "\u001b[36m      - 'expected_minimum' - Parameters that gives the best\u001b[39m\n",
       "\u001b[36m        minimum Calculated using scipy's minimize method.\u001b[39m\n",
       "\u001b[36m        This method currently does not work with categorical values.\u001b[39m\n",
       "\u001b[36m      - 'expected_minimum_random' - Parameters that gives the\u001b[39m\n",
       "\u001b[36m        best minimum when using naive random sampling.\u001b[39m\n",
       "\u001b[36m        Works with categorical values.\u001b[39m\n",
       "\u001b[36m  \u001b[39m\n",
       "\u001b[36m  minimum : str or list of floats, default = 'result'\u001b[39m\n",
       "\u001b[36m      Defines the values for the red points in the plots.\u001b[39m\n",
       "\u001b[36m      Valid strings:\u001b[39m\n",
       "\u001b[36m  \u001b[39m\n",
       "\u001b[36m      - 'result' - Use best observed parameters\u001b[39m\n",
       "\u001b[36m      - 'expected_minimum' - Parameters that gives the best\u001b[39m\n",
       "\u001b[36m        minimum Calculated using scipy's minimize method.\u001b[39m\n",
       "\u001b[36m        This method currently does not work with categorical values.\u001b[39m\n",
       "\u001b[36m      - 'expected_minimum_random' - Parameters that gives the\u001b[39m\n",
       "\u001b[36m        best minimum when using naive random sampling.\u001b[39m\n",
       "\u001b[36m        Works with categorical values\u001b[39m\n",
       "\u001b[36m  \u001b[39m\n",
       "\u001b[36m  n_minimum_search : int, default = None\u001b[39m\n",
       "\u001b[36m      Determines how many points should be evaluated\u001b[39m\n",
       "\u001b[36m      to find the minimum when using 'expected_minimum' or\u001b[39m\n",
       "\u001b[36m      'expected_minimum_random'. Parameter is used when\u001b[39m\n",
       "\u001b[36m      `sample_source` and/or `minimum` is set to\u001b[39m\n",
       "\u001b[36m      'expected_minimum' or 'expected_minimum_random'.\u001b[39m\n",
       "\u001b[36m  \u001b[39m\n",
       "\u001b[36m  show_points: bool, default = True\u001b[39m\n",
       "\u001b[36m      Choose whether to show evaluated points in the\u001b[39m\n",
       "\u001b[36m      contour plots.\u001b[39m\n",
       "\u001b[36m  \u001b[39m\n",
       "\u001b[36m  cmap: str or Colormap, default = 'viridis_r'\u001b[39m\n",
       "\u001b[36m      Color map for contour plots. Passed directly to\u001b[39m\n",
       "\u001b[36m      `plt.contourf()`\u001b[39m\n",
       "\u001b[36m  \u001b[39m\n",
       "\u001b[36m  ax: `Matplotlib.Axes`, default= None\u001b[39m\n",
       "\u001b[36m      An axis object in which to plot the dependence plot. If provided,\u001b[39m\n",
       "\u001b[36m      ``size`` is ignored and the caller is responsible for the size of the\u001b[39m\n",
       "\u001b[36m      plot.\u001b[39m\n",
       "\u001b[36m  \u001b[39m\n",
       "\u001b[36m  Returns\u001b[39m\n",
       "\u001b[36m  -------\u001b[39m\n",
       "\u001b[36m  ax : `Matplotlib.Axes`\u001b[39m\n",
       "\u001b[36m      The axes object the plot was drawn in\u001b[39m"
      ]
     },
     "execution_count": 89,
     "metadata": {},
     "output_type": "execute_result"
    }
   ],
   "source": [
    "?skoplots.plot_objective"
   ]
  },
  {
   "cell_type": "code",
   "execution_count": null,
   "id": "51c67e07-6e4c-4c02-859e-239a99469036",
   "metadata": {},
   "outputs": [],
   "source": []
  },
  {
   "cell_type": "code",
   "execution_count": null,
   "id": "22c51f53-b3f6-46dd-8061-2b64e7f8ba47",
   "metadata": {},
   "outputs": [],
   "source": []
  },
  {
   "cell_type": "code",
   "execution_count": 66,
   "id": "6f922b65-8f38-44cb-bfe5-fa26f5f2e4c5",
   "metadata": {},
   "outputs": [],
   "source": [
    "jldsave(\"../data/rg_opt_scikit_bo.jld2\";\n",
    "    r,\n",
    "    us=[pyconvert(Vector, x) for x in r.x_iters],\n",
    "    fvals=pyconvert(Vector, r.func_vals)\n",
    ")"
   ]
  },
  {
   "cell_type": "markdown",
   "id": "d524dc98-2a6a-470e-bfff-695f44e62ac1",
   "metadata": {
    "jp-MarkdownHeadingCollapsed": true
   },
   "source": [
    "# Testing noisy optimization"
   ]
  },
  {
   "cell_type": "code",
   "execution_count": 44,
   "id": "f6d3db80-af99-44b9-aeb7-f68b3dca7bc2",
   "metadata": {},
   "outputs": [],
   "source": [
    "using OptimizationOptimJL, OptimizationBBO, OptimizationNOMAD"
   ]
  },
  {
   "cell_type": "code",
   "execution_count": 38,
   "id": "cca5a983-7eae-46f3-b2a4-c222f2ec7a95",
   "metadata": {},
   "outputs": [
    {
     "data": {
      "text/plain": [
       "tfunc1 (generic function with 3 methods)"
      ]
     },
     "execution_count": 38,
     "metadata": {},
     "output_type": "execute_result"
    }
   ],
   "source": [
    "function tfunc1(m, s=1, N=5)\n",
    "    d = Normal(m, s)\n",
    "    sleep(0.1)\n",
    "    mean(rand(d, N))\n",
    "end"
   ]
  },
  {
   "cell_type": "code",
   "execution_count": 39,
   "id": "ebb7be6a-1c5a-4944-895a-b2478052ad9d",
   "metadata": {},
   "outputs": [
    {
     "data": {
      "text/plain": [
       "\u001b[38;2;86;182;194mOptimizationProblem\u001b[0m. In-place: \u001b[38;2;86;182;194mtrue\u001b[0m\n",
       "u0: 1-element Vector{Float64}:\n",
       " -2.0"
      ]
     },
     "execution_count": 39,
     "metadata": {},
     "output_type": "execute_result"
    }
   ],
   "source": [
    "opf = OptimizationFunction((u,p)->tfunc1(u[1]))\n",
    "opp = OptimizationProblem(opf, [-2.]; lb=[-10.], ub=[1000])\n",
    "# opp = OptimizationProblem(opf, [-2.])"
   ]
  },
  {
   "cell_type": "code",
   "execution_count": 42,
   "id": "d6bd445b-17f6-4203-886f-ec1c75eca00b",
   "metadata": {},
   "outputs": [
    {
     "name": "stdout",
     "output_type": "stream",
     "text": [
      "  1.314570 seconds (316 allocations: 16.781 KiB)\n"
     ]
    },
    {
     "data": {
      "text/plain": [
       "retcode: MaxTime\n",
       "u: 1-element Vector{Float64}:\n",
       " -9.996961195627406"
      ]
     },
     "execution_count": 42,
     "metadata": {},
     "output_type": "execute_result"
    }
   ],
   "source": [
    "@time s = solve(opp, OptimizationBBO.BBO_generating_set_search(); maxtime=1)"
   ]
  },
  {
   "cell_type": "code",
   "execution_count": 43,
   "id": "bc981718-d985-4be3-8df8-0fb1b9a7eaac",
   "metadata": {},
   "outputs": [
    {
     "data": {
      "text/plain": [
       "12"
      ]
     },
     "execution_count": 43,
     "metadata": {},
     "output_type": "execute_result"
    }
   ],
   "source": [
    "s.original.f_calls"
   ]
  },
  {
   "cell_type": "code",
   "execution_count": null,
   "id": "131363af-8852-4682-b942-ff8b847ffa3c",
   "metadata": {},
   "outputs": [],
   "source": []
  },
  {
   "cell_type": "code",
   "execution_count": null,
   "id": "e5f0f969-3d21-433b-884f-e01001092e50",
   "metadata": {},
   "outputs": [],
   "source": []
  },
  {
   "cell_type": "code",
   "execution_count": null,
   "id": "ffd4427b-e43b-4ed9-a1d7-e441b9300b8e",
   "metadata": {},
   "outputs": [],
   "source": []
  },
  {
   "cell_type": "markdown",
   "id": "bd464950-70ab-4ba2-afbc-0bd86b68f483",
   "metadata": {
    "jp-MarkdownHeadingCollapsed": true
   },
   "source": [
    "# noisyopt"
   ]
  },
  {
   "cell_type": "code",
   "execution_count": 12,
   "id": "99a14e30-23f4-46f9-b192-5a475a4a5664",
   "metadata": {},
   "outputs": [
    {
     "data": {
      "text/plain": [
       "Python: <module 'noisyopt' from '/home/honza/UCLOneDrive/Projects/SSMC/.CondaPkg/.pixi/envs/default/lib/python3.12/site-packages/noisyopt/__init__.py'>"
      ]
     },
     "execution_count": 12,
     "metadata": {},
     "output_type": "execute_result"
    }
   ],
   "source": [
    "using PythonCall\n",
    "no = pyimport(\"noisyopt\")\n",
    "# np = pyimport(\"numpy\")\n",
    "# skopt = pyimport(\"skopt\")\n",
    "# skoplots = pyimport(\"skopt.plots\")\n",
    "# plt = pyimport(\"matplotlib.pyplot\")"
   ]
  },
  {
   "cell_type": "code",
   "execution_count": 18,
   "id": "d6917a87-b558-4663-aa9f-f9bd8c4b85e8",
   "metadata": {},
   "outputs": [
    {
     "name": "stderr",
     "output_type": "stream",
     "text": [
      "\u001b[33m\u001b[1m┌ \u001b[22m\u001b[39m\u001b[33m\u001b[1mWarning: \u001b[22m\u001b[39mgetting invalid params - (1.9, 1.0, 0.0, -0.8, 1.5, 1.2)\n",
      "\u001b[33m\u001b[1m└ \u001b[22m\u001b[39m\u001b[90m@ Main ~/UCLOneDrive/Projects/SSMC/cluster_env/runs/rg_opt_unstructured/job.jl:237\u001b[39m\n",
      "\u001b[33m\u001b[1m┌ \u001b[22m\u001b[39m\u001b[33m\u001b[1mWarning: \u001b[22m\u001b[39mgetting invalid params - (-0.09999999999999998, 3.0, 2.0, 1.2, -0.5, -0.8)\n",
      "\u001b[33m\u001b[1m└ \u001b[22m\u001b[39m\u001b[90m@ Main ~/UCLOneDrive/Projects/SSMC/cluster_env/runs/rg_opt_unstructured/job.jl:237\u001b[39m\n",
      "\u001b[33m\u001b[1m┌ \u001b[22m\u001b[39m\u001b[33m\u001b[1mWarning: \u001b[22m\u001b[39mgetting invalid params - (-0.032386486436832396, 2.9323864864368323, 0.06761351356316758, 1.1323864864368325, 1.4323864864368323, 1.1323864864368325)\n",
      "\u001b[33m\u001b[1m└ \u001b[22m\u001b[39m\u001b[90m@ Main ~/UCLOneDrive/Projects/SSMC/cluster_env/runs/rg_opt_unstructured/job.jl:237\u001b[39m\n",
      "\u001b[33m\u001b[1m┌ \u001b[22m\u001b[39m\u001b[33m\u001b[1mWarning: \u001b[22m\u001b[39mgetting invalid params - (1.8323864864368324, 1.0676135135631677, 1.9323864864368323, -0.7323864864368324, -0.4323864864368324, -0.7323864864368324)\n",
      "\u001b[33m\u001b[1m└ \u001b[22m\u001b[39m\u001b[90m@ Main ~/UCLOneDrive/Projects/SSMC/cluster_env/runs/rg_opt_unstructured/job.jl:237\u001b[39m\n",
      "\u001b[33m\u001b[1m┌ \u001b[22m\u001b[39m\u001b[33m\u001b[1mWarning: \u001b[22m\u001b[39mgetting invalid params - (1.7949746893567633, 2.894974689356763, 0.10502531064323672, 1.0949746893567633, 1.3949746893567632, 1.0949746893567633)\n",
      "\u001b[33m\u001b[1m└ \u001b[22m\u001b[39m\u001b[90m@ Main ~/UCLOneDrive/Projects/SSMC/cluster_env/runs/rg_opt_unstructured/job.jl:237\u001b[39m\n",
      "\u001b[33m\u001b[1m┌ \u001b[22m\u001b[39m\u001b[33m\u001b[1mWarning: \u001b[22m\u001b[39mgetting invalid params - (0.005025310643236747, 1.1050253106432368, 1.8949746893567632, -0.6949746893567632, -0.3949746893567633, -0.6949746893567632)\n",
      "\u001b[33m\u001b[1m└ \u001b[22m\u001b[39m\u001b[90m@ Main ~/UCLOneDrive/Projects/SSMC/cluster_env/runs/rg_opt_unstructured/job.jl:237\u001b[39m\n",
      "\u001b[33m\u001b[1m┌ \u001b[22m\u001b[39m\u001b[33m\u001b[1mWarning: \u001b[22m\u001b[39mgetting invalid params - (1.7693445600900217, 1.1306554399099782, 0.1306554399099783, 1.0693445600900218, 1.3693445600900218, -0.6693445600900216)\n",
      "\u001b[33m\u001b[1m└ \u001b[22m\u001b[39m\u001b[90m@ Main ~/UCLOneDrive/Projects/SSMC/cluster_env/runs/rg_opt_unstructured/job.jl:237\u001b[39m\n",
      "\u001b[33m\u001b[1m┌ \u001b[22m\u001b[39m\u001b[33m\u001b[1mWarning: \u001b[22m\u001b[39mgetting invalid params - (0.03065543990997832, 2.869344560090022, 1.8693445600900218, -0.6693445600900216, -0.3693445600900217, 1.0693445600900218)\n",
      "\u001b[33m\u001b[1m└ \u001b[22m\u001b[39m\u001b[90m@ Main ~/UCLOneDrive/Projects/SSMC/cluster_env/runs/rg_opt_unstructured/job.jl:237\u001b[39m\n",
      "\u001b[33m\u001b[1m┌ \u001b[22m\u001b[39m\u001b[33m\u001b[1mWarning: \u001b[22m\u001b[39mgetting invalid params - (1.7499708457906338, 1.1500291542093664, 0.15002915420936636, -0.6499708457906337, -0.34997084579063364, -0.6499708457906337)\n",
      "\u001b[33m\u001b[1m└ \u001b[22m\u001b[39m\u001b[90m@ Main ~/UCLOneDrive/Projects/SSMC/cluster_env/runs/rg_opt_unstructured/job.jl:237\u001b[39m\n",
      "\u001b[33m\u001b[1m┌ \u001b[22m\u001b[39m\u001b[33m\u001b[1mWarning: \u001b[22m\u001b[39mgetting invalid params - (0.05002915420936638, 2.849970845790634, 1.8499708457906336, 1.0499708457906336, 1.3499708457906336, 1.0499708457906336)\n",
      "\u001b[33m\u001b[1m└ \u001b[22m\u001b[39m\u001b[90m@ Main ~/UCLOneDrive/Projects/SSMC/cluster_env/runs/rg_opt_unstructured/job.jl:237\u001b[39m\n",
      "\u001b[33m\u001b[1m┌ \u001b[22m\u001b[39m\u001b[33m\u001b[1mWarning: \u001b[22m\u001b[39mgetting invalid params - (0.06553769394075193, 1.165537693940752, 1.834462306059248, 1.0344623060592482, -0.3344623060592481, -0.634462306059248)\n",
      "\u001b[33m\u001b[1m└ \u001b[22m\u001b[39m\u001b[90m@ Main ~/UCLOneDrive/Projects/SSMC/cluster_env/runs/rg_opt_unstructured/job.jl:237\u001b[39m\n",
      "\u001b[33m\u001b[1m┌ \u001b[22m\u001b[39m\u001b[33m\u001b[1mWarning: \u001b[22m\u001b[39mgetting invalid params - (1.7344623060592481, 2.834462306059248, 0.1655376939407519, -0.634462306059248, 1.334462306059248, 1.0344623060592482)\n",
      "\u001b[33m\u001b[1m└ \u001b[22m\u001b[39m\u001b[90m@ Main ~/UCLOneDrive/Projects/SSMC/cluster_env/runs/rg_opt_unstructured/job.jl:237\u001b[39m\n",
      "\u001b[33m\u001b[1m┌ \u001b[22m\u001b[39m\u001b[33m\u001b[1mWarning: \u001b[22m\u001b[39mgetting invalid params - (1.7215709941813504, 2.8215709941813505, 1.8215709941813505, -0.6215709941813503, -0.3215709941813504, 1.0215709941813504)\n",
      "\u001b[33m\u001b[1m└ \u001b[22m\u001b[39m\u001b[90m@ Main ~/UCLOneDrive/Projects/SSMC/cluster_env/runs/rg_opt_unstructured/job.jl:237\u001b[39m\n",
      "\u001b[33m\u001b[1m┌ \u001b[22m\u001b[39m\u001b[33m\u001b[1mWarning: \u001b[22m\u001b[39mgetting invalid params - (0.07842900581864964, 1.1784290058186495, 0.17842900581864962, 1.0215709941813504, 1.3215709941813505, -0.6215709941813503)\n",
      "\u001b[33m\u001b[1m└ \u001b[22m\u001b[39m\u001b[90m@ Main ~/UCLOneDrive/Projects/SSMC/cluster_env/runs/rg_opt_unstructured/job.jl:237\u001b[39m\n",
      "\u001b[33m\u001b[1m┌ \u001b[22m\u001b[39m\u001b[33m\u001b[1mWarning: \u001b[22m\u001b[39mgetting invalid params - (0.08943488011469092, 1.1894348801146908, 0.1894348801146909, -0.610565119885309, -0.3105651198853091, -0.610565119885309)\n",
      "\u001b[33m\u001b[1m└ \u001b[22m\u001b[39m\u001b[90m@ Main ~/UCLOneDrive/Projects/SSMC/cluster_env/runs/rg_opt_unstructured/job.jl:237\u001b[39m\n",
      "\u001b[33m\u001b[1m┌ \u001b[22m\u001b[39m\u001b[33m\u001b[1mWarning: \u001b[22m\u001b[39mgetting invalid params - (1.7105651198853091, 2.810565119885309, 1.8105651198853092, 1.0105651198853092, 1.3105651198853092, 1.0105651198853092)\n",
      "\u001b[33m\u001b[1m└ \u001b[22m\u001b[39m\u001b[90m@ Main ~/UCLOneDrive/Projects/SSMC/cluster_env/runs/rg_opt_unstructured/job.jl:237\u001b[39m\n",
      "\u001b[33m\u001b[1m┌ \u001b[22m\u001b[39m\u001b[33m\u001b[1mWarning: \u001b[22m\u001b[39mgetting invalid params - (0.09902030541076523, 2.800979694589235, 1.800979694589235, 1.0009796945892349, -0.3009796945892348, 1.0009796945892349)\n",
      "\u001b[33m\u001b[1m└ \u001b[22m\u001b[39m\u001b[90m@ Main ~/UCLOneDrive/Projects/SSMC/cluster_env/runs/rg_opt_unstructured/job.jl:237\u001b[39m\n",
      "\u001b[33m\u001b[1m┌ \u001b[22m\u001b[39m\u001b[33m\u001b[1mWarning: \u001b[22m\u001b[39mgetting invalid params - (1.7009796945892348, 1.199020305410765, 0.1990203054107652, -0.6009796945892347, 1.300979694589235, -0.6009796945892347)\n",
      "\u001b[33m\u001b[1m└ \u001b[22m\u001b[39m\u001b[90m@ Main ~/UCLOneDrive/Projects/SSMC/cluster_env/runs/rg_opt_unstructured/job.jl:237\u001b[39m\n",
      "\u001b[33m\u001b[1m┌ \u001b[22m\u001b[39m\u001b[33m\u001b[1mWarning: \u001b[22m\u001b[39mgetting invalid params - (0.10749866951952824, 1.2074986695195282, 1.7925013304804718, 0.9925013304804717, 1.2925013304804718, 0.9925013304804717)\n",
      "\u001b[33m\u001b[1m└ \u001b[22m\u001b[39m\u001b[90m@ Main ~/UCLOneDrive/Projects/SSMC/cluster_env/runs/rg_opt_unstructured/job.jl:237\u001b[39m\n",
      "\u001b[33m\u001b[1m┌ \u001b[22m\u001b[39m\u001b[33m\u001b[1mWarning: \u001b[22m\u001b[39mgetting invalid params - (1.692501330480472, 2.792501330480472, 0.20749866951952822, -0.5925013304804718, -0.2925013304804718, -0.5925013304804718)\n",
      "\u001b[33m\u001b[1m└ \u001b[22m\u001b[39m\u001b[90m@ Main ~/UCLOneDrive/Projects/SSMC/cluster_env/runs/rg_opt_unstructured/job.jl:237\u001b[39m\n",
      "\u001b[33m\u001b[1m┌ \u001b[22m\u001b[39m\u001b[33m\u001b[1mWarning: \u001b[22m\u001b[39mgetting invalid params - (0.11509094589337299, 1.215090945893373, 0.21509094589337296, -0.5849090541066271, -0.28490905410662704, 0.984909054106627)\n",
      "\u001b[33m\u001b[1m└ \u001b[22m\u001b[39m\u001b[90m@ Main ~/UCLOneDrive/Projects/SSMC/cluster_env/runs/rg_opt_unstructured/job.jl:237\u001b[39m\n",
      "\u001b[33m\u001b[1m┌ \u001b[22m\u001b[39m\u001b[33m\u001b[1mWarning: \u001b[22m\u001b[39mgetting invalid params - (1.684909054106627, 2.784909054106627, 1.784909054106627, 0.984909054106627, 1.284909054106627, -0.5849090541066271)\n",
      "\u001b[33m\u001b[1m└ \u001b[22m\u001b[39m\u001b[90m@ Main ~/UCLOneDrive/Projects/SSMC/cluster_env/runs/rg_opt_unstructured/job.jl:237\u001b[39m\n",
      "\u001b[33m\u001b[1m┌ \u001b[22m\u001b[39m\u001b[33m\u001b[1mWarning: \u001b[22m\u001b[39mgetting invalid params - (1.6780413776105592, 2.778041377610559, 0.22195862238944097, 0.978041377610559, -0.278041377610559, -0.5780413776105591)\n",
      "\u001b[33m\u001b[1m└ \u001b[22m\u001b[39m\u001b[90m@ Main ~/UCLOneDrive/Projects/SSMC/cluster_env/runs/rg_opt_unstructured/job.jl:237\u001b[39m\n",
      "\u001b[33m\u001b[1m┌ \u001b[22m\u001b[39m\u001b[33m\u001b[1mWarning: \u001b[22m\u001b[39mgetting invalid params - (0.121958622389441, 1.221958622389441, 1.778041377610559, -0.5780413776105591, 1.278041377610559, 0.978041377610559)\n",
      "\u001b[33m\u001b[1m└ \u001b[22m\u001b[39m\u001b[90m@ Main ~/UCLOneDrive/Projects/SSMC/cluster_env/runs/rg_opt_unstructured/job.jl:237\u001b[39m\n",
      "\u001b[33m\u001b[1m┌ \u001b[22m\u001b[39m\u001b[33m\u001b[1mWarning: \u001b[22m\u001b[39mgetting invalid params - (1.6717768037259342, 2.771776803725934, 0.22822319627406595, -0.5717768037259341, -0.27177680372593405, 0.971776803725934)\n",
      "\u001b[33m\u001b[1m└ \u001b[22m\u001b[39m\u001b[90m@ Main ~/UCLOneDrive/Projects/SSMC/cluster_env/runs/rg_opt_unstructured/job.jl:237\u001b[39m\n",
      "\u001b[33m\u001b[1m┌ \u001b[22m\u001b[39m\u001b[33m\u001b[1mWarning: \u001b[22m\u001b[39mgetting invalid params - (0.12822319627406598, 1.228223196274066, 1.771776803725934, 0.971776803725934, 1.271776803725934, -0.5717768037259341)\n",
      "\u001b[33m\u001b[1m└ \u001b[22m\u001b[39m\u001b[90m@ Main ~/UCLOneDrive/Projects/SSMC/cluster_env/runs/rg_opt_unstructured/job.jl:237\u001b[39m\n",
      "\u001b[33m\u001b[1m┌ \u001b[22m\u001b[39m\u001b[33m\u001b[1mWarning: \u001b[22m\u001b[39mgetting invalid params - (0.13397830737683536, 1.2339783073768353, 0.23397830737683534, 0.9660216926231646, 1.2660216926231647, 0.9660216926231646)\n",
      "\u001b[33m\u001b[1m└ \u001b[22m\u001b[39m\u001b[90m@ Main ~/UCLOneDrive/Projects/SSMC/cluster_env/runs/rg_opt_unstructured/job.jl:237\u001b[39m\n",
      "\u001b[33m\u001b[1m┌ \u001b[22m\u001b[39m\u001b[33m\u001b[1mWarning: \u001b[22m\u001b[39mgetting invalid params - (1.6660216926231648, 2.7660216926231644, 1.7660216926231647, -0.5660216926231647, -0.26602169262316466, -0.5660216926231647)\n",
      "\u001b[33m\u001b[1m└ \u001b[22m\u001b[39m\u001b[90m@ Main ~/UCLOneDrive/Projects/SSMC/cluster_env/runs/rg_opt_unstructured/job.jl:237\u001b[39m\n",
      "\u001b[33m\u001b[1m┌ \u001b[22m\u001b[39m\u001b[33m\u001b[1mWarning: \u001b[22m\u001b[39mgetting invalid params - (0.13929760632622246, 2.7607023936737773, 1.7607023936737776, 0.9607023936737775, 1.2607023936737776, 0.9607023936737775)\n",
      "\u001b[33m\u001b[1m└ \u001b[22m\u001b[39m\u001b[90m@ Main ~/UCLOneDrive/Projects/SSMC/cluster_env/runs/rg_opt_unstructured/job.jl:237\u001b[39m\n",
      "\u001b[33m\u001b[1m┌ \u001b[22m\u001b[39m\u001b[33m\u001b[1mWarning: \u001b[22m\u001b[39mgetting invalid params - (1.6607023936737777, 1.2392976063262224, 0.23929760632622243, -0.5607023936737776, -0.26070239367377757, -0.5607023936737776)\n",
      "\u001b[33m\u001b[1m└ \u001b[22m\u001b[39m\u001b[90m@ Main ~/UCLOneDrive/Projects/SSMC/cluster_env/runs/rg_opt_unstructured/job.jl:237\u001b[39m\n",
      "\u001b[33m\u001b[1m┌ \u001b[22m\u001b[39m\u001b[33m\u001b[1mWarning: \u001b[22m\u001b[39mgetting invalid params - (0.14424003584188683, 1.2442400358418868, 1.7557599641581132, 0.9557599641581132, 1.2557599641581132, -0.5557599641581132)\n",
      "\u001b[33m\u001b[1m└ \u001b[22m\u001b[39m\u001b[90m@ Main ~/UCLOneDrive/Projects/SSMC/cluster_env/runs/rg_opt_unstructured/job.jl:237\u001b[39m\n",
      "\u001b[33m\u001b[1m┌ \u001b[22m\u001b[39m\u001b[33m\u001b[1mWarning: \u001b[22m\u001b[39mgetting invalid params - (1.655759964158113, 2.755759964158113, 0.2442400358418868, -0.5557599641581132, -0.2557599641581132, 0.9557599641581132)\n",
      "\u001b[33m\u001b[1m└ \u001b[22m\u001b[39m\u001b[90m@ Main ~/UCLOneDrive/Projects/SSMC/cluster_env/runs/rg_opt_unstructured/job.jl:237\u001b[39m\n",
      "\u001b[33m\u001b[1m┌ \u001b[22m\u001b[39m\u001b[33m\u001b[1mWarning: \u001b[22m\u001b[39mgetting invalid params - (1.6511465189716685, 2.7511465189716686, 0.2488534810283315, 0.9511465189716686, 1.2511465189716686, 0.9511465189716686)\n",
      "\u001b[33m\u001b[1m└ \u001b[22m\u001b[39m\u001b[90m@ Main ~/UCLOneDrive/Projects/SSMC/cluster_env/runs/rg_opt_unstructured/job.jl:237\u001b[39m\n",
      "\u001b[33m\u001b[1m┌ \u001b[22m\u001b[39m\u001b[33m\u001b[1mWarning: \u001b[22m\u001b[39mgetting invalid params - (0.1488534810283315, 1.2488534810283314, 1.7511465189716686, -0.5511465189716684, -0.2511465189716685, -0.5511465189716684)\n",
      "\u001b[33m\u001b[1m└ \u001b[22m\u001b[39m\u001b[90m@ Main ~/UCLOneDrive/Projects/SSMC/cluster_env/runs/rg_opt_unstructured/job.jl:237\u001b[39m\n",
      "\u001b[33m\u001b[1m┌ \u001b[22m\u001b[39m\u001b[33m\u001b[1mWarning: \u001b[22m\u001b[39mgetting invalid params - (0.15317735685469624, 1.2531773568546962, 1.7468226431453038, -0.5468226431453038, -0.24682264314530378, 0.9468226431453037)\n",
      "\u001b[33m\u001b[1m└ \u001b[22m\u001b[39m\u001b[90m@ Main ~/UCLOneDrive/Projects/SSMC/cluster_env/runs/rg_opt_unstructured/job.jl:237\u001b[39m\n",
      "\u001b[33m\u001b[1m┌ \u001b[22m\u001b[39m\u001b[33m\u001b[1mWarning: \u001b[22m\u001b[39mgetting invalid params - (1.646822643145304, 2.746822643145304, 0.2531773568546962, 0.9468226431453037, 1.2468226431453038, -0.5468226431453038)\n",
      "\u001b[33m\u001b[1m└ \u001b[22m\u001b[39m\u001b[90m@ Main ~/UCLOneDrive/Projects/SSMC/cluster_env/runs/rg_opt_unstructured/job.jl:237\u001b[39m\n",
      "\u001b[33m\u001b[1m┌ \u001b[22m\u001b[39m\u001b[33m\u001b[1mWarning: \u001b[22m\u001b[39mgetting invalid params - (0.1572444830229447, 1.2572444830229448, 1.7427555169770552, 0.9427555169770554, -0.24275551697705533, 0.9427555169770554)\n",
      "\u001b[33m\u001b[1m└ \u001b[22m\u001b[39m\u001b[90m@ Main ~/UCLOneDrive/Projects/SSMC/cluster_env/runs/rg_opt_unstructured/job.jl:237\u001b[39m\n",
      "\u001b[33m\u001b[1m┌ \u001b[22m\u001b[39m\u001b[33m\u001b[1mWarning: \u001b[22m\u001b[39mgetting invalid params - (1.6427555169770554, 2.742755516977055, 0.25724448302294467, -0.5427555169770553, 1.2427555169770552, -0.5427555169770553)\n",
      "\u001b[33m\u001b[1m└ \u001b[22m\u001b[39m\u001b[90m@ Main ~/UCLOneDrive/Projects/SSMC/cluster_env/runs/rg_opt_unstructured/job.jl:237\u001b[39m\n",
      "\u001b[33m\u001b[1m┌ \u001b[22m\u001b[39m\u001b[33m\u001b[1mWarning: \u001b[22m\u001b[39mgetting invalid params - (0.1610824689767979, 1.2610824689767979, 1.7389175310232021, 0.9389175310232021, -0.23891753102320212, -0.5389175310232022)\n",
      "\u001b[33m\u001b[1m└ \u001b[22m\u001b[39m\u001b[90m@ Main ~/UCLOneDrive/Projects/SSMC/cluster_env/runs/rg_opt_unstructured/job.jl:237\u001b[39m\n",
      "\u001b[33m\u001b[1m┌ \u001b[22m\u001b[39m\u001b[33m\u001b[1mWarning: \u001b[22m\u001b[39mgetting invalid params - (1.638917531023202, 2.738917531023202, 0.2610824689767979, -0.5389175310232022, 1.2389175310232021, 0.9389175310232021)\n",
      "\u001b[33m\u001b[1m└ \u001b[22m\u001b[39m\u001b[90m@ Main ~/UCLOneDrive/Projects/SSMC/cluster_env/runs/rg_opt_unstructured/job.jl:237\u001b[39m\n",
      "\u001b[33m\u001b[1m┌ \u001b[22m\u001b[39m\u001b[33m\u001b[1mWarning: \u001b[22m\u001b[39mgetting invalid params - (0.16471475469801888, 1.2647147546980189, 1.7352852453019811, 0.9352852453019811, 1.2352852453019811, -0.5352852453019812)\n",
      "\u001b[33m\u001b[1m└ \u001b[22m\u001b[39m\u001b[90m@ Main ~/UCLOneDrive/Projects/SSMC/cluster_env/runs/rg_opt_unstructured/job.jl:237\u001b[39m\n",
      "\u001b[33m\u001b[1m┌ \u001b[22m\u001b[39m\u001b[33m\u001b[1mWarning: \u001b[22m\u001b[39mgetting invalid params - (1.635285245301981, 2.735285245301981, 0.26471475469801886, -0.5352852453019812, -0.23528524530198114, 0.9352852453019811)\n",
      "\u001b[33m\u001b[1m└ \u001b[22m\u001b[39m\u001b[90m@ Main ~/UCLOneDrive/Projects/SSMC/cluster_env/runs/rg_opt_unstructured/job.jl:237\u001b[39m\n",
      "\u001b[33m\u001b[1m┌ \u001b[22m\u001b[39m\u001b[33m\u001b[1mWarning: \u001b[22m\u001b[39mgetting invalid params - (1.6318385951309358, 1.2681614048690644, 1.7318385951309356, -0.5318385951309357, 1.2318385951309356, 0.9318385951309356)\n",
      "\u001b[33m\u001b[1m└ \u001b[22m\u001b[39m\u001b[90m@ Main ~/UCLOneDrive/Projects/SSMC/cluster_env/runs/rg_opt_unstructured/job.jl:237\u001b[39m\n",
      "\u001b[33m\u001b[1m┌ \u001b[22m\u001b[39m\u001b[33m\u001b[1mWarning: \u001b[22m\u001b[39mgetting invalid params - (0.1681614048690644, 2.7318385951309354, 0.26816140486906437, 0.9318385951309356, -0.23183859513093563, -0.5318385951309357)\n",
      "\u001b[33m\u001b[1m└ \u001b[22m\u001b[39m\u001b[90m@ Main ~/UCLOneDrive/Projects/SSMC/cluster_env/runs/rg_opt_unstructured/job.jl:237\u001b[39m\n",
      "\u001b[33m\u001b[1m┌ \u001b[22m\u001b[39m\u001b[33m\u001b[1mWarning: \u001b[22m\u001b[39mgetting invalid params - (1.6285602767899996, 1.2714397232100003, 0.2714397232100004, -0.5285602767899995, -0.22856027678999957, 0.9285602767899996)\n",
      "\u001b[33m\u001b[1m└ \u001b[22m\u001b[39m\u001b[90m@ Main ~/UCLOneDrive/Projects/SSMC/cluster_env/runs/rg_opt_unstructured/job.jl:237\u001b[39m\n",
      "\u001b[33m\u001b[1m┌ \u001b[22m\u001b[39m\u001b[33m\u001b[1mWarning: \u001b[22m\u001b[39mgetting invalid params - (0.17143972321000045, 2.7285602767899997, 1.7285602767899997, 0.9285602767899996, 1.2285602767899997, -0.5285602767899995)\n",
      "\u001b[33m\u001b[1m└ \u001b[22m\u001b[39m\u001b[90m@ Main ~/UCLOneDrive/Projects/SSMC/cluster_env/runs/rg_opt_unstructured/job.jl:237\u001b[39m\n",
      "\u001b[33m\u001b[1m┌ \u001b[22m\u001b[39m\u001b[33m\u001b[1mWarning: \u001b[22m\u001b[39mgetting invalid params - (1.625435266372782, 1.274564733627218, 1.725435266372782, 0.9254352663727821, -0.225435266372782, 0.9254352663727821)\n",
      "\u001b[33m\u001b[1m└ \u001b[22m\u001b[39m\u001b[90m@ Main ~/UCLOneDrive/Projects/SSMC/cluster_env/runs/rg_opt_unstructured/job.jl:237\u001b[39m\n",
      "\u001b[33m\u001b[1m┌ \u001b[22m\u001b[39m\u001b[33m\u001b[1mWarning: \u001b[22m\u001b[39mgetting invalid params - (0.17456473362721803, 2.725435266372782, 0.274564733627218, -0.5254352663727819, 1.225435266372782, -0.5254352663727819)\n",
      "\u001b[33m\u001b[1m└ \u001b[22m\u001b[39m\u001b[90m@ Main ~/UCLOneDrive/Projects/SSMC/cluster_env/runs/rg_opt_unstructured/job.jl:237\u001b[39m\n",
      "\u001b[33m\u001b[1m┌ \u001b[22m\u001b[39m\u001b[33m\u001b[1mWarning: \u001b[22m\u001b[39mgetting invalid params - (0.17754956130595478, 2.7224504386940453, 0.27754956130595476, -0.5224504386940452, 1.2224504386940453, -0.5224504386940452)\n",
      "\u001b[33m\u001b[1m└ \u001b[22m\u001b[39m\u001b[90m@ Main ~/UCLOneDrive/Projects/SSMC/cluster_env/runs/rg_opt_unstructured/job.jl:237\u001b[39m\n",
      "\u001b[33m\u001b[1m┌ \u001b[22m\u001b[39m\u001b[33m\u001b[1mWarning: \u001b[22m\u001b[39mgetting invalid params - (1.6224504386940453, 1.2775495613059547, 1.7224504386940453, 0.9224504386940453, -0.22245043869404524, 0.9224504386940453)\n",
      "\u001b[33m\u001b[1m└ \u001b[22m\u001b[39m\u001b[90m@ Main ~/UCLOneDrive/Projects/SSMC/cluster_env/runs/rg_opt_unstructured/job.jl:237\u001b[39m\n",
      "\u001b[33m\u001b[1m┌ \u001b[22m\u001b[39m\u001b[33m\u001b[1mWarning: \u001b[22m\u001b[39mgetting invalid params - (0.18040573766052748, 2.7195942623394727, 1.7195942623394727, 0.9195942623394726, -0.21959426233947255, 0.9195942623394726)\n",
      "\u001b[33m\u001b[1m└ \u001b[22m\u001b[39m\u001b[90m@ Main ~/UCLOneDrive/Projects/SSMC/cluster_env/runs/rg_opt_unstructured/job.jl:237\u001b[39m\n",
      "\u001b[33m\u001b[1m┌ \u001b[22m\u001b[39m\u001b[33m\u001b[1mWarning: \u001b[22m\u001b[39mgetting invalid params - (1.6195942623394726, 1.2804057376605273, 0.28040573766052745, -0.5195942623394725, 1.2195942623394727, -0.5195942623394725)\n",
      "\u001b[33m\u001b[1m└ \u001b[22m\u001b[39m\u001b[90m@ Main ~/UCLOneDrive/Projects/SSMC/cluster_env/runs/rg_opt_unstructured/job.jl:237\u001b[39m\n",
      "\u001b[33m\u001b[1m┌ \u001b[22m\u001b[39m\u001b[33m\u001b[1mWarning: \u001b[22m\u001b[39mgetting invalid params - (0.18314344665392457, 1.2831434466539244, 0.28314344665392455, 0.9168565533460755, -0.21685655334607545, 0.9168565533460755)\n",
      "\u001b[33m\u001b[1m└ \u001b[22m\u001b[39m\u001b[90m@ Main ~/UCLOneDrive/Projects/SSMC/cluster_env/runs/rg_opt_unstructured/job.jl:237\u001b[39m\n",
      "\u001b[33m\u001b[1m┌ \u001b[22m\u001b[39m\u001b[33m\u001b[1mWarning: \u001b[22m\u001b[39mgetting invalid params - (1.6168565533460755, 2.7168565533460756, 1.7168565533460756, -0.5168565533460754, 1.2168565533460756, -0.5168565533460754)\n",
      "\u001b[33m\u001b[1m└ \u001b[22m\u001b[39m\u001b[90m@ Main ~/UCLOneDrive/Projects/SSMC/cluster_env/runs/rg_opt_unstructured/job.jl:237\u001b[39m\n",
      "\u001b[33m\u001b[1m┌ \u001b[22m\u001b[39m\u001b[33m\u001b[1mWarning: \u001b[22m\u001b[39mgetting invalid params - (1.6142282745193077, 1.2857717254806924, 0.2857717254806923, 0.9142282745193078, -0.2142282745193077, 0.9142282745193078)\n",
      "\u001b[33m\u001b[1m└ \u001b[22m\u001b[39m\u001b[90m@ Main ~/UCLOneDrive/Projects/SSMC/cluster_env/runs/rg_opt_unstructured/job.jl:237\u001b[39m\n",
      "\u001b[33m\u001b[1m┌ \u001b[22m\u001b[39m\u001b[33m\u001b[1mWarning: \u001b[22m\u001b[39mgetting invalid params - (0.18577172548069232, 2.7142282745193076, 1.7142282745193076, -0.5142282745193076, 1.2142282745193076, -0.5142282745193076)\n",
      "\u001b[33m\u001b[1m└ \u001b[22m\u001b[39m\u001b[90m@ Main ~/UCLOneDrive/Projects/SSMC/cluster_env/runs/rg_opt_unstructured/job.jl:237\u001b[39m\n",
      "\u001b[33m\u001b[1m┌ \u001b[22m\u001b[39m\u001b[33m\u001b[1mWarning: \u001b[22m\u001b[39mgetting invalid params - (1.611701370627539, 2.711701370627539, 1.711701370627539, -0.5117013706275391, 1.211701370627539, 0.911701370627539)\n",
      "\u001b[33m\u001b[1m└ \u001b[22m\u001b[39m\u001b[90m@ Main ~/UCLOneDrive/Projects/SSMC/cluster_env/runs/rg_opt_unstructured/job.jl:237\u001b[39m\n",
      "\u001b[33m\u001b[1m┌ \u001b[22m\u001b[39m\u001b[33m\u001b[1mWarning: \u001b[22m\u001b[39mgetting invalid params - (0.188298629372461, 1.288298629372461, 0.288298629372461, 0.911701370627539, -0.21170137062753902, -0.5117013706275391)\n",
      "\u001b[33m\u001b[1m└ \u001b[22m\u001b[39m\u001b[90m@ Main ~/UCLOneDrive/Projects/SSMC/cluster_env/runs/rg_opt_unstructured/job.jl:237\u001b[39m\n",
      "\u001b[33m\u001b[1m┌ \u001b[22m\u001b[39m\u001b[33m\u001b[1mWarning: \u001b[22m\u001b[39mgetting invalid params - (0.19073136793841827, 1.2907313679384183, 0.29073136793841825, 0.9092686320615817, 1.2092686320615817, 0.9092686320615817)\n",
      "\u001b[33m\u001b[1m└ \u001b[22m\u001b[39m\u001b[90m@ Main ~/UCLOneDrive/Projects/SSMC/cluster_env/runs/rg_opt_unstructured/job.jl:237\u001b[39m\n",
      "\u001b[33m\u001b[1m┌ \u001b[22m\u001b[39m\u001b[33m\u001b[1mWarning: \u001b[22m\u001b[39mgetting invalid params - (1.6092686320615819, 2.7092686320615815, 1.7092686320615817, -0.5092686320615818, -0.20926863206158175, -0.5092686320615818)\n",
      "\u001b[33m\u001b[1m└ \u001b[22m\u001b[39m\u001b[90m@ Main ~/UCLOneDrive/Projects/SSMC/cluster_env/runs/rg_opt_unstructured/job.jl:237\u001b[39m\n",
      "\u001b[33m\u001b[1m┌ \u001b[22m\u001b[39m\u001b[33m\u001b[1mWarning: \u001b[22m\u001b[39mgetting invalid params - (0.19307641872887782, 1.293076418728878, 0.2930764187288778, 0.9069235812711223, 1.206923581271122, -0.5069235812711221)\n",
      "\u001b[33m\u001b[1m└ \u001b[22m\u001b[39m\u001b[90m@ Main ~/UCLOneDrive/Projects/SSMC/cluster_env/runs/rg_opt_unstructured/job.jl:237\u001b[39m\n",
      "\u001b[33m\u001b[1m┌ \u001b[22m\u001b[39m\u001b[33m\u001b[1mWarning: \u001b[22m\u001b[39mgetting invalid params - (1.6069235812711222, 2.706923581271122, 1.706923581271122, -0.5069235812711221, -0.2069235812711222, 0.9069235812711223)\n",
      "\u001b[33m\u001b[1m└ \u001b[22m\u001b[39m\u001b[90m@ Main ~/UCLOneDrive/Projects/SSMC/cluster_env/runs/rg_opt_unstructured/job.jl:237\u001b[39m\n",
      "\u001b[33m\u001b[1m┌ \u001b[22m\u001b[39m\u001b[33m\u001b[1mWarning: \u001b[22m\u001b[39mgetting invalid params - (1.6046603775710098, 1.2953396224289904, 1.7046603775710096, -0.5046603775710097, 1.2046603775710096, -0.5046603775710097)\n",
      "\u001b[33m\u001b[1m└ \u001b[22m\u001b[39m\u001b[90m@ Main ~/UCLOneDrive/Projects/SSMC/cluster_env/runs/rg_opt_unstructured/job.jl:237\u001b[39m\n",
      "\u001b[33m\u001b[1m┌ \u001b[22m\u001b[39m\u001b[33m\u001b[1mWarning: \u001b[22m\u001b[39mgetting invalid params - (0.19533962242899028, 2.7046603775710096, 0.29533962242899026, 0.9046603775710098, -0.20466037757100974, 0.9046603775710098)\n",
      "\u001b[33m\u001b[1m└ \u001b[22m\u001b[39m\u001b[90m@ Main ~/UCLOneDrive/Projects/SSMC/cluster_env/runs/rg_opt_unstructured/job.jl:237\u001b[39m\n",
      "\u001b[33m\u001b[1m┌ \u001b[22m\u001b[39m\u001b[33m\u001b[1mWarning: \u001b[22m\u001b[39mgetting invalid params - (1.6024737368723894, 1.2975262631276108, 1.7024737368723892, -0.5024737368723893, 1.2024737368723892, -0.5024737368723893)\n",
      "\u001b[33m\u001b[1m└ \u001b[22m\u001b[39m\u001b[90m@ Main ~/UCLOneDrive/Projects/SSMC/cluster_env/runs/rg_opt_unstructured/job.jl:237\u001b[39m\n",
      "\u001b[33m\u001b[1m┌ \u001b[22m\u001b[39m\u001b[33m\u001b[1mWarning: \u001b[22m\u001b[39mgetting invalid params - (0.19752626312761068, 2.7024737368723892, 0.29752626312761066, 0.9024737368723894, -0.20247373687238934, 0.9024737368723894)\n",
      "\u001b[33m\u001b[1m└ \u001b[22m\u001b[39m\u001b[90m@ Main ~/UCLOneDrive/Projects/SSMC/cluster_env/runs/rg_opt_unstructured/job.jl:237\u001b[39m\n",
      "\u001b[33m\u001b[1m┌ \u001b[22m\u001b[39m\u001b[33m\u001b[1mWarning: \u001b[22m\u001b[39mgetting invalid params - (0.1996411363767484, 2.7003588636232516, 1.7003588636232516, -0.5003588636232517, 1.2003588636232516, 0.9003588636232516)\n",
      "\u001b[33m\u001b[1m└ \u001b[22m\u001b[39m\u001b[90m@ Main ~/UCLOneDrive/Projects/SSMC/cluster_env/runs/rg_opt_unstructured/job.jl:237\u001b[39m\n",
      "\u001b[33m\u001b[1m┌ \u001b[22m\u001b[39m\u001b[33m\u001b[1mWarning: \u001b[22m\u001b[39mgetting invalid params - (1.6003588636232515, 1.2996411363767484, 0.2996411363767484, 0.9003588636232516, -0.20035886362325162, -0.5003588636232517)\n",
      "\u001b[33m\u001b[1m└ \u001b[22m\u001b[39m\u001b[90m@ Main ~/UCLOneDrive/Projects/SSMC/cluster_env/runs/rg_opt_unstructured/job.jl:237\u001b[39m\n",
      "\u001b[33m\u001b[1m┌ \u001b[22m\u001b[39m\u001b[33m\u001b[1mWarning: \u001b[22m\u001b[39mgetting invalid params - (0.2016886071986258, 2.698311392801374, 0.3016886071986258, -0.4983113928013742, -0.19831139280137422, 0.8983113928013742)\n",
      "\u001b[33m\u001b[1m└ \u001b[22m\u001b[39m\u001b[90m@ Main ~/UCLOneDrive/Projects/SSMC/cluster_env/runs/rg_opt_unstructured/job.jl:237\u001b[39m\n",
      "\u001b[33m\u001b[1m┌ \u001b[22m\u001b[39m\u001b[33m\u001b[1mWarning: \u001b[22m\u001b[39mgetting invalid params - (1.5983113928013744, 1.3016886071986258, 1.6983113928013742, 0.8983113928013742, 1.1983113928013742, -0.4983113928013742)\n",
      "\u001b[33m\u001b[1m└ \u001b[22m\u001b[39m\u001b[90m@ Main ~/UCLOneDrive/Projects/SSMC/cluster_env/runs/rg_opt_unstructured/job.jl:237\u001b[39m\n",
      "\u001b[33m\u001b[1m┌ \u001b[22m\u001b[39m\u001b[33m\u001b[1mWarning: \u001b[22m\u001b[39mgetting invalid params - (0.2036726597662818, 1.3036726597662818, 0.30367265976628177, 0.8963273402337182, -0.19632734023371823, 0.8963273402337182)\n",
      "\u001b[33m\u001b[1m└ \u001b[22m\u001b[39m\u001b[90m@ Main ~/UCLOneDrive/Projects/SSMC/cluster_env/runs/rg_opt_unstructured/job.jl:237\u001b[39m\n",
      "\u001b[33m\u001b[1m┌ \u001b[22m\u001b[39m\u001b[33m\u001b[1mWarning: \u001b[22m\u001b[39mgetting invalid params - (1.5963273402337181, 2.6963273402337182, 1.6963273402337182, -0.4963273402337182, 1.1963273402337182, -0.4963273402337182)\n",
      "\u001b[33m\u001b[1m└ \u001b[22m\u001b[39m\u001b[90m@ Main ~/UCLOneDrive/Projects/SSMC/cluster_env/runs/rg_opt_unstructured/job.jl:237\u001b[39m\n",
      "\u001b[33m\u001b[1m┌ \u001b[22m\u001b[39m\u001b[33m\u001b[1mWarning: \u001b[22m\u001b[39mgetting invalid params - (0.20559694014817753, 2.6944030598518225, 0.3055969401481775, 0.8944030598518224, -0.1944030598518225, -0.4944030598518225)\n",
      "\u001b[33m\u001b[1m└ \u001b[22m\u001b[39m\u001b[90m@ Main ~/UCLOneDrive/Projects/SSMC/cluster_env/runs/rg_opt_unstructured/job.jl:237\u001b[39m\n",
      "\u001b[33m\u001b[1m┌ \u001b[22m\u001b[39m\u001b[33m\u001b[1mWarning: \u001b[22m\u001b[39mgetting invalid params - (1.5944030598518224, 1.3055969401481775, 1.6944030598518225, -0.4944030598518225, 1.1944030598518225, 0.8944030598518224)\n",
      "\u001b[33m\u001b[1m└ \u001b[22m\u001b[39m\u001b[90m@ Main ~/UCLOneDrive/Projects/SSMC/cluster_env/runs/rg_opt_unstructured/job.jl:237\u001b[39m\n",
      "\u001b[33m\u001b[1m┌ \u001b[22m\u001b[39m\u001b[33m\u001b[1mWarning: \u001b[22m\u001b[39mgetting invalid params - (1.5925352067558096, 1.3074647932441903, 1.6925352067558097, -0.4925352067558096, -0.1925352067558096, 0.8925352067558097)\n",
      "\u001b[33m\u001b[1m└ \u001b[22m\u001b[39m\u001b[90m@ Main ~/UCLOneDrive/Projects/SSMC/cluster_env/runs/rg_opt_unstructured/job.jl:237\u001b[39m\n",
      "\u001b[33m\u001b[1m┌ \u001b[22m\u001b[39m\u001b[33m\u001b[1mWarning: \u001b[22m\u001b[39mgetting invalid params - (0.20746479324419043, 2.6925352067558097, 0.3074647932441904, 0.8925352067558097, 1.1925352067558097, -0.4925352067558096)\n",
      "\u001b[33m\u001b[1m└ \u001b[22m\u001b[39m\u001b[90m@ Main ~/UCLOneDrive/Projects/SSMC/cluster_env/runs/rg_opt_unstructured/job.jl:237\u001b[39m\n",
      "\u001b[33m\u001b[1m┌ \u001b[22m\u001b[39m\u001b[33m\u001b[1mWarning: \u001b[22m\u001b[39mgetting invalid params - (1.5907207051673735, 2.690720705167373, 1.6907207051673734, 0.8907207051673733, 1.1907207051673734, -0.49072070516737337)\n",
      "\u001b[33m\u001b[1m└ \u001b[22m\u001b[39m\u001b[90m@ Main ~/UCLOneDrive/Projects/SSMC/cluster_env/runs/rg_opt_unstructured/job.jl:237\u001b[39m\n",
      "\u001b[33m\u001b[1m┌ \u001b[22m\u001b[39m\u001b[33m\u001b[1mWarning: \u001b[22m\u001b[39mgetting invalid params - (0.20927929483262664, 1.3092792948326266, 0.3092792948326266, -0.49072070516737337, -0.19072070516737338, 0.8907207051673733)\n",
      "\u001b[33m\u001b[1m└ \u001b[22m\u001b[39m\u001b[90m@ Main ~/UCLOneDrive/Projects/SSMC/cluster_env/runs/rg_opt_unstructured/job.jl:237\u001b[39m\n",
      "\u001b[33m\u001b[1m┌ \u001b[22m\u001b[39m\u001b[33m\u001b[1mWarning: \u001b[22m\u001b[39mgetting invalid params - (1.5889567205173027, 1.3110432794826974, 1.6889567205173026, -0.4889567205173026, -0.1889567205173026, 0.8889567205173026)\n",
      "\u001b[33m\u001b[1m└ \u001b[22m\u001b[39m\u001b[90m@ Main ~/UCLOneDrive/Projects/SSMC/cluster_env/runs/rg_opt_unstructured/job.jl:237\u001b[39m\n",
      "\u001b[33m\u001b[1m┌ \u001b[22m\u001b[39m\u001b[33m\u001b[1mWarning: \u001b[22m\u001b[39mgetting invalid params - (0.2110432794826974, 2.688956720517303, 0.3110432794826974, 0.8889567205173026, 1.1889567205173026, -0.4889567205173026)\n",
      "\u001b[33m\u001b[1m└ \u001b[22m\u001b[39m\u001b[90m@ Main ~/UCLOneDrive/Projects/SSMC/cluster_env/runs/rg_opt_unstructured/job.jl:237\u001b[39m\n",
      "\u001b[33m\u001b[1m┌ \u001b[22m\u001b[39m\u001b[33m\u001b[1mWarning: \u001b[22m\u001b[39mgetting invalid params - (1.5872406350452646, 1.3127593649547356, 0.31275936495473544, 0.8872406350452646, -0.18724063504526456, 0.8872406350452646)\n",
      "\u001b[33m\u001b[1m└ \u001b[22m\u001b[39m\u001b[90m@ Main ~/UCLOneDrive/Projects/SSMC/cluster_env/runs/rg_opt_unstructured/job.jl:237\u001b[39m\n",
      "\u001b[33m\u001b[1m┌ \u001b[22m\u001b[39m\u001b[33m\u001b[1mWarning: \u001b[22m\u001b[39mgetting invalid params - (0.21275936495473546, 2.6872406350452644, 1.6872406350452644, -0.48724063504526455, 1.1872406350452644, -0.48724063504526455)\n",
      "\u001b[33m\u001b[1m└ \u001b[22m\u001b[39m\u001b[90m@ Main ~/UCLOneDrive/Projects/SSMC/cluster_env/runs/rg_opt_unstructured/job.jl:237\u001b[39m\n",
      "\u001b[33m\u001b[1m┌ \u001b[22m\u001b[39m\u001b[33m\u001b[1mWarning: \u001b[22m\u001b[39mgetting invalid params - (0.21442997360404137, 2.6855700263959585, 1.6855700263959585, 0.8855700263959587, -0.18557002639595865, -0.48557002639595864)\n",
      "\u001b[33m\u001b[1m└ \u001b[22m\u001b[39m\u001b[90m@ Main ~/UCLOneDrive/Projects/SSMC/cluster_env/runs/rg_opt_unstructured/job.jl:237\u001b[39m\n",
      "\u001b[33m\u001b[1m┌ \u001b[22m\u001b[39m\u001b[33m\u001b[1mWarning: \u001b[22m\u001b[39mgetting invalid params - (1.5855700263959587, 1.3144299736040415, 0.31442997360404135, -0.48557002639595864, 1.1855700263959585, 0.8855700263959587)\n",
      "\u001b[33m\u001b[1m└ \u001b[22m\u001b[39m\u001b[90m@ Main ~/UCLOneDrive/Projects/SSMC/cluster_env/runs/rg_opt_unstructured/job.jl:237\u001b[39m\n",
      "\u001b[33m\u001b[1m┌ \u001b[22m\u001b[39m\u001b[33m\u001b[1mWarning: \u001b[22m\u001b[39mgetting invalid params - (0.21605735121812408, 2.683942648781876, 0.31605735121812406, -0.48394264878187593, 1.1839426487818758, -0.48394264878187593)\n",
      "\u001b[33m\u001b[1m└ \u001b[22m\u001b[39m\u001b[90m@ Main ~/UCLOneDrive/Projects/SSMC/cluster_env/runs/rg_opt_unstructured/job.jl:237\u001b[39m\n",
      "\u001b[33m\u001b[1m┌ \u001b[22m\u001b[39m\u001b[33m\u001b[1mWarning: \u001b[22m\u001b[39mgetting invalid params - (1.583942648781876, 1.3160573512181242, 1.6839426487818758, 0.883942648781876, -0.18394264878187594, 0.883942648781876)\n",
      "\u001b[33m\u001b[1m└ \u001b[22m\u001b[39m\u001b[90m@ Main ~/UCLOneDrive/Projects/SSMC/cluster_env/runs/rg_opt_unstructured/job.jl:237\u001b[39m\n",
      "\u001b[33m\u001b[1m┌ \u001b[22m\u001b[39m\u001b[33m\u001b[1mWarning: \u001b[22m\u001b[39mgetting invalid params - (1.5823564163530008, 2.6823564163530005, 1.6823564163530007, 0.8823564163530007, 1.1823564163530007, 0.8823564163530007)\n",
      "\u001b[33m\u001b[1m└ \u001b[22m\u001b[39m\u001b[90m@ Main ~/UCLOneDrive/Projects/SSMC/cluster_env/runs/rg_opt_unstructured/job.jl:237\u001b[39m\n",
      "\u001b[33m\u001b[1m┌ \u001b[22m\u001b[39m\u001b[33m\u001b[1mWarning: \u001b[22m\u001b[39mgetting invalid params - (0.21764358364699932, 1.3176435836469993, 0.3176435836469993, -0.4823564163530007, -0.1823564163530007, -0.4823564163530007)\n",
      "\u001b[33m\u001b[1m└ \u001b[22m\u001b[39m\u001b[90m@ Main ~/UCLOneDrive/Projects/SSMC/cluster_env/runs/rg_opt_unstructured/job.jl:237\u001b[39m\n",
      "\u001b[33m\u001b[1m┌ \u001b[22m\u001b[39m\u001b[33m\u001b[1mWarning: \u001b[22m\u001b[39mgetting invalid params - (1.5808093884711352, 1.3191906115288647, 1.6808093884711353, -0.48080938847113525, -0.18080938847113526, -0.48080938847113525)\n",
      "\u001b[33m\u001b[1m└ \u001b[22m\u001b[39m\u001b[90m@ Main ~/UCLOneDrive/Projects/SSMC/cluster_env/runs/rg_opt_unstructured/job.jl:237\u001b[39m\n",
      "\u001b[33m\u001b[1m┌ \u001b[22m\u001b[39m\u001b[33m\u001b[1mWarning: \u001b[22m\u001b[39mgetting invalid params - (0.21919061152886476, 2.6808093884711353, 0.31919061152886474, 0.8808093884711352, 1.1808093884711353, 0.8808093884711352)\n",
      "\u001b[33m\u001b[1m└ \u001b[22m\u001b[39m\u001b[90m@ Main ~/UCLOneDrive/Projects/SSMC/cluster_env/runs/rg_opt_unstructured/job.jl:237\u001b[39m\n",
      "\u001b[33m\u001b[1m┌ \u001b[22m\u001b[39m\u001b[33m\u001b[1mWarning: \u001b[22m\u001b[39mgetting invalid params - (1.5792997566336737, 1.3207002433663262, 0.3207002433663262, 0.8792997566336738, 1.1792997566336738, 0.8792997566336738)\n",
      "\u001b[33m\u001b[1m└ \u001b[22m\u001b[39m\u001b[90m@ Main ~/UCLOneDrive/Projects/SSMC/cluster_env/runs/rg_opt_unstructured/job.jl:237\u001b[39m\n",
      "\u001b[33m\u001b[1m┌ \u001b[22m\u001b[39m\u001b[33m\u001b[1mWarning: \u001b[22m\u001b[39mgetting invalid params - (0.2207002433663262, 2.679299756633674, 1.6792997566336738, -0.4792997566336738, -0.1792997566336738, -0.4792997566336738)\n",
      "\u001b[33m\u001b[1m└ \u001b[22m\u001b[39m\u001b[90m@ Main ~/UCLOneDrive/Projects/SSMC/cluster_env/runs/rg_opt_unstructured/job.jl:237\u001b[39m\n",
      "\u001b[33m\u001b[1m┌ \u001b[22m\u001b[39m\u001b[33m\u001b[1mWarning: \u001b[22m\u001b[39mgetting invalid params - (0.22217416716941285, 1.322174167169413, 1.677825832830587, 0.8778258328305872, 1.177825832830587, -0.47782583283058716)\n",
      "\u001b[33m\u001b[1m└ \u001b[22m\u001b[39m\u001b[90m@ Main ~/UCLOneDrive/Projects/SSMC/cluster_env/runs/rg_opt_unstructured/job.jl:237\u001b[39m\n",
      "\u001b[33m\u001b[1m┌ \u001b[22m\u001b[39m\u001b[33m\u001b[1mWarning: \u001b[22m\u001b[39mgetting invalid params - (1.5778258328305872, 2.677825832830587, 0.32217416716941283, -0.47782583283058716, -0.17782583283058717, 0.8778258328305872)\n",
      "\u001b[33m\u001b[1m└ \u001b[22m\u001b[39m\u001b[90m@ Main ~/UCLOneDrive/Projects/SSMC/cluster_env/runs/rg_opt_unstructured/job.jl:237\u001b[39m\n",
      "\u001b[33m\u001b[1m┌ \u001b[22m\u001b[39m\u001b[33m\u001b[1mWarning: \u001b[22m\u001b[39mgetting invalid params - (0.22361396084931418, 1.3236139608493143, 0.32361396084931415, -0.47638603915068584, -0.17638603915068585, -0.47638603915068584)\n",
      "\u001b[33m\u001b[1m└ \u001b[22m\u001b[39m\u001b[90m@ Main ~/UCLOneDrive/Projects/SSMC/cluster_env/runs/rg_opt_unstructured/job.jl:237\u001b[39m\n",
      "\u001b[33m\u001b[1m┌ \u001b[22m\u001b[39m\u001b[33m\u001b[1mWarning: \u001b[22m\u001b[39mgetting invalid params - (1.5763860391506859, 2.6763860391506857, 1.6763860391506857, 0.8763860391506859, 1.1763860391506857, 0.8763860391506859)\n",
      "\u001b[33m\u001b[1m└ \u001b[22m\u001b[39m\u001b[90m@ Main ~/UCLOneDrive/Projects/SSMC/cluster_env/runs/rg_opt_unstructured/job.jl:237\u001b[39m\n",
      "\u001b[33m\u001b[1m┌ \u001b[22m\u001b[39m\u001b[33m\u001b[1mWarning: \u001b[22m\u001b[39mgetting invalid params - (1.5749788984801325, 2.6749788984801324, 0.3250211015198675, 0.8749788984801325, -0.17497889848013248, -0.47497889848013247)\n",
      "\u001b[33m\u001b[1m└ \u001b[22m\u001b[39m\u001b[90m@ Main ~/UCLOneDrive/Projects/SSMC/cluster_env/runs/rg_opt_unstructured/job.jl:237\u001b[39m\n",
      "\u001b[33m\u001b[1m┌ \u001b[22m\u001b[39m\u001b[33m\u001b[1mWarning: \u001b[22m\u001b[39mgetting invalid params - (0.22502110151986754, 1.3250211015198676, 1.6749788984801324, -0.47497889848013247, 1.1749788984801324, 0.8749788984801325)\n",
      "\u001b[33m\u001b[1m└ \u001b[22m\u001b[39m\u001b[90m@ Main ~/UCLOneDrive/Projects/SSMC/cluster_env/runs/rg_opt_unstructured/job.jl:237\u001b[39m\n",
      "\u001b[33m\u001b[1m┌ \u001b[22m\u001b[39m\u001b[33m\u001b[1mWarning: \u001b[22m\u001b[39mgetting invalid params - (1.573603026158689, 2.673603026158689, 1.673603026158689, 0.8736030261586891, -0.17360302615868906, -0.47360302615868904)\n",
      "\u001b[33m\u001b[1m└ \u001b[22m\u001b[39m\u001b[90m@ Main ~/UCLOneDrive/Projects/SSMC/cluster_env/runs/rg_opt_unstructured/job.jl:237\u001b[39m\n",
      "\u001b[33m\u001b[1m┌ \u001b[22m\u001b[39m\u001b[33m\u001b[1mWarning: \u001b[22m\u001b[39mgetting invalid params - (0.22639697384131097, 1.326396973841311, 0.32639697384131094, -0.47360302615868904, 1.173603026158689, 0.8736030261586891)\n",
      "\u001b[33m\u001b[1m└ \u001b[22m\u001b[39m\u001b[90m@ Main ~/UCLOneDrive/Projects/SSMC/cluster_env/runs/rg_opt_unstructured/job.jl:237\u001b[39m\n",
      "\u001b[33m\u001b[1m┌ \u001b[22m\u001b[39m\u001b[33m\u001b[1mWarning: \u001b[22m\u001b[39mgetting invalid params - (1.5722571224780832, 1.3277428775219169, 1.6722571224780831, -0.4722571224780831, -0.1722571224780831, 0.8722571224780831)\n",
      "\u001b[33m\u001b[1m└ \u001b[22m\u001b[39m\u001b[90m@ Main ~/UCLOneDrive/Projects/SSMC/cluster_env/runs/rg_opt_unstructured/job.jl:237\u001b[39m\n",
      "\u001b[33m\u001b[1m┌ \u001b[22m\u001b[39m\u001b[33m\u001b[1mWarning: \u001b[22m\u001b[39mgetting invalid params - (0.2277428775219169, 2.672257122478083, 0.3277428775219169, 0.8722571224780831, 1.1722571224780831, -0.4722571224780831)\n",
      "\u001b[33m\u001b[1m└ \u001b[22m\u001b[39m\u001b[90m@ Main ~/UCLOneDrive/Projects/SSMC/cluster_env/runs/rg_opt_unstructured/job.jl:237\u001b[39m\n",
      "\u001b[33m\u001b[1m┌ \u001b[22m\u001b[39m\u001b[33m\u001b[1mWarning: \u001b[22m\u001b[39mgetting invalid params - (0.229060034077195, 2.670939965922805, 1.670939965922805, 0.870939965922805, 1.170939965922805, -0.470939965922805)\n",
      "\u001b[33m\u001b[1m└ \u001b[22m\u001b[39m\u001b[90m@ Main ~/UCLOneDrive/Projects/SSMC/cluster_env/runs/rg_opt_unstructured/job.jl:237\u001b[39m\n",
      "\u001b[33m\u001b[1m┌ \u001b[22m\u001b[39m\u001b[33m\u001b[1mWarning: \u001b[22m\u001b[39mgetting invalid params - (1.570939965922805, 1.329060034077195, 0.329060034077195, -0.470939965922805, -0.17093996592280503, 0.870939965922805)\n",
      "\u001b[33m\u001b[1m└ \u001b[22m\u001b[39m\u001b[90m@ Main ~/UCLOneDrive/Projects/SSMC/cluster_env/runs/rg_opt_unstructured/job.jl:237\u001b[39m\n",
      "\u001b[33m\u001b[1m┌ \u001b[22m\u001b[39m\u001b[33m\u001b[1mWarning: \u001b[22m\u001b[39mgetting invalid params - (1.5696504070671276, 1.3303495929328726, 1.6696504070671274, -0.4696504070671275, -0.16965040706712753, -0.4696504070671275)\n",
      "\u001b[33m\u001b[1m└ \u001b[22m\u001b[39m\u001b[90m@ Main ~/UCLOneDrive/Projects/SSMC/cluster_env/runs/rg_opt_unstructured/job.jl:237\u001b[39m\n",
      "\u001b[33m\u001b[1m┌ \u001b[22m\u001b[39m\u001b[33m\u001b[1mWarning: \u001b[22m\u001b[39mgetting invalid params - (0.2303495929328725, 2.6696504070671274, 0.33034959293287247, 0.8696504070671276, 1.1696504070671274, 0.8696504070671276)\n",
      "\u001b[33m\u001b[1m└ \u001b[22m\u001b[39m\u001b[90m@ Main ~/UCLOneDrive/Projects/SSMC/cluster_env/runs/rg_opt_unstructured/job.jl:237\u001b[39m\n",
      "\u001b[33m\u001b[1m┌ \u001b[22m\u001b[39m\u001b[33m\u001b[1mWarning: \u001b[22m\u001b[39mgetting invalid params - (1.568387363053565, 1.331612636946435, 0.33161263694643495, 0.868387363053565, -0.16838736305356505, -0.46838736305356504)\n",
      "\u001b[33m\u001b[1m└ \u001b[22m\u001b[39m\u001b[90m@ Main ~/UCLOneDrive/Projects/SSMC/cluster_env/runs/rg_opt_unstructured/job.jl:237\u001b[39m\n",
      "\u001b[33m\u001b[1m┌ \u001b[22m\u001b[39m\u001b[33m\u001b[1mWarning: \u001b[22m\u001b[39mgetting invalid params - (0.23161263694643497, 2.668387363053565, 1.668387363053565, -0.46838736305356504, 1.168387363053565, 0.868387363053565)\n",
      "\u001b[33m\u001b[1m└ \u001b[22m\u001b[39m\u001b[90m@ Main ~/UCLOneDrive/Projects/SSMC/cluster_env/runs/rg_opt_unstructured/job.jl:237\u001b[39m\n",
      "\u001b[33m\u001b[1m┌ \u001b[22m\u001b[39m\u001b[33m\u001b[1mWarning: \u001b[22m\u001b[39mgetting invalid params - (0.23285018741226404, 1.332850187412264, 1.667149812587736, -0.46714981258773597, -0.16714981258773598, -0.46714981258773597)\n",
      "\u001b[33m\u001b[1m└ \u001b[22m\u001b[39m\u001b[90m@ Main ~/UCLOneDrive/Projects/SSMC/cluster_env/runs/rg_opt_unstructured/job.jl:237\u001b[39m\n",
      "\u001b[33m\u001b[1m┌ \u001b[22m\u001b[39m\u001b[33m\u001b[1mWarning: \u001b[22m\u001b[39mgetting invalid params - (1.567149812587736, 2.667149812587736, 0.332850187412264, 0.8671498125877359, 1.167149812587736, 0.8671498125877359)\n",
      "\u001b[33m\u001b[1m└ \u001b[22m\u001b[39m\u001b[90m@ Main ~/UCLOneDrive/Projects/SSMC/cluster_env/runs/rg_opt_unstructured/job.jl:237\u001b[39m\n",
      "\u001b[33m\u001b[1m┌ \u001b[22m\u001b[39m\u001b[33m\u001b[1mWarning: \u001b[22m\u001b[39mgetting invalid params - (1.565936791392899, 2.665936791392899, 1.6659367913928989, -0.46593679139289884, 1.1659367913928989, -0.46593679139289884)\n",
      "\u001b[33m\u001b[1m└ \u001b[22m\u001b[39m\u001b[90m@ Main ~/UCLOneDrive/Projects/SSMC/cluster_env/runs/rg_opt_unstructured/job.jl:237\u001b[39m\n",
      "\u001b[33m\u001b[1m┌ \u001b[22m\u001b[39m\u001b[33m\u001b[1mWarning: \u001b[22m\u001b[39mgetting invalid params - (0.23406320860710117, 1.3340632086071011, 0.33406320860710115, 0.8659367913928988, -0.16593679139289885, 0.8659367913928988)\n",
      "\u001b[33m\u001b[1m└ \u001b[22m\u001b[39m\u001b[90m@ Main ~/UCLOneDrive/Projects/SSMC/cluster_env/runs/rg_opt_unstructured/job.jl:237\u001b[39m\n",
      "\u001b[33m\u001b[1m┌ \u001b[22m\u001b[39m\u001b[33m\u001b[1mWarning: \u001b[22m\u001b[39mgetting invalid params - (1.564747388074562, 2.664747388074562, 1.664747388074562, -0.464747388074562, -0.16474738807456202, -0.464747388074562)\n",
      "\u001b[33m\u001b[1m└ \u001b[22m\u001b[39m\u001b[90m@ Main ~/UCLOneDrive/Projects/SSMC/cluster_env/runs/rg_opt_unstructured/job.jl:237\u001b[39m\n",
      "\u001b[33m\u001b[1m┌ \u001b[22m\u001b[39m\u001b[33m\u001b[1mWarning: \u001b[22m\u001b[39mgetting invalid params - (0.235252611925438, 1.335252611925438, 0.335252611925438, 0.864747388074562, 1.164747388074562, 0.864747388074562)\n",
      "\u001b[33m\u001b[1m└ \u001b[22m\u001b[39m\u001b[90m@ Main ~/UCLOneDrive/Projects/SSMC/cluster_env/runs/rg_opt_unstructured/job.jl:237\u001b[39m\n",
      "\u001b[33m\u001b[1m┌ \u001b[22m\u001b[39m\u001b[33m\u001b[1mWarning: \u001b[22m\u001b[39mgetting invalid params - (0.236419259648311, 1.336419259648311, 0.336419259648311, -0.463580740351689, -0.163580740351689, 0.8635807403516891)\n",
      "\u001b[33m\u001b[1m└ \u001b[22m\u001b[39m\u001b[90m@ Main ~/UCLOneDrive/Projects/SSMC/cluster_env/runs/rg_opt_unstructured/job.jl:237\u001b[39m\n",
      "\u001b[33m\u001b[1m┌ \u001b[22m\u001b[39m\u001b[33m\u001b[1mWarning: \u001b[22m\u001b[39mgetting invalid params - (1.563580740351689, 2.663580740351689, 1.663580740351689, 0.8635807403516891, 1.163580740351689, -0.463580740351689)\n",
      "\u001b[33m\u001b[1m└ \u001b[22m\u001b[39m\u001b[90m@ Main ~/UCLOneDrive/Projects/SSMC/cluster_env/runs/rg_opt_unstructured/job.jl:237\u001b[39m\n",
      "\u001b[33m\u001b[1m┌ \u001b[22m\u001b[39m\u001b[33m\u001b[1mWarning: \u001b[22m\u001b[39mgetting invalid params - (0.23756396838370963, 1.3375639683837095, 0.3375639683837096, -0.4624360316162904, 1.1624360316162905, -0.4624360316162904)\n",
      "\u001b[33m\u001b[1m└ \u001b[22m\u001b[39m\u001b[90m@ Main ~/UCLOneDrive/Projects/SSMC/cluster_env/runs/rg_opt_unstructured/job.jl:237\u001b[39m\n",
      "\u001b[33m\u001b[1m┌ \u001b[22m\u001b[39m\u001b[33m\u001b[1mWarning: \u001b[22m\u001b[39mgetting invalid params - (1.5624360316162904, 2.6624360316162905, 1.6624360316162905, 0.8624360316162905, -0.1624360316162904, 0.8624360316162905)\n",
      "\u001b[33m\u001b[1m└ \u001b[22m\u001b[39m\u001b[90m@ Main ~/UCLOneDrive/Projects/SSMC/cluster_env/runs/rg_opt_unstructured/job.jl:237\u001b[39m\n",
      "\u001b[33m\u001b[1m┌ \u001b[22m\u001b[39m\u001b[33m\u001b[1mWarning: \u001b[22m\u001b[39mgetting invalid params - (0.23868751221224338, 1.3386875122122435, 0.33868751221224336, 0.8613124877877567, -0.16131248778775664, 0.8613124877877567)\n",
      "\u001b[33m\u001b[1m└ \u001b[22m\u001b[39m\u001b[90m@ Main ~/UCLOneDrive/Projects/SSMC/cluster_env/runs/rg_opt_unstructured/job.jl:237\u001b[39m\n",
      "\u001b[33m\u001b[1m┌ \u001b[22m\u001b[39m\u001b[33m\u001b[1mWarning: \u001b[22m\u001b[39mgetting invalid params - (1.5613124877877567, 2.6613124877877565, 1.6613124877877565, -0.46131248778775663, 1.1613124877877565, -0.46131248778775663)\n",
      "\u001b[33m\u001b[1m└ \u001b[22m\u001b[39m\u001b[90m@ Main ~/UCLOneDrive/Projects/SSMC/cluster_env/runs/rg_opt_unstructured/job.jl:237\u001b[39m\n",
      "\u001b[33m\u001b[1m┌ \u001b[22m\u001b[39m\u001b[33m\u001b[1mWarning: \u001b[22m\u001b[39mgetting invalid params - (0.23979062556777242, 1.3397906255677725, 1.6602093744322275, 0.8602093744322277, -0.1602093744322276, 0.8602093744322277)\n",
      "\u001b[33m\u001b[1m└ \u001b[22m\u001b[39m\u001b[90m@ Main ~/UCLOneDrive/Projects/SSMC/cluster_env/runs/rg_opt_unstructured/job.jl:237\u001b[39m\n",
      "\u001b[33m\u001b[1m┌ \u001b[22m\u001b[39m\u001b[33m\u001b[1mWarning: \u001b[22m\u001b[39mgetting invalid params - (1.5602093744322276, 2.6602093744322275, 0.3397906255677724, -0.4602093744322276, 1.1602093744322275, -0.4602093744322276)\n",
      "\u001b[33m\u001b[1m└ \u001b[22m\u001b[39m\u001b[90m@ Main ~/UCLOneDrive/Projects/SSMC/cluster_env/runs/rg_opt_unstructured/job.jl:237\u001b[39m\n",
      "\u001b[33m\u001b[1m┌ \u001b[22m\u001b[39m\u001b[33m\u001b[1mWarning: \u001b[22m\u001b[39mgetting invalid params - (1.5591259941207243, 2.6591259941207244, 1.6591259941207244, -0.45912599412072425, -0.15912599412072426, 0.8591259941207243)\n",
      "\u001b[33m\u001b[1m└ \u001b[22m\u001b[39m\u001b[90m@ Main ~/UCLOneDrive/Projects/SSMC/cluster_env/runs/rg_opt_unstructured/job.jl:237\u001b[39m\n",
      "\u001b[33m\u001b[1m┌ \u001b[22m\u001b[39m\u001b[33m\u001b[1mWarning: \u001b[22m\u001b[39mgetting invalid params - (0.24087400587927577, 1.3408740058792756, 0.34087400587927574, 0.8591259941207243, 1.1591259941207244, -0.45912599412072425)\n",
      "\u001b[33m\u001b[1m└ \u001b[22m\u001b[39m\u001b[90m@ Main ~/UCLOneDrive/Projects/SSMC/cluster_env/runs/rg_opt_unstructured/job.jl:237\u001b[39m\n",
      "\u001b[33m\u001b[1m┌ \u001b[22m\u001b[39m\u001b[33m\u001b[1mWarning: \u001b[22m\u001b[39mgetting invalid params - (1.5580616840027521, 1.341938315997248, 0.341938315997248, -0.458061684002752, 1.158061684002752, -0.458061684002752)\n",
      "\u001b[33m\u001b[1m└ \u001b[22m\u001b[39m\u001b[90m@ Main ~/UCLOneDrive/Projects/SSMC/cluster_env/runs/rg_opt_unstructured/job.jl:237\u001b[39m\n",
      "\u001b[33m\u001b[1m┌ \u001b[22m\u001b[39m\u001b[33m\u001b[1mWarning: \u001b[22m\u001b[39mgetting invalid params - (0.24193831599724802, 2.6580616840027522, 1.658061684002752, 0.858061684002752, -0.158061684002752, 0.858061684002752)\n",
      "\u001b[33m\u001b[1m└ \u001b[22m\u001b[39m\u001b[90m@ Main ~/UCLOneDrive/Projects/SSMC/cluster_env/runs/rg_opt_unstructured/job.jl:237\u001b[39m\n",
      "\u001b[33m\u001b[1m┌ \u001b[22m\u001b[39m\u001b[33m\u001b[1mWarning: \u001b[22m\u001b[39mgetting invalid params - (0.2429841864253145, 2.6570158135746853, 0.3429841864253145, 0.8570158135746855, -0.15701581357468553, 0.8570158135746855)\n",
      "\u001b[33m\u001b[1m└ \u001b[22m\u001b[39m\u001b[90m@ Main ~/UCLOneDrive/Projects/SSMC/cluster_env/runs/rg_opt_unstructured/job.jl:237\u001b[39m\n",
      "\u001b[33m\u001b[1m┌ \u001b[22m\u001b[39m\u001b[33m\u001b[1mWarning: \u001b[22m\u001b[39mgetting invalid params - (1.5570158135746857, 1.3429841864253145, 1.6570158135746855, -0.4570158135746855, 1.1570158135746855, -0.4570158135746855)\n",
      "\u001b[33m\u001b[1m└ \u001b[22m\u001b[39m\u001b[90m@ Main ~/UCLOneDrive/Projects/SSMC/cluster_env/runs/rg_opt_unstructured/job.jl:237\u001b[39m\n",
      "\u001b[33m\u001b[1m┌ \u001b[22m\u001b[39m\u001b[33m\u001b[1mWarning: \u001b[22m\u001b[39mgetting invalid params - (0.24401221737547596, 1.344012217375476, 1.655987782624524, -0.45598778262452405, 1.155987782624524, -0.45598778262452405)\n",
      "\u001b[33m\u001b[1m└ \u001b[22m\u001b[39m\u001b[90m@ Main ~/UCLOneDrive/Projects/SSMC/cluster_env/runs/rg_opt_unstructured/job.jl:237\u001b[39m\n",
      "\u001b[33m\u001b[1m┌ \u001b[22m\u001b[39m\u001b[33m\u001b[1mWarning: \u001b[22m\u001b[39mgetting invalid params - (1.555987782624524, 2.655987782624524, 0.34401221737547594, 0.8559877826245241, -0.15598778262452406, 0.8559877826245241)\n",
      "\u001b[33m\u001b[1m└ \u001b[22m\u001b[39m\u001b[90m@ Main ~/UCLOneDrive/Projects/SSMC/cluster_env/runs/rg_opt_unstructured/job.jl:237\u001b[39m\n",
      "\u001b[33m\u001b[1m┌ \u001b[22m\u001b[39m\u001b[33m\u001b[1mWarning: \u001b[22m\u001b[39mgetting invalid params - (1.554977019336599, 1.3450229806634009, 1.6549770193365991, -0.454977019336599, 1.1549770193365991, 0.8549770193365991)\n",
      "\u001b[33m\u001b[1m└ \u001b[22m\u001b[39m\u001b[90m@ Main ~/UCLOneDrive/Projects/SSMC/cluster_env/runs/rg_opt_unstructured/job.jl:237\u001b[39m\n",
      "\u001b[33m\u001b[1m┌ \u001b[22m\u001b[39m\u001b[33m\u001b[1mWarning: \u001b[22m\u001b[39mgetting invalid params - (0.245022980663401, 2.654977019336599, 0.345022980663401, 0.8549770193365991, -0.15497701933659902, -0.454977019336599)\n",
      "\u001b[33m\u001b[1m└ \u001b[22m\u001b[39m\u001b[90m@ Main ~/UCLOneDrive/Projects/SSMC/cluster_env/runs/rg_opt_unstructured/job.jl:237\u001b[39m\n",
      "\u001b[33m\u001b[1m┌ \u001b[22m\u001b[39m\u001b[33m\u001b[1mWarning: \u001b[22m\u001b[39mgetting invalid params - (1.5539829785415689, 1.3460170214584313, 0.34601702145843116, 0.8539829785415689, -0.15398297854156884, -0.4539829785415688)\n",
      "\u001b[33m\u001b[1m└ \u001b[22m\u001b[39m\u001b[90m@ Main ~/UCLOneDrive/Projects/SSMC/cluster_env/runs/rg_opt_unstructured/job.jl:237\u001b[39m\n",
      "\u001b[33m\u001b[1m┌ \u001b[22m\u001b[39m\u001b[33m\u001b[1mWarning: \u001b[22m\u001b[39mgetting invalid params - (0.24601702145843118, 2.6539829785415687, 1.6539829785415687, -0.4539829785415688, 1.1539829785415687, 0.8539829785415689)\n",
      "\u001b[33m\u001b[1m└ \u001b[22m\u001b[39m\u001b[90m@ Main ~/UCLOneDrive/Projects/SSMC/cluster_env/runs/rg_opt_unstructured/job.jl:237\u001b[39m\n",
      "\u001b[33m\u001b[1m┌ \u001b[22m\u001b[39m\u001b[33m\u001b[1mWarning: \u001b[22m\u001b[39mgetting invalid params - (0.24699485990142367, 1.3469948599014236, 1.6530051400985764, 0.8530051400985763, -0.15300514009857635, -0.45300514009857634)\n",
      "\u001b[33m\u001b[1m└ \u001b[22m\u001b[39m\u001b[90m@ Main ~/UCLOneDrive/Projects/SSMC/cluster_env/runs/rg_opt_unstructured/job.jl:237\u001b[39m\n",
      "\u001b[33m\u001b[1m┌ \u001b[22m\u001b[39m\u001b[33m\u001b[1mWarning: \u001b[22m\u001b[39mgetting invalid params - (1.5530051400985765, 2.6530051400985766, 0.34699485990142365, -0.45300514009857634, 1.1530051400985764, 0.8530051400985763)\n",
      "\u001b[33m\u001b[1m└ \u001b[22m\u001b[39m\u001b[90m@ Main ~/UCLOneDrive/Projects/SSMC/cluster_env/runs/rg_opt_unstructured/job.jl:237\u001b[39m\n",
      "\u001b[33m\u001b[1m┌ \u001b[22m\u001b[39m\u001b[33m\u001b[1mWarning: \u001b[22m\u001b[39mgetting invalid params - (1.5520430073978073, 1.3479569926021928, 1.6520430073978072, 0.8520430073978074, 1.1520430073978072, -0.4520430073978073)\n",
      "\u001b[33m\u001b[1m└ \u001b[22m\u001b[39m\u001b[90m@ Main ~/UCLOneDrive/Projects/SSMC/cluster_env/runs/rg_opt_unstructured/job.jl:237\u001b[39m\n",
      "\u001b[33m\u001b[1m┌ \u001b[22m\u001b[39m\u001b[33m\u001b[1mWarning: \u001b[22m\u001b[39mgetting invalid params - (0.24795699260219273, 2.652043007397807, 0.3479569926021927, -0.4520430073978073, -0.1520430073978073, 0.8520430073978074)\n",
      "\u001b[33m\u001b[1m└ \u001b[22m\u001b[39m\u001b[90m@ Main ~/UCLOneDrive/Projects/SSMC/cluster_env/runs/rg_opt_unstructured/job.jl:237\u001b[39m\n",
      "\u001b[33m\u001b[1m┌ \u001b[22m\u001b[39m\u001b[33m\u001b[1mWarning: \u001b[22m\u001b[39mgetting invalid params - (0.248903894027116, 1.3489038940271159, 0.34890389402711597, 0.8510961059728841, 1.1510961059728841, -0.451096105972884)\n",
      "\u001b[33m\u001b[1m└ \u001b[22m\u001b[39m\u001b[90m@ Main ~/UCLOneDrive/Projects/SSMC/cluster_env/runs/rg_opt_unstructured/job.jl:237\u001b[39m\n",
      "\u001b[33m\u001b[1m┌ \u001b[22m\u001b[39m\u001b[33m\u001b[1mWarning: \u001b[22m\u001b[39mgetting invalid params - (1.551096105972884, 2.651096105972884, 1.6510961059728841, -0.451096105972884, -0.15109610597288403, 0.8510961059728841)\n",
      "\u001b[33m\u001b[1m└ \u001b[22m\u001b[39m\u001b[90m@ Main ~/UCLOneDrive/Projects/SSMC/cluster_env/runs/rg_opt_unstructured/job.jl:237\u001b[39m\n",
      "\u001b[33m\u001b[1m┌ \u001b[22m\u001b[39m\u001b[33m\u001b[1mWarning: \u001b[22m\u001b[39mgetting invalid params - (0.24983601778640208, 1.349836017786402, 0.34983601778640205, 0.850163982213598, -0.15016398221359795, 0.850163982213598)\n",
      "\u001b[33m\u001b[1m└ \u001b[22m\u001b[39m\u001b[90m@ Main ~/UCLOneDrive/Projects/SSMC/cluster_env/runs/rg_opt_unstructured/job.jl:237\u001b[39m\n",
      "\u001b[33m\u001b[1m┌ \u001b[22m\u001b[39m\u001b[33m\u001b[1mWarning: \u001b[22m\u001b[39mgetting invalid params - (1.550163982213598, 2.650163982213598, 1.650163982213598, -0.45016398221359794, 1.150163982213598, -0.45016398221359794)\n",
      "\u001b[33m\u001b[1m└ \u001b[22m\u001b[39m\u001b[90m@ Main ~/UCLOneDrive/Projects/SSMC/cluster_env/runs/rg_opt_unstructured/job.jl:237\u001b[39m\n",
      "\u001b[33m\u001b[1m┌ \u001b[22m\u001b[39m\u001b[33m\u001b[1mWarning: \u001b[22m\u001b[39mgetting invalid params - (1.5492462021704214, 2.6492462021704215, 1.6492462021704215, -0.4492462021704214, -0.1492462021704214, 0.8492462021704215)\n",
      "\u001b[33m\u001b[1m└ \u001b[22m\u001b[39m\u001b[90m@ Main ~/UCLOneDrive/Projects/SSMC/cluster_env/runs/rg_opt_unstructured/job.jl:237\u001b[39m\n",
      "\u001b[33m\u001b[1m┌ \u001b[22m\u001b[39m\u001b[33m\u001b[1mWarning: \u001b[22m\u001b[39mgetting invalid params - (0.25075379782957863, 1.3507537978295785, 0.3507537978295786, 0.8492462021704215, 1.1492462021704215, -0.4492462021704214)\n",
      "\u001b[33m\u001b[1m└ \u001b[22m\u001b[39m\u001b[90m@ Main ~/UCLOneDrive/Projects/SSMC/cluster_env/runs/rg_opt_unstructured/job.jl:237\u001b[39m\n",
      "\u001b[33m\u001b[1m┌ \u001b[22m\u001b[39m\u001b[33m\u001b[1mWarning: \u001b[22m\u001b[39mgetting invalid params - (0.25165764955691805, 1.351657649556918, 1.648342350443082, 0.848342350443082, 1.148342350443082, 0.848342350443082)\n",
      "\u001b[33m\u001b[1m└ \u001b[22m\u001b[39m\u001b[90m@ Main ~/UCLOneDrive/Projects/SSMC/cluster_env/runs/rg_opt_unstructured/job.jl:237\u001b[39m\n",
      "\u001b[33m\u001b[1m┌ \u001b[22m\u001b[39m\u001b[33m\u001b[1mWarning: \u001b[22m\u001b[39mgetting invalid params - (1.548342350443082, 2.648342350443082, 0.35165764955691803, -0.44834235044308196, -0.14834235044308197, -0.44834235044308196)\n",
      "\u001b[33m\u001b[1m└ \u001b[22m\u001b[39m\u001b[90m@ Main ~/UCLOneDrive/Projects/SSMC/cluster_env/runs/rg_opt_unstructured/job.jl:237\u001b[39m\n",
      "\u001b[33m\u001b[1m┌ \u001b[22m\u001b[39m\u001b[33m\u001b[1mWarning: \u001b[22m\u001b[39mgetting invalid params - (1.5474520291462264, 1.3525479708537738, 0.35254797085377365, 0.8474520291462264, 1.1474520291462262, 0.8474520291462264)\n",
      "\u001b[33m\u001b[1m└ \u001b[22m\u001b[39m\u001b[90m@ Main ~/UCLOneDrive/Projects/SSMC/cluster_env/runs/rg_opt_unstructured/job.jl:237\u001b[39m\n",
      "\u001b[33m\u001b[1m┌ \u001b[22m\u001b[39m\u001b[33m\u001b[1mWarning: \u001b[22m\u001b[39mgetting invalid params - (0.2525479708537737, 2.6474520291462262, 1.6474520291462262, -0.44745202914622634, -0.14745202914622635, -0.44745202914622634)\n",
      "\u001b[33m\u001b[1m└ \u001b[22m\u001b[39m\u001b[90m@ Main ~/UCLOneDrive/Projects/SSMC/cluster_env/runs/rg_opt_unstructured/job.jl:237\u001b[39m\n",
      "\u001b[33m\u001b[1m┌ \u001b[22m\u001b[39m\u001b[33m\u001b[1mWarning: \u001b[22m\u001b[39mgetting invalid params - (1.5465748569458606, 1.3534251430541395, 1.6465748569458605, -0.44657485694586047, 1.1465748569458605, 0.8465748569458604)\n",
      "\u001b[33m\u001b[1m└ \u001b[22m\u001b[39m\u001b[90m@ Main ~/UCLOneDrive/Projects/SSMC/cluster_env/runs/rg_opt_unstructured/job.jl:237\u001b[39m\n",
      "\u001b[33m\u001b[1m┌ \u001b[22m\u001b[39m\u001b[33m\u001b[1mWarning: \u001b[22m\u001b[39mgetting invalid params - (0.25342514305413955, 2.6465748569458603, 0.3534251430541395, 0.8465748569458604, -0.14657485694586048, -0.44657485694586047)\n",
      "\u001b[33m\u001b[1m└ \u001b[22m\u001b[39m\u001b[90m@ Main ~/UCLOneDrive/Projects/SSMC/cluster_env/runs/rg_opt_unstructured/job.jl:237\u001b[39m\n",
      "\u001b[33m\u001b[1m┌ \u001b[22m\u001b[39m\u001b[33m\u001b[1mWarning: \u001b[22m\u001b[39mgetting invalid params - (1.5457104681608547, 1.3542895318391452, 0.35428953183914524, -0.44571046816085474, 1.1457104681608548, 0.8457104681608547)\n",
      "\u001b[33m\u001b[1m└ \u001b[22m\u001b[39m\u001b[90m@ Main ~/UCLOneDrive/Projects/SSMC/cluster_env/runs/rg_opt_unstructured/job.jl:237\u001b[39m\n",
      "\u001b[33m\u001b[1m┌ \u001b[22m\u001b[39m\u001b[33m\u001b[1mWarning: \u001b[22m\u001b[39mgetting invalid params - (0.25428953183914527, 2.6457104681608548, 1.6457104681608548, 0.8457104681608547, -0.14571046816085476, -0.44571046816085474)\n",
      "\u001b[33m\u001b[1m└ \u001b[22m\u001b[39m\u001b[90m@ Main ~/UCLOneDrive/Projects/SSMC/cluster_env/runs/rg_opt_unstructured/job.jl:237\u001b[39m\n",
      "\u001b[33m\u001b[1m┌ \u001b[22m\u001b[39m\u001b[33m\u001b[1mWarning: \u001b[22m\u001b[39mgetting invalid params - (0.25514148807567516, 2.644858511924325, 1.6448585119243249, 0.8448585119243248, -0.14485851192432486, -0.44485851192432485)\n",
      "\u001b[33m\u001b[1m└ \u001b[22m\u001b[39m\u001b[90m@ Main ~/UCLOneDrive/Projects/SSMC/cluster_env/runs/rg_opt_unstructured/job.jl:237\u001b[39m\n",
      "\u001b[33m\u001b[1m┌ \u001b[22m\u001b[39m\u001b[33m\u001b[1mWarning: \u001b[22m\u001b[39mgetting invalid params - (1.5448585119243248, 1.3551414880756751, 0.35514148807567514, -0.44485851192432485, 1.1448585119243249, 0.8448585119243248)\n",
      "\u001b[33m\u001b[1m└ \u001b[22m\u001b[39m\u001b[90m@ Main ~/UCLOneDrive/Projects/SSMC/cluster_env/runs/rg_opt_unstructured/job.jl:237\u001b[39m\n",
      "\u001b[33m\u001b[1m┌ \u001b[22m\u001b[39m\u001b[33m\u001b[1mWarning: \u001b[22m\u001b[39mgetting invalid params - (0.25598134859982147, 1.3559813485998213, 0.35598134859982145, -0.44401865140017854, 1.1440186514001787, -0.44401865140017854)\n",
      "\u001b[33m\u001b[1m└ \u001b[22m\u001b[39m\u001b[90m@ Main ~/UCLOneDrive/Projects/SSMC/cluster_env/runs/rg_opt_unstructured/job.jl:237\u001b[39m\n",
      "\u001b[33m\u001b[1m┌ \u001b[22m\u001b[39m\u001b[33m\u001b[1mWarning: \u001b[22m\u001b[39mgetting invalid params - (1.5440186514001786, 2.6440186514001787, 1.6440186514001787, 0.8440186514001786, -0.14401865140017855, 0.8440186514001786)\n",
      "\u001b[33m\u001b[1m└ \u001b[22m\u001b[39m\u001b[90m@ Main ~/UCLOneDrive/Projects/SSMC/cluster_env/runs/rg_opt_unstructured/job.jl:237\u001b[39m\n",
      "\u001b[33m\u001b[1m┌ \u001b[22m\u001b[39m\u001b[33m\u001b[1mWarning: \u001b[22m\u001b[39mgetting invalid params - (1.5431905630505431, 1.356809436949457, 0.356809436949457, -0.443190563050543, 1.143190563050543, 0.843190563050543)\n",
      "\u001b[33m\u001b[1m└ \u001b[22m\u001b[39m\u001b[90m@ Main ~/UCLOneDrive/Projects/SSMC/cluster_env/runs/rg_opt_unstructured/job.jl:237\u001b[39m\n",
      "\u001b[33m\u001b[1m┌ \u001b[22m\u001b[39m\u001b[33m\u001b[1mWarning: \u001b[22m\u001b[39mgetting invalid params - (0.256809436949457, 2.643190563050543, 1.643190563050543, 0.843190563050543, -0.143190563050543, -0.443190563050543)\n",
      "\u001b[33m\u001b[1m└ \u001b[22m\u001b[39m\u001b[90m@ Main ~/UCLOneDrive/Projects/SSMC/cluster_env/runs/rg_opt_unstructured/job.jl:237\u001b[39m\n",
      "\u001b[33m\u001b[1m┌ \u001b[22m\u001b[39m\u001b[33m\u001b[1mWarning: \u001b[22m\u001b[39mgetting invalid params - (1.5423739359501707, 1.3576260640498294, 0.35762606404982944, -0.44237393595017055, -0.14237393595017056, -0.44237393595017055)\n",
      "\u001b[33m\u001b[1m└ \u001b[22m\u001b[39m\u001b[90m@ Main ~/UCLOneDrive/Projects/SSMC/cluster_env/runs/rg_opt_unstructured/job.jl:237\u001b[39m\n",
      "\u001b[33m\u001b[1m┌ \u001b[22m\u001b[39m\u001b[33m\u001b[1mWarning: \u001b[22m\u001b[39mgetting invalid params - (0.25762606404982946, 2.642373935950171, 1.6423739359501706, 0.8423739359501705, 1.1423739359501706, 0.8423739359501705)\n",
      "\u001b[33m\u001b[1m└ \u001b[22m\u001b[39m\u001b[90m@ Main ~/UCLOneDrive/Projects/SSMC/cluster_env/runs/rg_opt_unstructured/job.jl:237\u001b[39m\n",
      "\u001b[33m\u001b[1m┌ \u001b[22m\u001b[39m\u001b[33m\u001b[1mWarning: \u001b[22m\u001b[39mgetting invalid params - (0.2584315288557363, 2.6415684711442635, 1.6415684711442637, 0.8415684711442637, -0.14156847114426374, 0.8415684711442637)\n",
      "\u001b[33m\u001b[1m└ \u001b[22m\u001b[39m\u001b[90m@ Main ~/UCLOneDrive/Projects/SSMC/cluster_env/runs/rg_opt_unstructured/job.jl:237\u001b[39m\n",
      "\u001b[33m\u001b[1m┌ \u001b[22m\u001b[39m\u001b[33m\u001b[1mWarning: \u001b[22m\u001b[39mgetting invalid params - (1.5415684711442639, 1.3584315288557363, 0.35843152885573626, -0.44156847114426373, 1.1415684711442637, -0.44156847114426373)\n",
      "\u001b[33m\u001b[1m└ \u001b[22m\u001b[39m\u001b[90m@ Main ~/UCLOneDrive/Projects/SSMC/cluster_env/runs/rg_opt_unstructured/job.jl:237\u001b[39m\n",
      "\u001b[33m\u001b[1m┌ \u001b[22m\u001b[39m\u001b[33m\u001b[1mWarning: \u001b[22m\u001b[39mgetting invalid params - (0.2592261189535282, 2.6407738810464716, 0.3592261189535282, -0.4407738810464718, -0.14077388104647182, -0.4407738810464718)\n",
      "\u001b[33m\u001b[1m└ \u001b[22m\u001b[39m\u001b[90m@ Main ~/UCLOneDrive/Projects/SSMC/cluster_env/runs/rg_opt_unstructured/job.jl:237\u001b[39m\n",
      "\u001b[33m\u001b[1m┌ \u001b[22m\u001b[39m\u001b[33m\u001b[1mWarning: \u001b[22m\u001b[39mgetting invalid params - (1.540773881046472, 1.3592261189535282, 1.6407738810464718, 0.8407738810464718, 1.1407738810464718, 0.8407738810464718)\n",
      "\u001b[33m\u001b[1m└ \u001b[22m\u001b[39m\u001b[90m@ Main ~/UCLOneDrive/Projects/SSMC/cluster_env/runs/rg_opt_unstructured/job.jl:237\u001b[39m\n",
      "\u001b[33m\u001b[1m┌ \u001b[22m\u001b[39m\u001b[33m\u001b[1mWarning: \u001b[22m\u001b[39mgetting invalid params - (0.2600101111259119, 2.639989888874088, 1.639989888874088, 0.8399898888740882, -0.13998988887408814, 0.8399898888740882)\n",
      "\u001b[33m\u001b[1m└ \u001b[22m\u001b[39m\u001b[90m@ Main ~/UCLOneDrive/Projects/SSMC/cluster_env/runs/rg_opt_unstructured/job.jl:237\u001b[39m\n",
      "\u001b[33m\u001b[1m┌ \u001b[22m\u001b[39m\u001b[33m\u001b[1mWarning: \u001b[22m\u001b[39mgetting invalid params - (1.5399898888740882, 1.360010111125912, 0.36001011112591186, -0.43998988887408813, 1.139989888874088, -0.43998988887408813)\n",
      "\u001b[33m\u001b[1m└ \u001b[22m\u001b[39m\u001b[90m@ Main ~/UCLOneDrive/Projects/SSMC/cluster_env/runs/rg_opt_unstructured/job.jl:237\u001b[39m\n",
      "\u001b[33m\u001b[1m┌ \u001b[22m\u001b[39m\u001b[33m\u001b[1mWarning: \u001b[22m\u001b[39mgetting invalid params - (0.26078377188226554, 2.6392162281177347, 0.3607837718822655, -0.4392162281177345, -0.1392162281177345, 0.8392162281177344)\n",
      "\u001b[33m\u001b[1m└ \u001b[22m\u001b[39m\u001b[90m@ Main ~/UCLOneDrive/Projects/SSMC/cluster_env/runs/rg_opt_unstructured/job.jl:237\u001b[39m\n",
      "\u001b[33m\u001b[1m┌ \u001b[22m\u001b[39m\u001b[33m\u001b[1mWarning: \u001b[22m\u001b[39mgetting invalid params - (1.5392162281177346, 1.3607837718822655, 1.6392162281177345, 0.8392162281177344, 1.1392162281177345, -0.4392162281177345)\n",
      "\u001b[33m\u001b[1m└ \u001b[22m\u001b[39m\u001b[90m@ Main ~/UCLOneDrive/Projects/SSMC/cluster_env/runs/rg_opt_unstructured/job.jl:237\u001b[39m\n",
      "\u001b[33m\u001b[1m┌ \u001b[22m\u001b[39m\u001b[33m\u001b[1mWarning: \u001b[22m\u001b[39mgetting invalid params - (0.2615473579569606, 1.3615473579569606, 1.6384526420430394, -0.4384526420430394, 1.1384526420430394, 0.8384526420430394)\n",
      "\u001b[33m\u001b[1m└ \u001b[22m\u001b[39m\u001b[90m@ Main ~/UCLOneDrive/Projects/SSMC/cluster_env/runs/rg_opt_unstructured/job.jl:237\u001b[39m\n",
      "\u001b[33m\u001b[1m┌ \u001b[22m\u001b[39m\u001b[33m\u001b[1mWarning: \u001b[22m\u001b[39mgetting invalid params - (1.5384526420430396, 2.638452642043039, 0.3615473579569606, 0.8384526420430394, -0.13845264204303942, -0.4384526420430394)\n",
      "\u001b[33m\u001b[1m└ \u001b[22m\u001b[39m\u001b[90m@ Main ~/UCLOneDrive/Projects/SSMC/cluster_env/runs/rg_opt_unstructured/job.jl:237\u001b[39m\n"
     ]
    },
    {
     "name": "stdout",
     "output_type": "stream",
     "text": [
      "  1.235131 seconds (1.96 M allocations: 318.412 MiB)\n"
     ]
    },
    {
     "name": "stderr",
     "output_type": "stream",
     "text": [
      "\u001b[33m\u001b[1m┌ \u001b[22m\u001b[39m\u001b[33m\u001b[1mWarning: \u001b[22m\u001b[39mgetting invalid params - (1.537698883222034, 1.3623011167779662, 1.6376988832220338, -0.4376988832220338, -0.13769888322203383, 0.8376988832220338)\n",
      "\u001b[33m\u001b[1m└ \u001b[22m\u001b[39m\u001b[90m@ Main ~/UCLOneDrive/Projects/SSMC/cluster_env/runs/rg_opt_unstructured/job.jl:237\u001b[39m\n",
      "\u001b[33m\u001b[1m┌ \u001b[22m\u001b[39m\u001b[33m\u001b[1mWarning: \u001b[22m\u001b[39mgetting invalid params - (0.2623011167779662, 2.6376988832220336, 0.36230111677796617, 0.8376988832220338, 1.1376988832220338, -0.4376988832220338)\n",
      "\u001b[33m\u001b[1m└ \u001b[22m\u001b[39m\u001b[90m@ Main ~/UCLOneDrive/Projects/SSMC/cluster_env/runs/rg_opt_unstructured/job.jl:237\u001b[39m\n",
      "\u001b[33m\u001b[1m┌ \u001b[22m\u001b[39m\u001b[33m\u001b[1mWarning: \u001b[22m\u001b[39mgetting invalid params - (1.5369547130921644, 2.6369547130921642, 1.6369547130921642, -0.4369547130921643, -0.13695471309216434, -0.4369547130921643)\n",
      "\u001b[33m\u001b[1m└ \u001b[22m\u001b[39m\u001b[90m@ Main ~/UCLOneDrive/Projects/SSMC/cluster_env/runs/rg_opt_unstructured/job.jl:237\u001b[39m\n",
      "\u001b[33m\u001b[1m┌ \u001b[22m\u001b[39m\u001b[33m\u001b[1mWarning: \u001b[22m\u001b[39mgetting invalid params - (0.2630452869078357, 1.3630452869078358, 0.36304528690783566, 0.8369547130921644, 1.1369547130921642, 0.8369547130921644)\n",
      "\u001b[33m\u001b[1m└ \u001b[22m\u001b[39m\u001b[90m@ Main ~/UCLOneDrive/Projects/SSMC/cluster_env/runs/rg_opt_unstructured/job.jl:237\u001b[39m\n",
      "\u001b[33m\u001b[1m┌ \u001b[22m\u001b[39m\u001b[33m\u001b[1mWarning: \u001b[22m\u001b[39mgetting invalid params - (0.2637800984589973, 2.636219901541003, 0.3637800984589973, -0.4362199015410027, 1.1362199015410028, 0.8362199015410028)\n",
      "\u001b[33m\u001b[1m└ \u001b[22m\u001b[39m\u001b[90m@ Main ~/UCLOneDrive/Projects/SSMC/cluster_env/runs/rg_opt_unstructured/job.jl:237\u001b[39m\n",
      "\u001b[33m\u001b[1m┌ \u001b[22m\u001b[39m\u001b[33m\u001b[1mWarning: \u001b[22m\u001b[39mgetting invalid params - (1.5362199015410027, 1.3637800984589972, 1.6362199015410028, 0.8362199015410028, -0.13621990154100272, -0.4362199015410027)\n",
      "\u001b[33m\u001b[1m└ \u001b[22m\u001b[39m\u001b[90m@ Main ~/UCLOneDrive/Projects/SSMC/cluster_env/runs/rg_opt_unstructured/job.jl:237\u001b[39m\n",
      "\u001b[33m\u001b[1m┌ \u001b[22m\u001b[39m\u001b[33m\u001b[1mWarning: \u001b[22m\u001b[39mgetting invalid params - (1.5354942265148792, 1.364505773485121, 0.3645057734851209, 0.835494226514879, 1.135494226514879, -0.43549422651487907)\n",
      "\u001b[33m\u001b[1m└ \u001b[22m\u001b[39m\u001b[90m@ Main ~/UCLOneDrive/Projects/SSMC/cluster_env/runs/rg_opt_unstructured/job.jl:237\u001b[39m\n",
      "\u001b[33m\u001b[1m┌ \u001b[22m\u001b[39m\u001b[33m\u001b[1mWarning: \u001b[22m\u001b[39mgetting invalid params - (0.26450577348512094, 2.6354942265148793, 1.635494226514879, -0.43549422651487907, -0.13549422651487908, 0.835494226514879)\n",
      "\u001b[33m\u001b[1m└ \u001b[22m\u001b[39m\u001b[90m@ Main ~/UCLOneDrive/Projects/SSMC/cluster_env/runs/rg_opt_unstructured/job.jl:237\u001b[39m\n",
      "\u001b[33m\u001b[1m┌ \u001b[22m\u001b[39m\u001b[33m\u001b[1mWarning: \u001b[22m\u001b[39mgetting invalid params - (0.2652225263501895, 2.6347774736498106, 1.6347774736498106, 0.8347774736498106, -0.13477747364981052, 0.8347774736498106)\n",
      "\u001b[33m\u001b[1m└ \u001b[22m\u001b[39m\u001b[90m@ Main ~/UCLOneDrive/Projects/SSMC/cluster_env/runs/rg_opt_unstructured/job.jl:237\u001b[39m\n",
      "\u001b[33m\u001b[1m┌ \u001b[22m\u001b[39m\u001b[33m\u001b[1mWarning: \u001b[22m\u001b[39mgetting invalid params - (1.5347774736498105, 1.3652225263501894, 0.3652225263501895, -0.4347774736498105, 1.1347774736498106, -0.4347774736498105)\n",
      "\u001b[33m\u001b[1m└ \u001b[22m\u001b[39m\u001b[90m@ Main ~/UCLOneDrive/Projects/SSMC/cluster_env/runs/rg_opt_unstructured/job.jl:237\u001b[39m\n",
      "\u001b[33m\u001b[1m┌ \u001b[22m\u001b[39m\u001b[33m\u001b[1mWarning: \u001b[22m\u001b[39mgetting invalid params - (0.2659305640767795, 2.6340694359232204, 0.3659305640767795, -0.4340694359232205, -0.13406943592322051, 0.8340694359232206)\n",
      "\u001b[33m\u001b[1m└ \u001b[22m\u001b[39m\u001b[90m@ Main ~/UCLOneDrive/Projects/SSMC/cluster_env/runs/rg_opt_unstructured/job.jl:237\u001b[39m\n",
      "\u001b[33m\u001b[1m┌ \u001b[22m\u001b[39m\u001b[33m\u001b[1mWarning: \u001b[22m\u001b[39mgetting invalid params - (1.5340694359232205, 1.3659305640767796, 1.6340694359232204, 0.8340694359232206, 1.1340694359232204, -0.4340694359232205)\n",
      "\u001b[33m\u001b[1m└ \u001b[22m\u001b[39m\u001b[90m@ Main ~/UCLOneDrive/Projects/SSMC/cluster_env/runs/rg_opt_unstructured/job.jl:237\u001b[39m\n",
      "\u001b[33m\u001b[1m┌ \u001b[22m\u001b[39m\u001b[33m\u001b[1mWarning: \u001b[22m\u001b[39mgetting invalid params - (1.5333699133250667, 2.6333699133250668, 1.6333699133250668, 0.8333699133250667, 1.1333699133250668, 0.8333699133250667)\n",
      "\u001b[33m\u001b[1m└ \u001b[22m\u001b[39m\u001b[90m@ Main ~/UCLOneDrive/Projects/SSMC/cluster_env/runs/rg_opt_unstructured/job.jl:237\u001b[39m\n",
      "\u001b[33m\u001b[1m┌ \u001b[22m\u001b[39m\u001b[33m\u001b[1mWarning: \u001b[22m\u001b[39mgetting invalid params - (0.2666300866749334, 1.3666300866749332, 0.36663008667493335, -0.43336991332506664, -0.13336991332506665, -0.43336991332506664)\n",
      "\u001b[33m\u001b[1m└ \u001b[22m\u001b[39m\u001b[90m@ Main ~/UCLOneDrive/Projects/SSMC/cluster_env/runs/rg_opt_unstructured/job.jl:237\u001b[39m\n",
      "\u001b[33m\u001b[1m┌ \u001b[22m\u001b[39m\u001b[33m\u001b[1mWarning: \u001b[22m\u001b[39mgetting invalid params - (0.26732128745290695, 1.3673212874529068, 1.6326787125470932, 0.8326787125470931, -0.13267871254709307, -0.43267871254709306)\n",
      "\u001b[33m\u001b[1m└ \u001b[22m\u001b[39m\u001b[90m@ Main ~/UCLOneDrive/Projects/SSMC/cluster_env/runs/rg_opt_unstructured/job.jl:237\u001b[39m\n",
      "\u001b[33m\u001b[1m┌ \u001b[22m\u001b[39m\u001b[33m\u001b[1mWarning: \u001b[22m\u001b[39mgetting invalid params - (1.532678712547093, 2.632678712547093, 0.36732128745290693, -0.43267871254709306, 1.1326787125470932, 0.8326787125470931)\n",
      "\u001b[33m\u001b[1m└ \u001b[22m\u001b[39m\u001b[90m@ Main ~/UCLOneDrive/Projects/SSMC/cluster_env/runs/rg_opt_unstructured/job.jl:237\u001b[39m\n",
      "\u001b[33m\u001b[1m┌ \u001b[22m\u001b[39m\u001b[33m\u001b[1mWarning: \u001b[22m\u001b[39mgetting invalid params - (0.26800435331096895, 1.368004353310969, 0.3680043533109689, -0.43199564668903107, 1.131995646689031, 0.831995646689031)\n",
      "\u001b[33m\u001b[1m└ \u001b[22m\u001b[39m\u001b[90m@ Main ~/UCLOneDrive/Projects/SSMC/cluster_env/runs/rg_opt_unstructured/job.jl:237\u001b[39m\n",
      "\u001b[33m\u001b[1m┌ \u001b[22m\u001b[39m\u001b[33m\u001b[1mWarning: \u001b[22m\u001b[39mgetting invalid params - (1.531995646689031, 2.631995646689031, 1.631995646689031, 0.831995646689031, -0.13199564668903108, -0.43199564668903107)\n",
      "\u001b[33m\u001b[1m└ \u001b[22m\u001b[39m\u001b[90m@ Main ~/UCLOneDrive/Projects/SSMC/cluster_env/runs/rg_opt_unstructured/job.jl:237\u001b[39m\n",
      "\u001b[33m\u001b[1m┌ \u001b[22m\u001b[39m\u001b[33m\u001b[1mWarning: \u001b[22m\u001b[39mgetting invalid params - (1.5313205349806471, 1.368679465019353, 0.3686794650193529, 0.8313205349806472, 1.131320534980647, -0.4313205349806471)\n",
      "\u001b[33m\u001b[1m└ \u001b[22m\u001b[39m\u001b[90m@ Main ~/UCLOneDrive/Projects/SSMC/cluster_env/runs/rg_opt_unstructured/job.jl:237\u001b[39m\n",
      "\u001b[33m\u001b[1m┌ \u001b[22m\u001b[39m\u001b[33m\u001b[1mWarning: \u001b[22m\u001b[39mgetting invalid params - (0.2686794650193529, 2.631320534980647, 1.631320534980647, -0.4313205349806471, -0.1313205349806471, 0.8313205349806472)\n",
      "\u001b[33m\u001b[1m└ \u001b[22m\u001b[39m\u001b[90m@ Main ~/UCLOneDrive/Projects/SSMC/cluster_env/runs/rg_opt_unstructured/job.jl:237\u001b[39m\n",
      "\u001b[33m\u001b[1m┌ \u001b[22m\u001b[39m\u001b[33m\u001b[1mWarning: \u001b[22m\u001b[39mgetting invalid params - (1.530653202518634, 2.630653202518634, 1.630653202518634, 0.830653202518634, 1.130653202518634, 0.830653202518634)\n",
      "\u001b[33m\u001b[1m└ \u001b[22m\u001b[39m\u001b[90m@ Main ~/UCLOneDrive/Projects/SSMC/cluster_env/runs/rg_opt_unstructured/job.jl:237\u001b[39m\n",
      "\u001b[33m\u001b[1m┌ \u001b[22m\u001b[39m\u001b[33m\u001b[1mWarning: \u001b[22m\u001b[39mgetting invalid params - (0.26934679748136614, 1.369346797481366, 0.3693467974813661, -0.43065320251863387, -0.13065320251863388, -0.43065320251863387)\n",
      "\u001b[33m\u001b[1m└ \u001b[22m\u001b[39m\u001b[90m@ Main ~/UCLOneDrive/Projects/SSMC/cluster_env/runs/rg_opt_unstructured/job.jl:237\u001b[39m\n",
      "\u001b[33m\u001b[1m┌ \u001b[22m\u001b[39m\u001b[33m\u001b[1mWarning: \u001b[22m\u001b[39mgetting invalid params - (1.5299934800174002, 1.3700065199825997, 0.3700065199825998, -0.4299934800174002, -0.1299934800174002, -0.4299934800174002)\n",
      "\u001b[33m\u001b[1m└ \u001b[22m\u001b[39m\u001b[90m@ Main ~/UCLOneDrive/Projects/SSMC/cluster_env/runs/rg_opt_unstructured/job.jl:237\u001b[39m\n",
      "\u001b[33m\u001b[1m┌ \u001b[22m\u001b[39m\u001b[33m\u001b[1mWarning: \u001b[22m\u001b[39mgetting invalid params - (0.27000651998259984, 2.6299934800174003, 1.6299934800174003, 0.8299934800174003, 1.1299934800174003, 0.8299934800174003)\n",
      "\u001b[33m\u001b[1m└ \u001b[22m\u001b[39m\u001b[90m@ Main ~/UCLOneDrive/Projects/SSMC/cluster_env/runs/rg_opt_unstructured/job.jl:237\u001b[39m\n",
      "\u001b[33m\u001b[1m┌ \u001b[22m\u001b[39m\u001b[33m\u001b[1mWarning: \u001b[22m\u001b[39mgetting invalid params - (1.5293412035728942, 2.6293412035728942, 0.37065879642710586, -0.4293412035728941, 1.1293412035728942, 0.8293412035728942)\n",
      "\u001b[33m\u001b[1m└ \u001b[22m\u001b[39m\u001b[90m@ Main ~/UCLOneDrive/Projects/SSMC/cluster_env/runs/rg_opt_unstructured/job.jl:237\u001b[39m\n",
      "\u001b[33m\u001b[1m┌ \u001b[22m\u001b[39m\u001b[33m\u001b[1mWarning: \u001b[22m\u001b[39mgetting invalid params - (0.2706587964271059, 1.3706587964271058, 1.6293412035728942, 0.8293412035728942, -0.12934120357289414, -0.4293412035728941)\n",
      "\u001b[33m\u001b[1m└ \u001b[22m\u001b[39m\u001b[90m@ Main ~/UCLOneDrive/Projects/SSMC/cluster_env/runs/rg_opt_unstructured/job.jl:237\u001b[39m\n",
      "\u001b[33m\u001b[1m┌ \u001b[22m\u001b[39m\u001b[33m\u001b[1mWarning: \u001b[22m\u001b[39mgetting invalid params - (1.5286962144386513, 2.6286962144386514, 0.3713037855613488, -0.4286962144386512, -0.1286962144386512, 0.8286962144386512)\n",
      "\u001b[33m\u001b[1m└ \u001b[22m\u001b[39m\u001b[90m@ Main ~/UCLOneDrive/Projects/SSMC/cluster_env/runs/rg_opt_unstructured/job.jl:237\u001b[39m\n",
      "\u001b[33m\u001b[1m┌ \u001b[22m\u001b[39m\u001b[33m\u001b[1mWarning: \u001b[22m\u001b[39mgetting invalid params - (0.2713037855613488, 1.3713037855613488, 1.6286962144386512, 0.8286962144386512, 1.1286962144386512, -0.4286962144386512)\n",
      "\u001b[33m\u001b[1m└ \u001b[22m\u001b[39m\u001b[90m@ Main ~/UCLOneDrive/Projects/SSMC/cluster_env/runs/rg_opt_unstructured/job.jl:237\u001b[39m\n",
      "\u001b[33m\u001b[1m┌ \u001b[22m\u001b[39m\u001b[33m\u001b[1mWarning: \u001b[22m\u001b[39mgetting invalid params - (1.5280583588133179, 2.628058358813318, 1.628058358813318, -0.42805835881331783, 1.128058358813318, 0.8280583588133179)\n",
      "\u001b[33m\u001b[1m└ \u001b[22m\u001b[39m\u001b[90m@ Main ~/UCLOneDrive/Projects/SSMC/cluster_env/runs/rg_opt_unstructured/job.jl:237\u001b[39m\n",
      "\u001b[33m\u001b[1m┌ \u001b[22m\u001b[39m\u001b[33m\u001b[1mWarning: \u001b[22m\u001b[39mgetting invalid params - (0.2719416411866822, 1.371941641186682, 0.37194164118668216, 0.8280583588133179, -0.12805835881331784, -0.42805835881331783)\n",
      "\u001b[33m\u001b[1m└ \u001b[22m\u001b[39m\u001b[90m@ Main ~/UCLOneDrive/Projects/SSMC/cluster_env/runs/rg_opt_unstructured/job.jl:237\u001b[39m\n"
     ]
    }
   ],
   "source": [
    "function pc_func2(u)\n",
    "    -do_run1(u...;\n",
    "        num_repeats=100,\n",
    "        timelimit=5,\n",
    "    )\n",
    "end\n",
    "maxreal = 10.\n",
    "@time r = no.minimizeSPSA(pc_func2, [0.9, 2., 1., 0.2, 0.5, 0.2];\n",
    "    # niter=3,\n",
    "    # bounds=[(0., maxreal), (0., maxreal), (0., 1.), (0., 1.), (0., 1.), (0., 1.)],\n",
    "    # bounds=[fill(0., 6), [maxreal, maxreal, 1., 1., 1., 1.]],\n",
    "    # feps=0.1,\n",
    "    paired=false,\n",
    "    disp=true,\n",
    ");"
   ]
  },
  {
   "cell_type": "code",
   "execution_count": null,
   "id": "fe11a319-6405-4129-b603-cd8fea40cf24",
   "metadata": {},
   "outputs": [],
   "source": []
  },
  {
   "cell_type": "code",
   "execution_count": null,
   "id": "f393d58f-4a6e-4189-aa8c-b11300657ece",
   "metadata": {},
   "outputs": [],
   "source": []
  },
  {
   "cell_type": "markdown",
   "id": "e35608b4-5ce3-4aed-8d8f-73d93b1774e2",
   "metadata": {},
   "source": [
    "# NOMAD?"
   ]
  },
  {
   "cell_type": "code",
   "execution_count": null,
   "id": "55cc9f8e-94ac-4390-aaf7-a81f01187db7",
   "metadata": {},
   "outputs": [],
   "source": []
  },
  {
   "cell_type": "code",
   "execution_count": null,
   "id": "382bc583-8c40-4ae1-9c58-fdaabe9a8fff",
   "metadata": {},
   "outputs": [],
   "source": []
  },
  {
   "cell_type": "markdown",
   "id": "1acf7b27-cdb2-4119-9879-75fe86cf1a04",
   "metadata": {},
   "source": [
    "# Extra"
   ]
  },
  {
   "cell_type": "code",
   "execution_count": 189,
   "id": "c3c588e2-3f40-4c2d-b69f-e710490a4415",
   "metadata": {},
   "outputs": [],
   "source": [
    "GC.gc()\n",
    "empty!(Out)\n",
    "GC.gc()"
   ]
  }
 ],
 "metadata": {
  "kernelspec": {
   "display_name": "Julia (18 threads) default",
   "language": "julia",
   "name": "julia-_18-threads_-1.10"
  },
  "language_info": {
   "file_extension": ".jl",
   "mimetype": "application/julia",
   "name": "julia",
   "version": "1.10.9"
  }
 },
 "nbformat": 4,
 "nbformat_minor": 5
}
