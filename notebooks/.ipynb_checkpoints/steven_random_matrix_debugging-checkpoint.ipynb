{
 "cells": [
  {
   "cell_type": "code",
   "execution_count": 11,
   "id": "2dc0a957-830f-4fa3-a2b8-4f1745d7911b",
   "metadata": {},
   "outputs": [],
   "source": [
    "using Revise\n",
    "using SSMCMain, SSMCMain.ModifiedMiCRM, SSMCMain.SpaceMMiCRM"
   ]
  },
  {
   "cell_type": "code",
   "execution_count": 12,
   "id": "09f30d0f-c894-4e4d-96b1-3087492a750f",
   "metadata": {},
   "outputs": [],
   "source": [
    "using CairoMakie, ProgressLogging\n",
    "using Base.Threads\n",
    "using BenchmarkTools\n",
    "using JLD2, Geppetto\n",
    "using Random, Distributions"
   ]
  },
  {
   "cell_type": "code",
   "execution_count": 13,
   "id": "7ac47e01-3fd0-45ea-8798-cac2877abbed",
   "metadata": {},
   "outputs": [],
   "source": [
    "using GLMakie\n",
    "CairoMakie.activate!()\n",
    "# display(GLMakie.Screen(), f.figure)"
   ]
  },
  {
   "cell_type": "markdown",
   "id": "3119ab39-3d42-4d9a-a287-db463b5926b8",
   "metadata": {},
   "source": [
    "# Setup"
   ]
  },
  {
   "cell_type": "code",
   "execution_count": 14,
   "id": "43761fb2",
   "metadata": {},
   "outputs": [
    {
     "data": {
      "text/plain": [
       "random_matrix_initialization (generic function with 3 methods)"
      ]
     },
     "execution_count": 14,
     "metadata": {},
     "output_type": "execute_result"
    }
   ],
   "source": [
    "function random_matrix_initialization(S, M, c_sparsity=1.0, l_sparsity=0.35)\n",
    "    # 110425 to start let us just randomly draw D and c without structure\n",
    "    # similarly, we will generate some random guesses for the other parameters\n",
    "\n",
    "    # constant dilution rate\n",
    "    rnd = rand()\n",
    "    r = fill(rnd,M)\n",
    "\n",
    "    # universal death rate\n",
    "    rnd2 = rand()\n",
    "    m = rnd2\n",
    "\n",
    "    # for simplicity, lets start with a single fed resource\n",
    "    # chemostat feed rate \n",
    "    #K = fill(0.,M)\n",
    "    #K[1] = 1.\n",
    "\n",
    "    # lets allow resources some variability\n",
    "    #K_dist = truncated(Normal(0.5,0.1), 0.0, 1.0)\n",
    "    K_dist = Beta(0.1,0.3)\n",
    "    K = rand(K_dist, M)\n",
    "\n",
    "\n",
    "    # leakage now. Lets assume its a pretty flat probability distribution\n",
    "    leak = Beta(0.2/l_sparsity,0.2)\n",
    "    l = rand(leak,(S,M))\n",
    "\n",
    "    # most values around 0. This is essentially a proxy for sparsity\n",
    "    c_i_alpha = Beta(0.5/c_sparsity,0.5)\n",
    "    c = rand(c_i_alpha,(S,M))\n",
    "    \n",
    "    # finally, the most complicated distribution\n",
    "    D = fill(0.,(S,M,M))\n",
    "    for i in 1:S\n",
    "        for j in 1:M\n",
    "            if c[i,j] > 0\n",
    "                flag = true\n",
    "                while flag\n",
    "                    for k in 1:M\n",
    "                        if j == k\n",
    "                            D[i,k,j] = 0.0\n",
    "                        else\n",
    "                            D[i,k,j] = rand(Beta(0.5/(M/5),0.5))\n",
    "                        end\n",
    "                    end\n",
    "                    # check if the sum of the row is less than 1\n",
    "                    if sum(D[i,:,j]) < 1.0\n",
    "                        flag = false\n",
    "                    end\n",
    "                end\n",
    "            end\n",
    "\n",
    "        end\n",
    "    end\n",
    "\n",
    "\n",
    "    Ds = fill(0.,(S+M))\n",
    "    Ds[1:S] .= 1e-5\n",
    "    Ds[1+S] = 100\n",
    "    Ds[S+2:S+M] .= 10\n",
    "\n",
    "    return r, m, K, l, c, D, Ds\n",
    "\n",
    "   \n",
    "    \n",
    "\n",
    "end"
   ]
  },
  {
   "cell_type": "markdown",
   "id": "17d50618-b37b-4c72-a7c7-7123a82f2bce",
   "metadata": {},
   "source": [
    "# Original"
   ]
  },
  {
   "cell_type": "code",
   "execution_count": 15,
   "id": "2a751cc0-feef-445c-96aa-faee90943275",
   "metadata": {},
   "outputs": [
    {
     "name": "stdout",
     "output_type": "stream",
     "text": [
      "fraction instability: 0.1\n"
     ]
    }
   ],
   "source": [
    "# We are going to run a set of replicates to see how probable instability is\n",
    "nrep = 100\n",
    "\n",
    "S = 20\n",
    "M = 20  \n",
    "\n",
    "instability = fill(0., nrep)\n",
    "\n",
    "for ii in 1:nrep\n",
    "    # initialize the parameters\n",
    "    r, m, K, l, c, D, Ds = random_matrix_initialization(S,M)\n",
    "\n",
    "    # create the model\n",
    "    p = make_mmicrm_smart(S, M, 500;\n",
    "        D, c, l,\n",
    "        K,r,m,\n",
    "        u0=:onlyN,\n",
    "        u0rand=0.\n",
    "    )\n",
    "    s = solve(p)\n",
    "\n",
    "    usol = s[end]\n",
    "\n",
    "    # check the stability\n",
    "    ks = LinRange(0., 40., 10000)\n",
    "    lambdas = do_linstab_for_ks(ks, p, Ds, usol);\n",
    "\n",
    "    if maximum(real(lambdas)) > 0\n",
    "        instability[ii] = 1.\n",
    "    else\n",
    "        instability[ii] = 0.\n",
    "    end\n",
    "    #println(\"replicate \", ii, \" of \", nrep, \" done\")\n",
    "end\n",
    "\n",
    "println(\"fraction instability: \", sum(instability)/nrep)"
   ]
  },
  {
   "cell_type": "markdown",
   "id": "a9020185-2a9f-4848-8840-758e044327c1",
   "metadata": {},
   "source": [
    "# Modified - extended steady state solver time, plus added some debug printing"
   ]
  },
  {
   "cell_type": "code",
   "execution_count": 10,
   "id": "d6fda143",
   "metadata": {},
   "outputs": [
    {
     "name": "stdout",
     "output_type": "stream",
     "text": [
      "fraction instability: 0.01\n"
     ]
    }
   ],
   "source": [
    "# We are going to run a set of replicates to see how probable instability is\n",
    "nrep = 100\n",
    "\n",
    "S = 20\n",
    "M = 20  \n",
    "\n",
    "instability = fill(0, nrep)\n",
    "\n",
    "xx = uninplace(mmicrmfunc!)\n",
    "\n",
    "for ii in 1:nrep\n",
    "    # initialize the parameters\n",
    "    r, m, K, l, c, D, Ds = random_matrix_initialization(S,M)\n",
    "\n",
    "    # create the model\n",
    "    p = make_mmicrm_smart(S, M, 1000000;\n",
    "        D, c, l,\n",
    "        K,r,m,\n",
    "        u0=:onlyN,\n",
    "        u0rand=0.\n",
    "    )\n",
    "    s = solve(p)\n",
    "\n",
    "    maxcells = maximum(s.u[end][1:S])\n",
    "    if maxcells < 1e-6\n",
    "        @warn \"maxcells = $maxcells\"\n",
    "    end\n",
    "    resid = xx(s.u[end], p.p)\n",
    "    maxresid = maximum(abs, resid)\n",
    "    if maxresid > 1e-5\n",
    "        @warn \"maxresid = $maxresid\"\n",
    "    end\n",
    "\n",
    "    usol = s[end]\n",
    "\n",
    "    # check the stability\n",
    "    ks = LinRange(0., 40., 10000)\n",
    "    lambdas = do_linstab_for_ks(ks, p, Ds, usol);\n",
    "\n",
    "    if maximum(real(lambdas)) > 0.\n",
    "        instability[ii] = 1\n",
    "    else\n",
    "        instability[ii] = 0\n",
    "    end\n",
    "    #println(\"replicate \", ii, \" of \", nrep, \" done\")\n",
    "end\n",
    "\n",
    "println(\"fraction instability: \", sum(instability)/nrep)"
   ]
  },
  {
   "cell_type": "markdown",
   "id": "13a02c75-f812-4270-b0af-dbe4c313930d",
   "metadata": {},
   "source": [
    "# Extras"
   ]
  },
  {
   "cell_type": "code",
   "execution_count": null,
   "id": "40fa70b1-7cc1-4130-83de-b48d4853a9b7",
   "metadata": {},
   "outputs": [],
   "source": []
  },
  {
   "cell_type": "code",
   "execution_count": null,
   "id": "98df506c-cbf7-426f-9c63-72ee5086e65c",
   "metadata": {},
   "outputs": [],
   "source": []
  },
  {
   "cell_type": "code",
   "execution_count": null,
   "id": "eb6532f1-8fd6-4310-8c17-7d8cbd744961",
   "metadata": {},
   "outputs": [],
   "source": []
  },
  {
   "cell_type": "code",
   "execution_count": 952,
   "id": "c3c588e2-3f40-4c2d-b69f-e710490a4415",
   "metadata": {},
   "outputs": [
    {
     "data": {
      "text/plain": [
       "Dict{Int64, Any}()"
      ]
     },
     "execution_count": 952,
     "metadata": {},
     "output_type": "execute_result"
    }
   ],
   "source": [
    "GC.gc()\n",
    "empty!(Out)"
   ]
  }
 ],
 "metadata": {
  "kernelspec": {
   "display_name": "Julia (18 threads) default",
   "language": "julia",
   "name": "julia-_18-threads_-1.10"
  },
  "language_info": {
   "file_extension": ".jl",
   "mimetype": "application/julia",
   "name": "julia",
   "version": "1.10.9"
  }
 },
 "nbformat": 4,
 "nbformat_minor": 5
}
