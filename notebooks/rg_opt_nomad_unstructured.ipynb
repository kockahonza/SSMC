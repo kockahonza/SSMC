{
 "cells": [
  {
   "cell_type": "code",
   "execution_count": 1,
   "id": "2dc0a957-830f-4fa3-a2b8-4f1745d7911b",
   "metadata": {},
   "outputs": [],
   "source": [
    "using Revise\n",
    "includet(\"../cluster_env/runs/rg_nomad_unstructured1/job.jl\")"
   ]
  },
  {
   "cell_type": "code",
   "execution_count": 2,
   "id": "7ac47e01-3fd0-45ea-8798-cac2877abbed",
   "metadata": {},
   "outputs": [],
   "source": [
    "using CairoMakie\n",
    "using GLMakie\n",
    "CairoMakie.activate!()\n",
    "# display(GLMakie.Screen(), f.figure)"
   ]
  },
  {
   "cell_type": "markdown",
   "id": "279e8def-e536-48ca-acc8-88da6217ce3b",
   "metadata": {},
   "source": [
    "# Testing 1"
   ]
  },
  {
   "cell_type": "code",
   "execution_count": 33,
   "id": "7e3d2489-4378-46ad-ad98-32202caacb96",
   "metadata": {},
   "outputs": [
    {
     "name": "stdout",
     "output_type": "stream",
     "text": [
      " 79.680688 seconds (91.79 M allocations: 37.895 GiB, 4.06% gc time)\n"
     ]
    },
    {
     "data": {
      "text/plain": [
       "0.10843373493975904"
      ]
     },
     "execution_count": 33,
     "metadata": {},
     "output_type": "execute_result"
    }
   ],
   "source": [
    "@time do_run1(0.6, 3.0, 1.0, 0.3, 0.4, 0.2;\n",
    "    N=10,\n",
    "    num_repeats=1000,\n",
    "    timelimit=5\n",
    ")"
   ]
  },
  {
   "cell_type": "code",
   "execution_count": 40,
   "id": "1c592ac4-fb17-4865-af78-91d414db3c54",
   "metadata": {},
   "outputs": [
    {
     "name": "stdout",
     "output_type": "stream",
     "text": [
      " -0       \t(   0.9        2          1          0.2        0.5        0.2      )\t1 -0.000000 \n",
      " -0       \t(   0.9        3          1          0.1        0.6        0.1      )\t2 -0.000000 \n",
      " -0.02    \t(   0.9        1          0.9        0.3        0.4        0.3      )\t3 -0.020000 \n",
      " -0       \t(   0.9        0          0.6        0.6        0.1        0.6      )\t4 -0.000000 \n",
      " -0       \t(   0.9        0          0.7        0.3        0.3        0.4      )\t5 -0.000000 \n",
      " -0       \t(   0.9        0          1          0.3        0.5        0.5      )\t6 -0.000000 \n",
      " -0       \t(   0.9        0          0.9        0.3        0.5        0.1      )\t7 -0.000000 \n",
      " -0       \t(   0.9        1          0.9        0.5        0.4        0.3      )\t8 -0.000000 \n",
      " -0.02    \t(   1          1          0.8        0.3        0.4        0.3      )\t9 -0.020000 \n",
      " -0       \t(   0.9        1          1          0.3        0.2        0.3      )\t10 -0.000000 \n",
      " -0       \t(   0.8        4          1          0.1        0.5        0.2      )\t11 -0.000000 \n",
      " -0       \t(   0.933      2          0.8        0.3        0.3        0.5      )\t12 -0.000000 \n",
      " -0       \t(   0.925      2          0.8        0.3        0.3        0.4      )\t13 -0.000000 \n",
      " -0       \t(   0.875      2          0.9        0.4        0.3        0.4      )\t14 -0.000000 \n",
      " -0.02    \t(   0.864      2          0.9        0.2        0.4        0.2      )\t15 -0.020000 \n",
      " -0       \t(   0.859      0          0.9        0.4        0.4        0.2      )\t16 -0.000000 \n",
      " -0       \t(   0.917      1          0.9        0.3        0.5        0.3      )\t17 -0.000000 \n",
      " -0       \t(   0.85       0          0.9        0.2        0.4        0.4      )\t18 -0.000000 \n",
      " -0       \t(   0.907      1          1          0.3        0.4        0.3      )\t19 -0.000000 \n",
      "A termination criterion is reached: Maximum allowed time reached (Base) No more points to evaluate\n",
      "\n",
      "Best feasible solution:     #2 ( 0.9 1 0.9 0.3 0.4 0.3 )\tEvaluation OK\t f =  -0.02000000000000000042\t h =   0                     \n",
      "\n",
      "Best infeasible solution:   Undefined.\n",
      "\n",
      "Blackbox evaluations:         19\n",
      "Total model evaluations:      910\n",
      "Cache hits:                   1\n",
      "Total number of evaluations:  20\n",
      " 31.476369 seconds (14.66 M allocations: 2.251 GiB, 0.73% gc time)\n",
      " 32.226498 seconds (14.66 M allocations: 2.251 GiB, 3.03% gc time)\n"
     ]
    },
    {
     "data": {
      "text/plain": [
       "((x_best_feas = [0.864, 2.0, 0.9, 0.2, 0.4, 0.2], bbo_best_feas = [-0.02], x_best_inf = nothing, bbo_best_inf = nothing), [([0.9, 2.0, 1.0, 0.2, 0.5, 0.2], 0.0), ([0.9, 3.0, 1.0, 0.1, 0.6, 0.1], 0.0), ([0.9, 1.0, 0.9, 0.3, 0.4, 0.3], 0.02), ([0.9, 0.0, 0.6, 0.6, 0.1, 0.6], 0.0), ([0.9, 0.0, 0.7, 0.3, 0.3, 0.4], 0.0), ([0.9, 0.0, 1.0, 0.3, 0.5, 0.5], 0.0), ([0.9, 0.0, 0.9, 0.3, 0.5, 0.1], 0.0), ([0.9, 1.0, 0.9, 0.5, 0.4, 0.3], 0.0), ([1.0, 1.0, 0.8, 0.3, 0.4, 0.3], 0.02), ([0.9, 1.0, 1.0, 0.3, 0.2, 0.3], 0.0), ([0.8, 4.0, 1.0, 0.1, 0.5, 0.2], 0.0), ([0.933, 2.0, 0.8, 0.3, 0.3, 0.5], 0.0), ([0.925, 2.0, 0.8, 0.3, 0.3, 0.4], 0.0), ([0.875, 2.0, 0.9, 0.4, 0.3, 0.4], 0.0), ([0.864, 2.0, 0.9, 0.2, 0.4, 0.2], 0.02), ([0.859, 0.0, 0.9, 0.4, 0.4, 0.2], 0.0), ([0.917, 1.0, 0.9, 0.3, 0.5, 0.3], 0.0), ([0.85, 0.0, 0.9, 0.2, 0.4, 0.4], 0.0), ([0.907, 1.0, 1.0, 0.3, 0.4, 0.3], 0.0)])"
      ]
     },
     "execution_count": 40,
     "metadata": {},
     "output_type": "execute_result"
    }
   ],
   "source": [
    "@time s, t = do_opt(u0_1;\n",
    "    maxtime=20,\n",
    "    num_repeats=50,\n",
    "    timelimit=2\n",
    ")"
   ]
  },
  {
   "cell_type": "code",
   "execution_count": 21,
   "id": "ec30d4ed-05b1-491d-a9f8-1c3d286fd44d",
   "metadata": {},
   "outputs": [
    {
     "data": {
      "text/plain": [
       "(x_best_feas = [0.6, 3.0, 1.0, 0.3, 0.4, 0.2], bbo_best_feas = [-0.061224], x_best_inf = nothing, bbo_best_inf = nothing)"
      ]
     },
     "execution_count": 21,
     "metadata": {},
     "output_type": "execute_result"
    }
   ],
   "source": [
    "s"
   ]
  },
  {
   "cell_type": "code",
   "execution_count": 24,
   "id": "aaa0418f-37db-47a3-9e79-f745f3ffe56e",
   "metadata": {},
   "outputs": [
    {
     "data": {
      "text/plain": [
       "9-element Vector{Vector{Float64}}:\n",
       " [0.9, 2.0, 1.0, 0.2, 0.5, 0.2]\n",
       " [0.9, 3.0, 1.0, 0.1, 0.6, 0.1]\n",
       " [0.9, 1.0, 0.9, 0.3, 0.4, 0.3]\n",
       " [0.9, 3.0, 1.0, 0.2, 0.5, 0.2]\n",
       " [1.0, 2.0, 1.0, 0.2, 0.5, 0.2]\n",
       " [0.8, 2.0, 1.0, 0.3, 0.5, 0.2]\n",
       " [0.5, 2.0, 1.0, 0.6, 0.5, 0.2]\n",
       " [0.7, 1.0, 1.0, 0.4, 0.5, 0.2]\n",
       " [0.6, 3.0, 1.0, 0.3, 0.4, 0.2]"
      ]
     },
     "execution_count": 24,
     "metadata": {},
     "output_type": "execute_result"
    }
   ],
   "source": [
    "getindex.(t, 1)"
   ]
  },
  {
   "cell_type": "code",
   "execution_count": null,
   "id": "61148117-bca3-4a19-850a-1efa6e2dbb59",
   "metadata": {},
   "outputs": [],
   "source": []
  },
  {
   "cell_type": "markdown",
   "id": "1acf7b27-cdb2-4119-9879-75fe86cf1a04",
   "metadata": {},
   "source": [
    "# Extra"
   ]
  },
  {
   "cell_type": "code",
   "execution_count": 189,
   "id": "c3c588e2-3f40-4c2d-b69f-e710490a4415",
   "metadata": {},
   "outputs": [],
   "source": [
    "GC.gc()\n",
    "empty!(Out)\n",
    "GC.gc()"
   ]
  }
 ],
 "metadata": {
  "kernelspec": {
   "display_name": "Julia (18 threads) default",
   "language": "julia",
   "name": "julia-_18-threads_-1.10"
  },
  "language_info": {
   "file_extension": ".jl",
   "mimetype": "application/julia",
   "name": "julia",
   "version": "1.10.10"
  }
 },
 "nbformat": 4,
 "nbformat_minor": 5
}
