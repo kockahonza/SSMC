{
 "cells": [
  {
   "cell_type": "code",
   "execution_count": 1,
   "id": "4b5ddae0",
   "metadata": {},
   "outputs": [],
   "source": [
    "using Revise\n",
    "using SSMCMain, SSMCMain.ModifiedMiCRM, SSMCMain.ModifiedMiCRM.RandomSystems"
   ]
  },
  {
   "cell_type": "code",
   "execution_count": 7,
   "id": "2f607519",
   "metadata": {},
   "outputs": [],
   "source": [
    "using Base.Threads, OhMyThreads\n",
    "using BenchmarkTools\n",
    "using JLD2\n",
    "using Geppetto\n",
    "using EnumX\n",
    "using Random, Distributions\n",
    "using FreqTables\n",
    "using Graphs, GraphsFlows"
   ]
  },
  {
   "cell_type": "markdown",
   "id": "c8e5e7e9",
   "metadata": {},
   "source": [
    "## Lets try some flow shizz"
   ]
  },
  {
   "cell_type": "code",
   "execution_count": 9,
   "id": "ded45234",
   "metadata": {},
   "outputs": [],
   "source": [
    "flow_graph = Graphs.DiGraph(8) # Create a flow-graph\n",
    "flow_edges = [\n",
    "    (1,2,10),(1,3,5),(1,4,15),(2,3,4),(2,5,9),\n",
    "    (2,6,15),(3,4,4),(3,6,8),(4,7,16),(5,6,15),\n",
    "    (5,8,10),(6,7,15),(6,8,10),(7,3,6),(7,8,10)\n",
    "    ]\n",
    "capacity_matrix = zeros(Int, 8, 8)\n",
    "\n",
    "\n",
    "for e in flow_edges\n",
    "    u, v, f = e\n",
    "    Graphs.add_edge!(flow_graph, u, v)\n",
    "    capacity_matrix[u,v] = f\n",
    "end"
   ]
  },
  {
   "cell_type": "code",
   "execution_count": 10,
   "id": "2d15935c",
   "metadata": {},
   "outputs": [
    {
     "data": {
      "text/plain": [
       "(3, sparse([2, 3, 4, 1, 5, 1, 6, 1, 7, 2, 8, 3, 8, 4, 8, 5, 6, 7], [1, 1, 1, 2, 2, 3, 3, 4, 4, 5, 5, 6, 6, 7, 7, 8, 8, 8], [-1, -1, -1, 1, -1, 1, -1, 1, -1, 1, -1, 1, -1, 1, -1, 1, 1, 1], 8, 8))"
      ]
     },
     "metadata": {},
     "output_type": "display_data"
    }
   ],
   "source": [
    "f, F = maximum_flow(flow_graph, 1, 8)"
   ]
  },
  {
   "cell_type": "code",
   "execution_count": null,
   "id": "b696a00a",
   "metadata": {},
   "outputs": [],
   "source": []
  }
 ],
 "metadata": {
  "kernelspec": {
   "display_name": "Julia 1.11.4",
   "language": "julia",
   "name": "julia-1.11"
  },
  "language_info": {
   "file_extension": ".jl",
   "mimetype": "application/julia",
   "name": "julia",
   "version": "1.11.4"
  }
 },
 "nbformat": 4,
 "nbformat_minor": 5
}
