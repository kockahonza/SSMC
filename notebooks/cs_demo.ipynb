{
 "cells": [
  {
   "cell_type": "code",
   "execution_count": 1,
   "id": "ec2a703c-f557-4624-a25b-a5a6e298ea5f",
   "metadata": {},
   "outputs": [],
   "source": [
    "using Revise\n",
    "using SSMCMain, SSMCMain.ModifiedMiCRM\n",
    "# using SSMCMain.ModifiedMiCRM.RandomSystems\n",
    "# using SSMCMain.ModifiedMiCRM.GraphAnalysis"
   ]
  },
  {
   "cell_type": "code",
   "execution_count": 2,
   "id": "fdda389a-69fc-4629-bd83-a38b7227fa51",
   "metadata": {},
   "outputs": [
    {
     "data": {
      "text/plain": [
       "Python: <module 'community_simulator' from '/home/honza/UCLOneDrive/Projects/SSMC/community-simulator/community_simulator/__init__.py'>"
      ]
     },
     "execution_count": 2,
     "metadata": {},
     "output_type": "execute_result"
    }
   ],
   "source": [
    "using PythonCall\n",
    "sys = pyimport(\"sys\")\n",
    "sys.path.append(projectdir(\"community-simulator\"))\n",
    "cs = pyimport(\"community_simulator\")"
   ]
  },
  {
   "cell_type": "code",
   "execution_count": 2,
   "id": "23431097-8d61-4ab8-b829-93c1cd2e5fb4",
   "metadata": {},
   "outputs": [
    {
     "name": "stderr",
     "output_type": "stream",
     "text": [
      "\u001b[36m\u001b[1m[ \u001b[22m\u001b[39m\u001b[36m\u001b[1mInfo: \u001b[22m\u001b[39mPrecompiling CairoMakie [13f3f980-e62b-5c42-98c6-ff1f3baf88f0]\n"
     ]
    }
   ],
   "source": [
    "using CairoMakie\n",
    "using GLMakie\n",
    "CairoMakie.activate!()\n",
    "# display(GLMakie.Screen(), f.figure)"
   ]
  },
  {
   "cell_type": "code",
   "execution_count": 6,
   "id": "2b5cd6b3-204d-4a6b-9c32-0e70e83a62b6",
   "metadata": {},
   "outputs": [
    {
     "data": {
      "text/plain": [
       "Python: <module 'community_simulator' from '/home/honza/UCLOneDrive/Projects/SSMC/community-simulator/community_simulator/__init__.py'>"
      ]
     },
     "execution_count": 6,
     "metadata": {},
     "output_type": "execute_result"
    }
   ],
   "source": [
    "cs"
   ]
  }
 ],
 "metadata": {
  "kernelspec": {
   "display_name": "Julia (18 threads) default",
   "language": "julia",
   "name": "julia-_18-threads_-1.10"
  },
  "language_info": {
   "file_extension": ".jl",
   "mimetype": "application/julia",
   "name": "julia",
   "version": "1.10.10"
  }
 },
 "nbformat": 4,
 "nbformat_minor": 5
}
