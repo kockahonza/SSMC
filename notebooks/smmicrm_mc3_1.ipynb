{
 "cells": [
  {
   "cell_type": "code",
   "execution_count": null,
   "id": "2dc0a957-830f-4fa3-a2b8-4f1745d7911b",
   "metadata": {},
   "outputs": [],
   "source": [
    "using Revise\n",
    "using SSMCMain, SSMCMain.ModifiedMiCRM, MLSolver"
   ]
  },
  {
   "cell_type": "code",
   "execution_count": null,
   "id": "09f30d0f-c894-4e4d-96b1-3087492a750f",
   "metadata": {},
   "outputs": [],
   "source": [
    "using CairoMakie, ProgressLogging"
   ]
  },
  {
   "cell_type": "markdown",
   "id": "cad96031-3c35-4476-850f-b0448fc2222e",
   "metadata": {},
   "source": [
    "## Basic no space solve"
   ]
  },
  {
   "cell_type": "code",
   "execution_count": null,
   "id": "ee273199-ad19-4d47-8e02-3528bba26d35",
   "metadata": {},
   "outputs": [],
   "source": [
    "D = fill(0., 2, 3, 3)\n",
    "D[1,:,:] .= [0. 0. 0.; 0. 0. 0.; 1 0. 0.]\n",
    "D[2,:,:] .= [0. 0. 0.; 1. 0. 0.; 0. 0. 0.]\n",
    "p = make_mmicrm_smart(2, 3, 200;\n",
    "    D=SArray{Tuple{2,3,3}}(D),\n",
    "    K=[3., 0., 0.],\n",
    "    r=[1., 1., 1.],\n",
    "    l=[1. 0. 0.; 1. 0. 0.],\n",
    "    c=[2. 2. 0.; 2. 0. 2.],\n",
    "    m=[0.5, 0.9],\n",
    "    u0=[1., 1., 0., 0., 0.],\n",
    "    u0rand=0.\n",
    ")\n",
    "s = solve(p)\n",
    "display(plot_mmicrm_sol(s))\n",
    "# display(p.p.c)\n",
    "# display(p.p.D[1,:,:])\n",
    "# display(p.p.D[2,:,:])\n",
    "#show(s.u[end])\n",
    "# param_summary(p.p)"
   ]
  },
  {
   "cell_type": "markdown",
   "id": "c94e8c15-e0a8-4d19-9bcc-dba0fb48966a",
   "metadata": {},
   "source": [
    "## Linear stability analysis"
   ]
  },
  {
   "cell_type": "code",
   "execution_count": null,
   "id": "b0a937b5-76ab-4b14-a915-bcb53bc1976a",
   "metadata": {},
   "outputs": [],
   "source": [
    "symsol = symbolic_solve_ode_ml(p)"
   ]
  },
  {
   "cell_type": "code",
   "execution_count": null,
   "id": "7b155958-ba89-4b6d-950b-4e4a7ecdd02c",
   "metadata": {},
   "outputs": [],
   "source": [
    "sssol = solve(SteadyStateProblem(p), DynamicSS())\n",
    "show(sssol)"
   ]
  },
  {
   "cell_type": "code",
   "execution_count": null,
   "id": "f124d55b-1ae8-484e-a00b-522c5c2745f3",
   "metadata": {},
   "outputs": [],
   "source": [
    "ks = LinRange(0., 10., 10000)\n",
    "Ds = [0.01, 0.01, 1e2, 1., 1.]\n",
    "usol = s.u[end]\n",
    "#usol = sssol.u\n",
    "#usol = Symbolics.value.(getindex.(symsol[2], 2))\n",
    "show(uninplace(mmicrmfunc!)(sssol.u, p.p, 0))"
   ]
  },
  {
   "cell_type": "code",
   "execution_count": null,
   "id": "c95b088d-7303-4af4-99b5-a5fa52066a45",
   "metadata": {},
   "outputs": [],
   "source": [
    "lambdas = do_linstab_for_ks(ks, p, Ds, usol);\n",
    "@show maximum(real(lambdas))\n",
    "faa = plot_linstab_lambdas(ks, lambdas[:,:])\n",
    "ylims!(faa.axis, (-0.5, 0.5))\n",
    "#xlims!(faa.axis, (0., 2.))\n",
    "faa"
   ]
  },
  {
   "cell_type": "code",
   "execution_count": null,
   "id": "27a315ff-38cc-44fd-b70a-2a05675fda92",
   "metadata": {},
   "outputs": [],
   "source": [
    "ff = linstab_make_full_func(p.p, usol, Ds)\n",
    "kmax_i = argmax(maximum.(eachrow(real(lambdas))))\n",
    "kmax = ks[kmax_i]\n",
    "kmax_i, kmax"
   ]
  },
  {
   "cell_type": "code",
   "execution_count": null,
   "id": "f5ba13d5-f977-4f5a-8cab-a25bb9d5473e",
   "metadata": {},
   "outputs": [],
   "source": [
    "kmax_es = ff(kmax);\n",
    "kmax_es.vectors[:,1]"
   ]
  },
  {
   "cell_type": "markdown",
   "id": "ea2d1c13-e7a8-42b1-b099-217ed1b57650",
   "metadata": {},
   "source": [
    "## Spatial stuff - 1D!"
   ]
  },
  {
   "cell_type": "code",
   "execution_count": null,
   "id": "c5e819fa-a429-4ff7-ad09-e5aff459d40c",
   "metadata": {},
   "outputs": [],
   "source": [
    "using SSMCMain.SpaceMMiCRM"
   ]
  },
  {
   "cell_type": "code",
   "execution_count": null,
   "id": "49b93a27-5fbf-4e5e-ba95-2c97405f946e",
   "metadata": {},
   "outputs": [],
   "source": [
    "ssize = (200,)\n",
    "su0 = expand_u0_to_size(ssize, usol)\n",
    "psu0 = perturb_u0_uniform(get_Ns(p.p)..., su0, 0.2, 0.2)\n",
    "space = make_cartesianspace_smart(length(ssize); dx=0.2)\n",
    "sp = make_smmicrm_problem_safe(psu0, 10000, p.p, SA[Ds...], space)"
   ]
  },
  {
   "cell_type": "code",
   "execution_count": null,
   "id": "1347bb45-865b-45b4-a185-b9f3fa4e3cdc",
   "metadata": {},
   "outputs": [],
   "source": [
    "sps = solve(sp)\n",
    "display(sps.retcode)\n",
    "display(sps.destats.nf)\n",
    "plot_1dsmmicrm_sol_snap(sps, 50.0)"
   ]
  },
  {
   "cell_type": "code",
   "execution_count": null,
   "id": "f9397ac1-c1b1-4e17-991d-8d22f5290573",
   "metadata": {},
   "outputs": [],
   "source": []
  }
 ],
 "metadata": {
  "kernelspec": {
   "display_name": "Julia (18 threads) 1.10.8",
   "language": "julia",
   "name": "julia-_18-threads_-1.10"
  },
  "language_info": {
   "file_extension": ".jl",
   "mimetype": "application/julia",
   "name": "julia",
   "version": "1.10.8"
  }
 },
 "nbformat": 4,
 "nbformat_minor": 5
}
