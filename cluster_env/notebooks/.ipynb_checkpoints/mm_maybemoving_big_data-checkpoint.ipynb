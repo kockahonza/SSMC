{
 "cells": [
  {
   "cell_type": "code",
   "execution_count": null,
   "id": "f9c88a1c-18a2-4102-b129-eeef8f5ad4cd",
   "metadata": {},
   "outputs": [
    {
     "name": "stderr",
     "output_type": "stream",
     "text": [
      "\u001b[32m\u001b[1mPrecompiling\u001b[22m\u001b[39m packages...\n",
      "  32034.9 ms\u001b[32m  ✓ \u001b[39m\u001b[90mDiffEqBase → DiffEqBaseDistributionsExt\u001b[39m\n",
      "  44386.2 ms\u001b[32m  ✓ \u001b[39m\u001b[90mDiffEqNoiseProcess\u001b[39m\n",
      "  76802.2 ms\u001b[33m  ? \u001b[39m\u001b[90mSciMLBase → SciMLBaseMakieExt\u001b[39m\n",
      " 125791.4 ms\u001b[32m  ✓ \u001b[39m\u001b[90mStochasticDiffEq\u001b[39m\n",
      " 303138.0 ms\u001b[32m  ✓ \u001b[39m\u001b[90mDifferentialEquations\u001b[39m\n"
     ]
    }
   ],
   "source": [
    "include(\"../runs/mm_maybemoving_extra/base.jl\")"
   ]
  },
  {
   "cell_type": "code",
   "execution_count": null,
   "id": "ecdc7615-bf72-4408-956b-d580520a3cc7",
   "metadata": {},
   "outputs": [],
   "source": [
    "using CairoMakie"
   ]
  },
  {
   "cell_type": "code",
   "execution_count": null,
   "id": "474dba20-3c63-4e04-9c98-d962fb89e0a8",
   "metadata": {},
   "outputs": [],
   "source": [
    "@show 42"
   ]
  },
  {
   "cell_type": "code",
   "execution_count": null,
   "id": "b36da929-cefd-4147-a2d9-b37bf228bf7f",
   "metadata": {},
   "outputs": [],
   "source": []
  },
  {
   "cell_type": "code",
   "execution_count": null,
   "id": "2c544ae1-47e9-432e-b483-e72c46ca7d04",
   "metadata": {},
   "outputs": [],
   "source": []
  }
 ],
 "metadata": {
  "kernelspec": {
   "display_name": "Julia test",
   "language": "julia",
   "name": "julia-test"
  },
  "language_info": {
   "file_extension": ".jl",
   "mimetype": "application/julia",
   "name": "julia",
   "version": "1.10.9"
  }
 },
 "nbformat": 4,
 "nbformat_minor": 5
}
