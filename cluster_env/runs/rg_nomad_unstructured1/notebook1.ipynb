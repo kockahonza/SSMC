{
 "cells": [
  {
   "cell_type": "code",
   "execution_count": 6,
   "id": "a8c37661-caf4-4a37-802b-db8b3bbd6ec8",
   "metadata": {},
   "outputs": [
    {
     "name": "stderr",
     "output_type": "stream",
     "text": [
      "\u001b[32m\u001b[1m  Activating\u001b[22m\u001b[39m project at `~/UCLOneDrive/Projects/SSMC`\n"
     ]
    }
   ],
   "source": [
    "]activate ../../../"
   ]
  },
  {
   "cell_type": "code",
   "execution_count": 7,
   "id": "2dc0a957-830f-4fa3-a2b8-4f1745d7911b",
   "metadata": {},
   "outputs": [],
   "source": [
    "using Revise\n",
    "includet(\"job.jl\")"
   ]
  },
  {
   "cell_type": "code",
   "execution_count": 8,
   "id": "7ac47e01-3fd0-45ea-8798-cac2877abbed",
   "metadata": {},
   "outputs": [],
   "source": [
    "using CairoMakie\n",
    "using GLMakie\n",
    "CairoMakie.activate!()\n",
    "# display(GLMakie.Screen(), f.figure)"
   ]
  },
  {
   "cell_type": "markdown",
   "id": "279e8def-e536-48ca-acc8-88da6217ce3b",
   "metadata": {
    "jp-MarkdownHeadingCollapsed": true
   },
   "source": [
    "# Testing 1"
   ]
  },
  {
   "cell_type": "code",
   "execution_count": 7,
   "id": "7e3d2489-4378-46ad-ad98-32202caacb96",
   "metadata": {},
   "outputs": [
    {
     "name": "stdout",
     "output_type": "stream",
     "text": [
      " 84.114049 seconds (102.16 M allocations: 38.594 GiB, 3.82% gc time, 332.61% compilation time: <1% of which was recompilation)\n"
     ]
    },
    {
     "data": {
      "text/plain": [
       "0.09929789368104312"
      ]
     },
     "execution_count": 7,
     "metadata": {},
     "output_type": "execute_result"
    }
   ],
   "source": [
    "@time do_run1(0.6, 3.0, 1.0, 0.3, 0.4, 0.2;\n",
    "    N=10,\n",
    "    num_repeats=1000,\n",
    "    timelimit=5\n",
    ")"
   ]
  },
  {
   "cell_type": "code",
   "execution_count": 40,
   "id": "1c592ac4-fb17-4865-af78-91d414db3c54",
   "metadata": {},
   "outputs": [
    {
     "name": "stdout",
     "output_type": "stream",
     "text": [
      " -0       \t(   0.9        2          1          0.2        0.5        0.2      )\t1 -0.000000 \n",
      " -0       \t(   0.9        3          1          0.1        0.6        0.1      )\t2 -0.000000 \n",
      " -0.02    \t(   0.9        1          0.9        0.3        0.4        0.3      )\t3 -0.020000 \n",
      " -0       \t(   0.9        0          0.6        0.6        0.1        0.6      )\t4 -0.000000 \n",
      " -0       \t(   0.9        0          0.7        0.3        0.3        0.4      )\t5 -0.000000 \n",
      " -0       \t(   0.9        0          1          0.3        0.5        0.5      )\t6 -0.000000 \n",
      " -0       \t(   0.9        0          0.9        0.3        0.5        0.1      )\t7 -0.000000 \n",
      " -0       \t(   0.9        1          0.9        0.5        0.4        0.3      )\t8 -0.000000 \n",
      " -0.02    \t(   1          1          0.8        0.3        0.4        0.3      )\t9 -0.020000 \n",
      " -0       \t(   0.9        1          1          0.3        0.2        0.3      )\t10 -0.000000 \n",
      " -0       \t(   0.8        4          1          0.1        0.5        0.2      )\t11 -0.000000 \n",
      " -0       \t(   0.933      2          0.8        0.3        0.3        0.5      )\t12 -0.000000 \n",
      " -0       \t(   0.925      2          0.8        0.3        0.3        0.4      )\t13 -0.000000 \n",
      " -0       \t(   0.875      2          0.9        0.4        0.3        0.4      )\t14 -0.000000 \n",
      " -0.02    \t(   0.864      2          0.9        0.2        0.4        0.2      )\t15 -0.020000 \n",
      " -0       \t(   0.859      0          0.9        0.4        0.4        0.2      )\t16 -0.000000 \n",
      " -0       \t(   0.917      1          0.9        0.3        0.5        0.3      )\t17 -0.000000 \n",
      " -0       \t(   0.85       0          0.9        0.2        0.4        0.4      )\t18 -0.000000 \n",
      " -0       \t(   0.907      1          1          0.3        0.4        0.3      )\t19 -0.000000 \n",
      "A termination criterion is reached: Maximum allowed time reached (Base) No more points to evaluate\n",
      "\n",
      "Best feasible solution:     #2 ( 0.9 1 0.9 0.3 0.4 0.3 )\tEvaluation OK\t f =  -0.02000000000000000042\t h =   0                     \n",
      "\n",
      "Best infeasible solution:   Undefined.\n",
      "\n",
      "Blackbox evaluations:         19\n",
      "Total model evaluations:      910\n",
      "Cache hits:                   1\n",
      "Total number of evaluations:  20\n",
      " 31.476369 seconds (14.66 M allocations: 2.251 GiB, 0.73% gc time)\n",
      " 32.226498 seconds (14.66 M allocations: 2.251 GiB, 3.03% gc time)\n"
     ]
    },
    {
     "data": {
      "text/plain": [
       "((x_best_feas = [0.864, 2.0, 0.9, 0.2, 0.4, 0.2], bbo_best_feas = [-0.02], x_best_inf = nothing, bbo_best_inf = nothing), [([0.9, 2.0, 1.0, 0.2, 0.5, 0.2], 0.0), ([0.9, 3.0, 1.0, 0.1, 0.6, 0.1], 0.0), ([0.9, 1.0, 0.9, 0.3, 0.4, 0.3], 0.02), ([0.9, 0.0, 0.6, 0.6, 0.1, 0.6], 0.0), ([0.9, 0.0, 0.7, 0.3, 0.3, 0.4], 0.0), ([0.9, 0.0, 1.0, 0.3, 0.5, 0.5], 0.0), ([0.9, 0.0, 0.9, 0.3, 0.5, 0.1], 0.0), ([0.9, 1.0, 0.9, 0.5, 0.4, 0.3], 0.0), ([1.0, 1.0, 0.8, 0.3, 0.4, 0.3], 0.02), ([0.9, 1.0, 1.0, 0.3, 0.2, 0.3], 0.0), ([0.8, 4.0, 1.0, 0.1, 0.5, 0.2], 0.0), ([0.933, 2.0, 0.8, 0.3, 0.3, 0.5], 0.0), ([0.925, 2.0, 0.8, 0.3, 0.3, 0.4], 0.0), ([0.875, 2.0, 0.9, 0.4, 0.3, 0.4], 0.0), ([0.864, 2.0, 0.9, 0.2, 0.4, 0.2], 0.02), ([0.859, 0.0, 0.9, 0.4, 0.4, 0.2], 0.0), ([0.917, 1.0, 0.9, 0.3, 0.5, 0.3], 0.0), ([0.85, 0.0, 0.9, 0.2, 0.4, 0.4], 0.0), ([0.907, 1.0, 1.0, 0.3, 0.4, 0.3], 0.0)])"
      ]
     },
     "execution_count": 40,
     "metadata": {},
     "output_type": "execute_result"
    }
   ],
   "source": [
    "@time s, t = do_opt(u0_1;\n",
    "    maxtime=20,\n",
    "    num_repeats=50,\n",
    "    timelimit=2\n",
    ")"
   ]
  },
  {
   "cell_type": "code",
   "execution_count": 21,
   "id": "ec30d4ed-05b1-491d-a9f8-1c3d286fd44d",
   "metadata": {},
   "outputs": [
    {
     "data": {
      "text/plain": [
       "(x_best_feas = [0.6, 3.0, 1.0, 0.3, 0.4, 0.2], bbo_best_feas = [-0.061224], x_best_inf = nothing, bbo_best_inf = nothing)"
      ]
     },
     "execution_count": 21,
     "metadata": {},
     "output_type": "execute_result"
    }
   ],
   "source": [
    "s"
   ]
  },
  {
   "cell_type": "code",
   "execution_count": 24,
   "id": "aaa0418f-37db-47a3-9e79-f745f3ffe56e",
   "metadata": {},
   "outputs": [
    {
     "data": {
      "text/plain": [
       "9-element Vector{Vector{Float64}}:\n",
       " [0.9, 2.0, 1.0, 0.2, 0.5, 0.2]\n",
       " [0.9, 3.0, 1.0, 0.1, 0.6, 0.1]\n",
       " [0.9, 1.0, 0.9, 0.3, 0.4, 0.3]\n",
       " [0.9, 3.0, 1.0, 0.2, 0.5, 0.2]\n",
       " [1.0, 2.0, 1.0, 0.2, 0.5, 0.2]\n",
       " [0.8, 2.0, 1.0, 0.3, 0.5, 0.2]\n",
       " [0.5, 2.0, 1.0, 0.6, 0.5, 0.2]\n",
       " [0.7, 1.0, 1.0, 0.4, 0.5, 0.2]\n",
       " [0.6, 3.0, 1.0, 0.3, 0.4, 0.2]"
      ]
     },
     "execution_count": 24,
     "metadata": {},
     "output_type": "execute_result"
    }
   ],
   "source": [
    "getindex.(t, 1)"
   ]
  },
  {
   "cell_type": "code",
   "execution_count": null,
   "id": "61148117-bca3-4a19-850a-1efa6e2dbb59",
   "metadata": {},
   "outputs": [],
   "source": []
  },
  {
   "cell_type": "markdown",
   "id": "b0e40fbb-73d3-4633-b880-4120cf9472e3",
   "metadata": {},
   "source": [
    "# Plotting 1"
   ]
  },
  {
   "cell_type": "code",
   "execution_count": 42,
   "id": "206537e0-7903-4799-a026-44ce39a401c9",
   "metadata": {},
   "outputs": [
    {
     "data": {
      "text/plain": [
       "JLDFile /home/honza/UCLOneDrive/Projects/SSMC/cluster_env/runs/rg_nomad_unstructured1/temp_Tidy-Olive-Vervet/2.jld2 (read-only)\n",
       " ├─🔢 u0\n",
       " ├─🔢 s\n",
       " └─🔢 t"
      ]
     },
     "execution_count": 42,
     "metadata": {},
     "output_type": "execute_result"
    }
   ],
   "source": [
    "f = jldopen(\"temp_Tidy-Olive-Vervet/2.jld2\")"
   ]
  },
  {
   "cell_type": "code",
   "execution_count": 45,
   "id": "44d1dd84-5947-4a98-b1ef-e39b66df66b4",
   "metadata": {},
   "outputs": [
    {
     "data": {
      "text/plain": [
       "GLMakie.Screen(...)"
      ]
     },
     "execution_count": 45,
     "metadata": {},
     "output_type": "execute_result"
    }
   ],
   "source": [
    "faa = plot_trajectory(f[\"t\"];\n",
    "    pnames=[\"m\", \"c\", \"l\", \"si\", \"sr\", \"sb\"],\n",
    "    vs_coloring=:obj,\n",
    "    # single_y=:time,\n",
    "    # single_coloring=:obj,\n",
    ")\n",
    "display(GLMakie.Screen(), faa.figure)"
   ]
  },
  {
   "cell_type": "code",
   "execution_count": 101,
   "id": "068c7603-c6fb-40de-b8ab-4735155ae43f",
   "metadata": {},
   "outputs": [
    {
     "data": {
      "text/plain": [
       "(x_best_feas = [1.50042771310142, 7.43879187839, 0.999984124, 0.14021410449451, 0.986709111, 0.12551174862483], bbo_best_feas = [-0.271543], x_best_inf = nothing, bbo_best_inf = nothing)"
      ]
     },
     "execution_count": 101,
     "metadata": {},
     "output_type": "execute_result"
    }
   ],
   "source": [
    "f[\"s\"]"
   ]
  },
  {
   "cell_type": "code",
   "execution_count": 100,
   "id": "67142818-5e2b-44dd-aba2-42626aa863ff",
   "metadata": {},
   "outputs": [
    {
     "data": {
      "text/plain": [
       "([1.50042771271599, 7.43879186842563, 0.99998412400621, 0.14021410385821, 0.98670911043217, 0.12551174874534], 0.23947895791583165)"
      ]
     },
     "execution_count": 100,
     "metadata": {},
     "output_type": "execute_result"
    }
   ],
   "source": [
    "f[\"t\"][end]"
   ]
  },
  {
   "cell_type": "code",
   "execution_count": null,
   "id": "e05e939f-0177-44ee-9c7e-7a0555924990",
   "metadata": {},
   "outputs": [],
   "source": []
  },
  {
   "cell_type": "markdown",
   "id": "60ddb5a7-237c-46ee-ab9f-8ec01e9b529b",
   "metadata": {},
   "source": [
    "# Plotting 2 - merging trajectories"
   ]
  },
  {
   "cell_type": "code",
   "execution_count": 40,
   "id": "e6b34fe1-c62d-482c-8967-f63d71f3d7f6",
   "metadata": {},
   "outputs": [
    {
     "name": "stdout",
     "output_type": "stream",
     "text": [
      "[2.36978682628119, 3.81806604889005, 0.24923549087154, 0.65432786261066, 0.30346978678087, 0.89794987564763]\n",
      "[1.50042771310142, 7.43879187839, 0.999984124, 0.14021410449451, 0.986709111, 0.12551174862483]\n",
      "[0.33365591122371, 7.32998823866509, 0.0, 0.24968970061003, 0.0484869527919, 0.39061919245546]\n"
     ]
    },
    {
     "data": {
      "text/plain": [
       "3"
      ]
     },
     "execution_count": 40,
     "metadata": {},
     "output_type": "execute_result"
    }
   ],
   "source": [
    "ts = []\n",
    "for i in 1:3\n",
    "    f = jldopen(\"temp_Tidy-Olive-Vervet/$i.jld2\")\n",
    "    @printf \"%s\\n\" string(f[\"s\"].x_best_feas)\n",
    "    push!(ts, f[\"t\"])\n",
    "end\n",
    "length(ts)"
   ]
  },
  {
   "cell_type": "code",
   "execution_count": 41,
   "id": "6aebe605-4dde-45b2-bb4e-f8d6f739afbd",
   "metadata": {},
   "outputs": [
    {
     "data": {
      "text/plain": [
       "GLMakie.Screen(...)"
      ]
     },
     "execution_count": 41,
     "metadata": {},
     "output_type": "execute_result"
    }
   ],
   "source": [
    "faa = plot_all_trajectories_obj(ts;\n",
    "    pnames=[\"m\", \"c\", \"l\", \"si\", \"sr\", \"sb\"],\n",
    ")\n",
    "display(GLMakie.Screen(), faa.figure)"
   ]
  },
  {
   "cell_type": "code",
   "execution_count": null,
   "id": "725e1e72-ad64-4a5d-8c8a-b8c321d43ca5",
   "metadata": {},
   "outputs": [],
   "source": []
  },
  {
   "cell_type": "code",
   "execution_count": null,
   "id": "4c7f42ca-7515-4b71-a8fc-3c542aa261e0",
   "metadata": {},
   "outputs": [],
   "source": []
  },
  {
   "cell_type": "code",
   "execution_count": null,
   "id": "4ace0c17-f6f3-441f-b07e-b6b1ce93e137",
   "metadata": {},
   "outputs": [],
   "source": []
  },
  {
   "cell_type": "code",
   "execution_count": null,
   "id": "9604397d-f81e-4366-9d02-6705d69ab54f",
   "metadata": {},
   "outputs": [],
   "source": []
  },
  {
   "cell_type": "markdown",
   "id": "1acf7b27-cdb2-4119-9879-75fe86cf1a04",
   "metadata": {},
   "source": [
    "# Extra"
   ]
  },
  {
   "cell_type": "code",
   "execution_count": 189,
   "id": "c3c588e2-3f40-4c2d-b69f-e710490a4415",
   "metadata": {},
   "outputs": [],
   "source": [
    "GC.gc()\n",
    "empty!(Out)\n",
    "GC.gc()"
   ]
  }
 ],
 "metadata": {
  "kernelspec": {
   "display_name": "Julia (18 threads) default",
   "language": "julia",
   "name": "julia-_18-threads_-1.10"
  },
  "language_info": {
   "file_extension": ".jl",
   "mimetype": "application/julia",
   "name": "julia",
   "version": "1.10.10"
  }
 },
 "nbformat": 4,
 "nbformat_minor": 5
}
