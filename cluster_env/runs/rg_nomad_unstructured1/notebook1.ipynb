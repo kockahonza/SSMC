{
 "cells": [
  {
   "cell_type": "code",
   "execution_count": 6,
   "id": "a8c37661-caf4-4a37-802b-db8b3bbd6ec8",
   "metadata": {},
   "outputs": [
    {
     "name": "stderr",
     "output_type": "stream",
     "text": [
      "\u001b[32m\u001b[1m  Activating\u001b[22m\u001b[39m project at `~/UCLOneDrive/Projects/SSMC`\n"
     ]
    }
   ],
   "source": [
    "]activate ../../../"
   ]
  },
  {
   "cell_type": "code",
   "execution_count": 7,
   "id": "2dc0a957-830f-4fa3-a2b8-4f1745d7911b",
   "metadata": {},
   "outputs": [],
   "source": [
    "using Revise\n",
    "includet(\"job.jl\")"
   ]
  },
  {
   "cell_type": "code",
   "execution_count": 8,
   "id": "7ac47e01-3fd0-45ea-8798-cac2877abbed",
   "metadata": {},
   "outputs": [],
   "source": [
    "using CairoMakie\n",
    "using GLMakie\n",
    "CairoMakie.activate!()\n",
    "# display(GLMakie.Screen(), f.figure)"
   ]
  },
  {
   "cell_type": "markdown",
   "id": "279e8def-e536-48ca-acc8-88da6217ce3b",
   "metadata": {
    "jp-MarkdownHeadingCollapsed": true
   },
   "source": [
    "# Testing 1"
   ]
  },
  {
   "cell_type": "code",
   "execution_count": 7,
   "id": "7e3d2489-4378-46ad-ad98-32202caacb96",
   "metadata": {},
   "outputs": [
    {
     "name": "stdout",
     "output_type": "stream",
     "text": [
      " 84.114049 seconds (102.16 M allocations: 38.594 GiB, 3.82% gc time, 332.61% compilation time: <1% of which was recompilation)\n"
     ]
    },
    {
     "data": {
      "text/plain": [
       "0.09929789368104312"
      ]
     },
     "execution_count": 7,
     "metadata": {},
     "output_type": "execute_result"
    }
   ],
   "source": [
    "@time do_run1(0.6, 3.0, 1.0, 0.3, 0.4, 0.2;\n",
    "    N=10,\n",
    "    num_repeats=1000,\n",
    "    timelimit=5\n",
    ")"
   ]
  },
  {
   "cell_type": "code",
   "execution_count": 40,
   "id": "1c592ac4-fb17-4865-af78-91d414db3c54",
   "metadata": {},
   "outputs": [
    {
     "name": "stdout",
     "output_type": "stream",
     "text": [
      " -0       \t(   0.9        2          1          0.2        0.5        0.2      )\t1 -0.000000 \n",
      " -0       \t(   0.9        3          1          0.1        0.6        0.1      )\t2 -0.000000 \n",
      " -0.02    \t(   0.9        1          0.9        0.3        0.4        0.3      )\t3 -0.020000 \n",
      " -0       \t(   0.9        0          0.6        0.6        0.1        0.6      )\t4 -0.000000 \n",
      " -0       \t(   0.9        0          0.7        0.3        0.3        0.4      )\t5 -0.000000 \n",
      " -0       \t(   0.9        0          1          0.3        0.5        0.5      )\t6 -0.000000 \n",
      " -0       \t(   0.9        0          0.9        0.3        0.5        0.1      )\t7 -0.000000 \n",
      " -0       \t(   0.9        1          0.9        0.5        0.4        0.3      )\t8 -0.000000 \n",
      " -0.02    \t(   1          1          0.8        0.3        0.4        0.3      )\t9 -0.020000 \n",
      " -0       \t(   0.9        1          1          0.3        0.2        0.3      )\t10 -0.000000 \n",
      " -0       \t(   0.8        4          1          0.1        0.5        0.2      )\t11 -0.000000 \n",
      " -0       \t(   0.933      2          0.8        0.3        0.3        0.5      )\t12 -0.000000 \n",
      " -0       \t(   0.925      2          0.8        0.3        0.3        0.4      )\t13 -0.000000 \n",
      " -0       \t(   0.875      2          0.9        0.4        0.3        0.4      )\t14 -0.000000 \n",
      " -0.02    \t(   0.864      2          0.9        0.2        0.4        0.2      )\t15 -0.020000 \n",
      " -0       \t(   0.859      0          0.9        0.4        0.4        0.2      )\t16 -0.000000 \n",
      " -0       \t(   0.917      1          0.9        0.3        0.5        0.3      )\t17 -0.000000 \n",
      " -0       \t(   0.85       0          0.9        0.2        0.4        0.4      )\t18 -0.000000 \n",
      " -0       \t(   0.907      1          1          0.3        0.4        0.3      )\t19 -0.000000 \n",
      "A termination criterion is reached: Maximum allowed time reached (Base) No more points to evaluate\n",
      "\n",
      "Best feasible solution:     #2 ( 0.9 1 0.9 0.3 0.4 0.3 )\tEvaluation OK\t f =  -0.02000000000000000042\t h =   0                     \n",
      "\n",
      "Best infeasible solution:   Undefined.\n",
      "\n",
      "Blackbox evaluations:         19\n",
      "Total model evaluations:      910\n",
      "Cache hits:                   1\n",
      "Total number of evaluations:  20\n",
      " 31.476369 seconds (14.66 M allocations: 2.251 GiB, 0.73% gc time)\n",
      " 32.226498 seconds (14.66 M allocations: 2.251 GiB, 3.03% gc time)\n"
     ]
    },
    {
     "data": {
      "text/plain": [
       "((x_best_feas = [0.864, 2.0, 0.9, 0.2, 0.4, 0.2], bbo_best_feas = [-0.02], x_best_inf = nothing, bbo_best_inf = nothing), [([0.9, 2.0, 1.0, 0.2, 0.5, 0.2], 0.0), ([0.9, 3.0, 1.0, 0.1, 0.6, 0.1], 0.0), ([0.9, 1.0, 0.9, 0.3, 0.4, 0.3], 0.02), ([0.9, 0.0, 0.6, 0.6, 0.1, 0.6], 0.0), ([0.9, 0.0, 0.7, 0.3, 0.3, 0.4], 0.0), ([0.9, 0.0, 1.0, 0.3, 0.5, 0.5], 0.0), ([0.9, 0.0, 0.9, 0.3, 0.5, 0.1], 0.0), ([0.9, 1.0, 0.9, 0.5, 0.4, 0.3], 0.0), ([1.0, 1.0, 0.8, 0.3, 0.4, 0.3], 0.02), ([0.9, 1.0, 1.0, 0.3, 0.2, 0.3], 0.0), ([0.8, 4.0, 1.0, 0.1, 0.5, 0.2], 0.0), ([0.933, 2.0, 0.8, 0.3, 0.3, 0.5], 0.0), ([0.925, 2.0, 0.8, 0.3, 0.3, 0.4], 0.0), ([0.875, 2.0, 0.9, 0.4, 0.3, 0.4], 0.0), ([0.864, 2.0, 0.9, 0.2, 0.4, 0.2], 0.02), ([0.859, 0.0, 0.9, 0.4, 0.4, 0.2], 0.0), ([0.917, 1.0, 0.9, 0.3, 0.5, 0.3], 0.0), ([0.85, 0.0, 0.9, 0.2, 0.4, 0.4], 0.0), ([0.907, 1.0, 1.0, 0.3, 0.4, 0.3], 0.0)])"
      ]
     },
     "execution_count": 40,
     "metadata": {},
     "output_type": "execute_result"
    }
   ],
   "source": [
    "@time s, t = do_opt(u0_1;\n",
    "    maxtime=20,\n",
    "    num_repeats=50,\n",
    "    timelimit=2\n",
    ")"
   ]
  },
  {
   "cell_type": "code",
   "execution_count": 21,
   "id": "ec30d4ed-05b1-491d-a9f8-1c3d286fd44d",
   "metadata": {},
   "outputs": [
    {
     "data": {
      "text/plain": [
       "(x_best_feas = [0.6, 3.0, 1.0, 0.3, 0.4, 0.2], bbo_best_feas = [-0.061224], x_best_inf = nothing, bbo_best_inf = nothing)"
      ]
     },
     "execution_count": 21,
     "metadata": {},
     "output_type": "execute_result"
    }
   ],
   "source": [
    "s"
   ]
  },
  {
   "cell_type": "code",
   "execution_count": 24,
   "id": "aaa0418f-37db-47a3-9e79-f745f3ffe56e",
   "metadata": {},
   "outputs": [
    {
     "data": {
      "text/plain": [
       "9-element Vector{Vector{Float64}}:\n",
       " [0.9, 2.0, 1.0, 0.2, 0.5, 0.2]\n",
       " [0.9, 3.0, 1.0, 0.1, 0.6, 0.1]\n",
       " [0.9, 1.0, 0.9, 0.3, 0.4, 0.3]\n",
       " [0.9, 3.0, 1.0, 0.2, 0.5, 0.2]\n",
       " [1.0, 2.0, 1.0, 0.2, 0.5, 0.2]\n",
       " [0.8, 2.0, 1.0, 0.3, 0.5, 0.2]\n",
       " [0.5, 2.0, 1.0, 0.6, 0.5, 0.2]\n",
       " [0.7, 1.0, 1.0, 0.4, 0.5, 0.2]\n",
       " [0.6, 3.0, 1.0, 0.3, 0.4, 0.2]"
      ]
     },
     "execution_count": 24,
     "metadata": {},
     "output_type": "execute_result"
    }
   ],
   "source": [
    "getindex.(t, 1)"
   ]
  },
  {
   "cell_type": "code",
   "execution_count": null,
   "id": "61148117-bca3-4a19-850a-1efa6e2dbb59",
   "metadata": {},
   "outputs": [],
   "source": []
  },
  {
   "cell_type": "markdown",
   "id": "b0e40fbb-73d3-4633-b880-4120cf9472e3",
   "metadata": {},
   "source": [
    "# Plotting 1"
   ]
  },
  {
   "cell_type": "code",
   "execution_count": 82,
   "id": "206537e0-7903-4799-a026-44ce39a401c9",
   "metadata": {},
   "outputs": [
    {
     "data": {
      "text/plain": [
       "JLDFile /home/honza/UCLOneDrive/Projects/SSMC/cluster_env/runs/rg_nomad_unstructured1/temp_Dry-Jade-Caracal/5.jld2 (read-only)\n",
       " ├─🔢 u0\n",
       " ├─🔢 s\n",
       " └─🔢 t"
      ]
     },
     "execution_count": 82,
     "metadata": {},
     "output_type": "execute_result"
    }
   ],
   "source": [
    "f = jldopen(\"temp_Dry-Jade-Caracal/5.jld2\")"
   ]
  },
  {
   "cell_type": "code",
   "execution_count": 65,
   "id": "44d1dd84-5947-4a98-b1ef-e39b66df66b4",
   "metadata": {},
   "outputs": [
    {
     "data": {
      "text/plain": [
       "GLMakie.Screen(...)"
      ]
     },
     "execution_count": 65,
     "metadata": {},
     "output_type": "execute_result"
    }
   ],
   "source": [
    "faa = plot_trajectory(f[\"t\"];\n",
    "    pnames=[\"m\", \"c\", \"l\", \"si\", \"sr\", \"sb\"],\n",
    "    vs_coloring=:obj,\n",
    "    # single_y=:time,\n",
    "    # single_coloring=:obj,\n",
    ")\n",
    "display(GLMakie.Screen(), faa.figure)"
   ]
  },
  {
   "cell_type": "code",
   "execution_count": 101,
   "id": "068c7603-c6fb-40de-b8ab-4735155ae43f",
   "metadata": {},
   "outputs": [
    {
     "data": {
      "text/plain": [
       "(x_best_feas = [1.50042771310142, 7.43879187839, 0.999984124, 0.14021410449451, 0.986709111, 0.12551174862483], bbo_best_feas = [-0.271543], x_best_inf = nothing, bbo_best_inf = nothing)"
      ]
     },
     "execution_count": 101,
     "metadata": {},
     "output_type": "execute_result"
    }
   ],
   "source": [
    "f[\"s\"]"
   ]
  },
  {
   "cell_type": "code",
   "execution_count": 100,
   "id": "67142818-5e2b-44dd-aba2-42626aa863ff",
   "metadata": {},
   "outputs": [
    {
     "data": {
      "text/plain": [
       "([1.50042771271599, 7.43879186842563, 0.99998412400621, 0.14021410385821, 0.98670911043217, 0.12551174874534], 0.23947895791583165)"
      ]
     },
     "execution_count": 100,
     "metadata": {},
     "output_type": "execute_result"
    }
   ],
   "source": [
    "f[\"t\"][end]"
   ]
  },
  {
   "cell_type": "code",
   "execution_count": null,
   "id": "e05e939f-0177-44ee-9c7e-7a0555924990",
   "metadata": {},
   "outputs": [],
   "source": []
  },
  {
   "cell_type": "markdown",
   "id": "60ddb5a7-237c-46ee-ab9f-8ec01e9b529b",
   "metadata": {},
   "source": [
    "# Plotting 2 - merging trajectories"
   ]
  },
  {
   "cell_type": "code",
   "execution_count": 89,
   "id": "e6b34fe1-c62d-482c-8967-f63d71f3d7f6",
   "metadata": {},
   "outputs": [
    {
     "name": "stdout",
     "output_type": "stream",
     "text": [
      "-------- -0\n",
      "[7.551433930792248, 0.7440209684276811, 0.21858603389535647, 0.749723922488161, 0.8199893140124453, 0.8461311082706786] ->\n",
      "[6.55143393079225, 0.74402096842768, 0.21858603389536, 0.74972392248816, 0.81998931401245, 0.94613110827068]\n",
      "-------- -0.001\n",
      "[7.929210107458223, 0.16238087710416127, 0.4722917223472114, 0.20809960064432698, 0.5519503617020682, 0.993664093095462] ->\n",
      "[7.92941296745822, 0.16238270710416, 0.47234172234721, 0.20810607164433, 0.55194536370207, 0.99364432109546]\n",
      "-------- -0\n",
      "[6.829122654623138, 4.23791868574936, 0.02525826307534773, 0.5294442049482978, 0.0697877272702283, 0.85838333440182] ->\n",
      "[5.82912265462314, 4.23791868574936, 0.0, 0.5294442049483, 0.06978772727023, 0.85838333440182]\n",
      "-------- -0\n",
      "[0.821821459263401, 5.940341982913231, 0.15289896044732243, 0.9592350311838341, 0.46134029932941734, 0.9966887737593131] ->\n",
      "[0.72182145926341, 4.94034198291324, 0.05289896044734, 1.0, 0.4613402993294, 1.0]\n",
      "-------- -0\n",
      "[6.389280717080722, 7.975461543339874, 0.159750520744514, 0.721266132077635, 0.08019753486906178, 0.5689151683219867] ->\n",
      "[5.38928071708073, 6.9754615433399, 0.05975052074454, 0.62126613207761, 0.0, 0.56891516832197]\n",
      "-------- -0\n",
      "[7.0193382147062, 0.47947529033634084, 0.25014669322943783, 0.9425736778353786, 0.6998372627373483, 0.8742707828200776] ->\n",
      "[6.0193382147062, 0.37947529033635, 0.15014669322942, 0.94257367783538, 0.59983726273734, 0.87427078282006]\n",
      "-------- -0.001\n",
      "[7.503686338092184, 0.646636818328451, 0.6186848239247054, 0.142717682505339, 0.5088447778971903, 0.6817684935550522] ->\n",
      "[7.50369633743794, 0.64663738079533, 0.61868469816258, 0.14271828488309, 0.5088456359932, 0.68176871486173]\n",
      "-------- -0.28\n",
      "[6.735772022900596, 3.923354993240747, 0.30562979857936023, 0.2886834317706124, 0.5855455215604466, 0.4521417544002634] ->\n",
      "[6.7218375619764, 48.03335499324075, 0.99724, 0.18951343177061, 0.99659, 0.65543175440026]\n"
     ]
    },
    {
     "data": {
      "text/plain": [
       "8"
      ]
     },
     "execution_count": 89,
     "metadata": {},
     "output_type": "execute_result"
    }
   ],
   "source": [
    "ts = []\n",
    "for i in 1:100\n",
    "    fin = \"temp_Dry-Jade-Caracal/$i.jld2\"\n",
    "    if !isfile(fin)\n",
    "        break\n",
    "    end\n",
    "    f = jldopen(fin)\n",
    "    push!(ts, f[\"t\"])\n",
    "    @printf \"-------- %.3g\\n%s ->\\n%s\\n\" f[\"s\"].bbo_best_feas[1] string(ts[end][1][1]) string(f[\"s\"].x_best_feas)\n",
    "end\n",
    "length(ts)"
   ]
  },
  {
   "cell_type": "code",
   "execution_count": 80,
   "id": "6aebe605-4dde-45b2-bb4e-f8d6f739afbd",
   "metadata": {},
   "outputs": [
    {
     "data": {
      "text/plain": [
       "GLMakie.Screen(...)"
      ]
     },
     "execution_count": 80,
     "metadata": {},
     "output_type": "execute_result"
    }
   ],
   "source": [
    "faa = plot_all_trajectories_obj(ts;\n",
    "    pnames=[\"m\", \"c\", \"l\", \"si\", \"sr\", \"sb\"],\n",
    ")\n",
    "display(GLMakie.Screen(), faa.figure)"
   ]
  },
  {
   "cell_type": "code",
   "execution_count": null,
   "id": "725e1e72-ad64-4a5d-8c8a-b8c321d43ca5",
   "metadata": {},
   "outputs": [],
   "source": []
  },
  {
   "cell_type": "code",
   "execution_count": null,
   "id": "4c7f42ca-7515-4b71-a8fc-3c542aa261e0",
   "metadata": {},
   "outputs": [],
   "source": []
  },
  {
   "cell_type": "code",
   "execution_count": null,
   "id": "4ace0c17-f6f3-441f-b07e-b6b1ce93e137",
   "metadata": {},
   "outputs": [],
   "source": []
  },
  {
   "cell_type": "code",
   "execution_count": null,
   "id": "9604397d-f81e-4366-9d02-6705d69ab54f",
   "metadata": {},
   "outputs": [],
   "source": []
  },
  {
   "cell_type": "markdown",
   "id": "1acf7b27-cdb2-4119-9879-75fe86cf1a04",
   "metadata": {},
   "source": [
    "# Extra"
   ]
  },
  {
   "cell_type": "code",
   "execution_count": 189,
   "id": "c3c588e2-3f40-4c2d-b69f-e710490a4415",
   "metadata": {},
   "outputs": [],
   "source": [
    "GC.gc()\n",
    "empty!(Out)\n",
    "GC.gc()"
   ]
  }
 ],
 "metadata": {
  "kernelspec": {
   "display_name": "Julia (18 threads) default",
   "language": "julia",
   "name": "julia-_18-threads_-1.10"
  },
  "language_info": {
   "file_extension": ".jl",
   "mimetype": "application/julia",
   "name": "julia",
   "version": "1.10.10"
  }
 },
 "nbformat": 4,
 "nbformat_minor": 5
}
