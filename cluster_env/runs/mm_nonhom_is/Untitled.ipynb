{
 "cells": [
  {
   "cell_type": "code",
   "execution_count": 1,
   "id": "69fbe156-ad9b-4138-a463-b0d9c03bb3df",
   "metadata": {},
   "outputs": [
    {
     "name": "stderr",
     "output_type": "stream",
     "text": [
      "\u001b[32m\u001b[1mPrecompiling\u001b[22m\u001b[39m packages...\n",
      "  31425.8 ms\u001b[32m  ✓ \u001b[39mSSMCMain\n",
      "  1 dependency successfully precompiled in 81 seconds. 510 already precompiled.\n"
     ]
    }
   ],
   "source": [
    "using Revise; includet(\"job.jl\")"
   ]
  },
  {
   "cell_type": "code",
   "execution_count": null,
   "id": "f9778165-6ddc-4c8a-9f74-9542d81a59a0",
   "metadata": {},
   "outputs": [],
   "source": [
    "sps = load_object(\"out/run_3.jld2\");"
   ]
  },
  {
   "cell_type": "code",
   "execution_count": null,
   "id": "ea18400a-6554-4860-a9ab-b392c45ba704",
   "metadata": {},
   "outputs": [],
   "source": [
    "print_spatial_solution_stats(sps)"
   ]
  },
  {
   "cell_type": "code",
   "execution_count": null,
   "id": "311c8c6e-55d5-429c-8835-f212320b80e0",
   "metadata": {},
   "outputs": [],
   "source": [
    "plot_2dsmmicrm_sol_snap_heatmap(sps, -1)"
   ]
  },
  {
   "cell_type": "code",
   "execution_count": null,
   "id": "0e5fd93f-d79e-4093-89bc-a996d5e11f98",
   "metadata": {},
   "outputs": [],
   "source": [
    "plot_2dsmmicrm_sol_animation_heatmap(sps, \"out/run_3_ani.mp4\")"
   ]
  }
 ],
 "metadata": {
  "kernelspec": {
   "display_name": "Julia 1.10.9",
   "language": "julia",
   "name": "julia-1.10"
  },
  "language_info": {
   "file_extension": ".jl",
   "mimetype": "application/julia",
   "name": "julia",
   "version": "1.10.9"
  }
 },
 "nbformat": 4,
 "nbformat_minor": 5
}
